{
 "cells": [
  {
   "cell_type": "markdown",
   "metadata": {
    "colab_type": "text",
    "id": "JIHmieTxP0iW"
   },
   "source": [
    "Todo \n",
    "\n",
    "- [ ] Checar dados faltantes em raca e sexo"
   ]
  },
  {
   "cell_type": "code",
   "execution_count": 1,
   "metadata": {
    "colab": {},
    "colab_type": "code",
    "id": "sbRveY6NaOpz"
   },
   "outputs": [],
   "source": [
    "import pandas as pd\n",
    "import numpy as np"
   ]
  },
  {
   "cell_type": "code",
   "execution_count": 2,
   "metadata": {
    "colab": {},
    "colab_type": "code",
    "id": "UnQfMpGPboJv"
   },
   "outputs": [],
   "source": [
    "# Datasets\n",
    "url_discentes_2019 = \"http://dados.ufrn.br/dataset/554c2d41-cfce-4278-93c6-eb9aa49c5d16/resource/a55aef81-e094-4267-8643-f283524e3dd7/download/discentes-2019.csv\"\n",
    "url_cursos = \"http://dados.ufrn.br/dataset/02526b96-cf40-4507-90b0-3afe5ddd53e7/resource/a10bc434-9a2d-491a-ae8c-41cf643c35bc/download/cursos-de-graduacao.csv\"\n",
    "\n",
    "# ColunaS\n",
    "COLUNAS_ALUNO = ['sexo', 'raca', 'tipo_discente', 'status', 'sigla_nivel_ensino', 'matricula', 'id_curso']\n",
    "COLUNAS_CURSO = ['nome', 'nivel_ensino', 'area_conhecimento', 'id_curso']\n",
    "\n",
    "discentes = pd.read_csv(url_discentes_2019, sep=';')\n",
    "alunos_ativos_2019 = (discentes.status == 'ATIVO') & (discentes.sigla_nivel_ensino == 'G')\n",
    "dados_discentes = discentes.loc[ alunos_ativos_2019 , COLUNAS_ALUNO ]\n",
    "\n",
    "cursos = pd.read_csv(url_cursos, sep=';')\n",
    "cursos_graduacao = cursos.loc[ cursos.nivel_ensino == 'GRADUAÇÃO',  COLUNAS_CURSO ]\n",
    "dist_cursos_2019 = cursos_graduacao.set_index('id_curso')"
   ]
  },
  {
   "cell_type": "markdown",
   "metadata": {
    "colab_type": "text",
    "id": "9H-F1ygiHWiN"
   },
   "source": [
    "### Pre processamento"
   ]
  },
  {
   "cell_type": "code",
   "execution_count": 9,
   "metadata": {
    "colab": {
     "base_uri": "https://localhost:8080/",
     "height": 1071
    },
    "colab_type": "code",
    "id": "eWha54fgHZWX",
    "outputId": "df0ccf92-ce03-49a6-8c5f-ad169bd02e7e"
   },
   "outputs": [
    {
     "data": {
      "text/plain": [
       "GEOGRAFIA                                2\n",
       "PEDAGOGIA                                2\n",
       "PSICOLOGIA                               2\n",
       "LETRAS - LÍNGUA PORTUGUESA               2\n",
       "QUÍMICA DO PETRÓLEO                      1\n",
       "FÍSICA                                   1\n",
       "COMUNICAÇÃO SOCIAL - AUDIOVISUAL         1\n",
       "ESTATÍSTICA                              1\n",
       "ENGENHARIA MECATRÔNICA                   1\n",
       "METEOROLOGIA                             1\n",
       "ENGENHARIA DE PETRÓLEO                   1\n",
       "ECOLOGIA                                 1\n",
       "FISIOTERAPIA                             1\n",
       "LETRAS                                   1\n",
       "ENGENHARIA DE COMPUTAÇÃO                 1\n",
       "BIOMEDICINA                              1\n",
       "FONOAUDIOLOGIA                           1\n",
       "ENGENHARIA AMBIENTAL                     1\n",
       "ENFERMAGEM                               1\n",
       "ANÁLISE E DESENVOLVIMENTO DE SISTEMAS    1\n",
       "ENGENHARIA DE ALIMENTOS                  1\n",
       "ENGENHARIA AGRONÔMICA                    1\n",
       "ENGENHARIA DE SOFTWARE                   1\n",
       "CIÊNCIAS ATUARIAIS                       1\n",
       "EDUCAÇÃO FÍSICA                          1\n",
       "ENGENHARIA DE MATERIAIS                  1\n",
       "ENGENHARIA CIVIL                         1\n",
       "CIÊNCIAS ECONÔMICAS                      1\n",
       "BIBLIOTECONOMIA                          1\n",
       "GESTÃO DE POLÍTICAS PÚBLICAS             1\n",
       "                                        ..\n",
       "DANÇA                                    1\n",
       "ENGENHARIA MECÂNICA                      1\n",
       "ENGENHARIA DE TELECOMUNICAÇÕES           1\n",
       "ENGENHARIA FLORESTAL                     1\n",
       "GEOFÍSICA                                1\n",
       "ENGENHARIA ELÉTRICA                      1\n",
       "TEATRO                                   1\n",
       "CIÊNCIAS BIOLÓGICAS                      1\n",
       "SISTEMAS DE INFORMAÇÃO                   1\n",
       "ENGENHARIA DE AQUICULTURA                1\n",
       "GEOLOGIA                                 1\n",
       "CIÊNCIAS SOCIAIS                         1\n",
       "NUTRIÇÃO                                 1\n",
       "JORNALISMO                               1\n",
       "TECNOLOGIA DA INFORMAÇÃO                 1\n",
       "ENGENHARIA DE PRODUÇÃO                   1\n",
       "CIÊNCIAS E TECNOLOGIA                    1\n",
       "SERVIÇO SOCIAL                           1\n",
       "LETRAS - LÍNGUA ESPANHOLA                1\n",
       "MÚSICA                                   1\n",
       "ADMINISTRAÇÃO PÚBLICA                    1\n",
       "ARTES VISUAIS                            1\n",
       "LETRAS - FRANCÊS                         1\n",
       "HISTÓRIA                                 1\n",
       "QUÍMICA                                  1\n",
       "ADMINISTRAÇÃO                            1\n",
       "ENGENHARIA BIOMÉDICA                     1\n",
       "LICENCIATURA EM CIÊNCIAS SOCIAIS         1\n",
       "CIÊNCIA DA COMPUTAÇÃO                    1\n",
       "FILOSOFIA                                1\n",
       "Name: nome, Length: 79, dtype: int64"
      ]
     },
     "execution_count": 9,
     "metadata": {
      "tags": []
     },
     "output_type": "execute_result"
    }
   ],
   "source": [
    "cursos_graduacao[['nome','area_conhecimento']].drop_duplicates()['nome'].value_counts()"
   ]
  },
  {
   "cell_type": "code",
   "execution_count": 10,
   "metadata": {
    "colab": {
     "base_uri": "https://localhost:8080/",
     "height": 204
    },
    "colab_type": "code",
    "id": "3gBXYMhwIlW6",
    "outputId": "2db39f5e-3e62-40f5-a5a6-6ecf767e1ca3"
   },
   "outputs": [
    {
     "data": {
      "text/html": [
       "<div>\n",
       "<style scoped>\n",
       "    .dataframe tbody tr th:only-of-type {\n",
       "        vertical-align: middle;\n",
       "    }\n",
       "\n",
       "    .dataframe tbody tr th {\n",
       "        vertical-align: top;\n",
       "    }\n",
       "\n",
       "    .dataframe thead th {\n",
       "        text-align: right;\n",
       "    }\n",
       "</style>\n",
       "<table border=\"1\" class=\"dataframe\">\n",
       "  <thead>\n",
       "    <tr style=\"text-align: right;\">\n",
       "      <th></th>\n",
       "      <th>nome</th>\n",
       "      <th>nivel_ensino</th>\n",
       "      <th>area_conhecimento</th>\n",
       "      <th>id_curso</th>\n",
       "    </tr>\n",
       "  </thead>\n",
       "  <tbody>\n",
       "    <tr>\n",
       "      <th>0</th>\n",
       "      <td>ADMINISTRAÇÃO</td>\n",
       "      <td>GRADUAÇÃO</td>\n",
       "      <td>Ciências Sociais Aplicadas</td>\n",
       "      <td>2000002</td>\n",
       "    </tr>\n",
       "    <tr>\n",
       "      <th>1</th>\n",
       "      <td>ADMINISTRAÇÃO PÚBLICA</td>\n",
       "      <td>GRADUAÇÃO</td>\n",
       "      <td>Ciências Sociais Aplicadas</td>\n",
       "      <td>15315770</td>\n",
       "    </tr>\n",
       "    <tr>\n",
       "      <th>2</th>\n",
       "      <td>ANÁLISE E DESENVOLVIMENTO DE SISTEMAS</td>\n",
       "      <td>GRADUAÇÃO</td>\n",
       "      <td>Outra</td>\n",
       "      <td>94598200</td>\n",
       "    </tr>\n",
       "    <tr>\n",
       "      <th>3</th>\n",
       "      <td>ARQUITETURA E URBANISMO</td>\n",
       "      <td>GRADUAÇÃO</td>\n",
       "      <td>Engenharias</td>\n",
       "      <td>2000005</td>\n",
       "    </tr>\n",
       "    <tr>\n",
       "      <th>4</th>\n",
       "      <td>ARTES VISUAIS</td>\n",
       "      <td>GRADUAÇÃO</td>\n",
       "      <td>Linguística, Letras e Artes</td>\n",
       "      <td>2000123</td>\n",
       "    </tr>\n",
       "  </tbody>\n",
       "</table>\n",
       "</div>"
      ],
      "text/plain": [
       "                                    nome nivel_ensino  \\\n",
       "0                          ADMINISTRAÇÃO    GRADUAÇÃO   \n",
       "1                  ADMINISTRAÇÃO PÚBLICA    GRADUAÇÃO   \n",
       "2  ANÁLISE E DESENVOLVIMENTO DE SISTEMAS    GRADUAÇÃO   \n",
       "3                ARQUITETURA E URBANISMO    GRADUAÇÃO   \n",
       "4                          ARTES VISUAIS    GRADUAÇÃO   \n",
       "\n",
       "             area_conhecimento  id_curso  \n",
       "0   Ciências Sociais Aplicadas   2000002  \n",
       "1   Ciências Sociais Aplicadas  15315770  \n",
       "2                        Outra  94598200  \n",
       "3                  Engenharias   2000005  \n",
       "4  Linguística, Letras e Artes   2000123  "
      ]
     },
     "execution_count": 10,
     "metadata": {
      "tags": []
     },
     "output_type": "execute_result"
    }
   ],
   "source": [
    "cursos_graduacao.head()"
   ]
  },
  {
   "cell_type": "markdown",
   "metadata": {
    "colab_type": "text",
    "id": "sn_ZegMJbQjm"
   },
   "source": [
    "## Como está hoje?\n",
    "\n",
    "Vamos começar com a porcentagem de mulheres por curso"
   ]
  },
  {
   "cell_type": "code",
   "execution_count": 3,
   "metadata": {
    "colab": {},
    "colab_type": "code",
    "id": "TdBNIS7DJ6lr"
   },
   "outputs": [],
   "source": [
    "# porcentagem de mulheres por curso\n",
    "cursos_e_alunos = pd.merge(left=cursos_graduacao, right=dados_discentes, on='id_curso')"
   ]
  },
  {
   "cell_type": "code",
   "execution_count": 4,
   "metadata": {
    "colab": {
     "base_uri": "https://localhost:8080/",
     "height": 68
    },
    "colab_type": "code",
    "id": "m4hKh-veNtKS",
    "outputId": "f06db336-d912-48ea-85ed-7b62de3dc928"
   },
   "outputs": [
    {
     "data": {
      "text/plain": [
       "Index(['nome', 'nivel_ensino', 'area_conhecimento', 'id_curso', 'sexo', 'raca',\n",
       "       'tipo_discente', 'status', 'sigla_nivel_ensino', 'matricula'],\n",
       "      dtype='object')"
      ]
     },
     "execution_count": 4,
     "metadata": {},
     "output_type": "execute_result"
    }
   ],
   "source": [
    "cursos_e_alunos.columns"
   ]
  },
  {
   "cell_type": "code",
   "execution_count": 5,
   "metadata": {
    "colab": {},
    "colab_type": "code",
    "id": "R-fV5AH7bAgm"
   },
   "outputs": [],
   "source": [
    "cursos_sexos_count = pd.pivot_table(cursos_e_alunos, values='matricula', index=['id_curso'],                    \n",
    "            columns=['sexo'], aggfunc=lambda x: len(x), fill_value=0)"
   ]
  },
  {
   "cell_type": "code",
   "execution_count": 6,
   "metadata": {
    "colab": {
     "base_uri": "https://localhost:8080/",
     "height": 235
    },
    "colab_type": "code",
    "id": "rLVfMdykbCeo",
    "outputId": "ea2ca336-76cf-4358-af02-ec72bece6867"
   },
   "outputs": [
    {
     "data": {
      "text/html": [
       "<div>\n",
       "<style scoped>\n",
       "    .dataframe tbody tr th:only-of-type {\n",
       "        vertical-align: middle;\n",
       "    }\n",
       "\n",
       "    .dataframe tbody tr th {\n",
       "        vertical-align: top;\n",
       "    }\n",
       "\n",
       "    .dataframe thead th {\n",
       "        text-align: right;\n",
       "    }\n",
       "</style>\n",
       "<table border=\"1\" class=\"dataframe\">\n",
       "  <thead>\n",
       "    <tr style=\"text-align: right;\">\n",
       "      <th>sexo</th>\n",
       "      <th>F</th>\n",
       "      <th>M</th>\n",
       "    </tr>\n",
       "    <tr>\n",
       "      <th>id_curso</th>\n",
       "      <th></th>\n",
       "      <th></th>\n",
       "    </tr>\n",
       "  </thead>\n",
       "  <tbody>\n",
       "    <tr>\n",
       "      <th>2000002</th>\n",
       "      <td>37</td>\n",
       "      <td>73</td>\n",
       "    </tr>\n",
       "    <tr>\n",
       "      <th>2000005</th>\n",
       "      <td>13</td>\n",
       "      <td>8</td>\n",
       "    </tr>\n",
       "    <tr>\n",
       "      <th>2000006</th>\n",
       "      <td>23</td>\n",
       "      <td>15</td>\n",
       "    </tr>\n",
       "    <tr>\n",
       "      <th>2000009</th>\n",
       "      <td>13</td>\n",
       "      <td>9</td>\n",
       "    </tr>\n",
       "    <tr>\n",
       "      <th>2000011</th>\n",
       "      <td>37</td>\n",
       "      <td>56</td>\n",
       "    </tr>\n",
       "  </tbody>\n",
       "</table>\n",
       "</div>"
      ],
      "text/plain": [
       "sexo       F   M\n",
       "id_curso        \n",
       "2000002   37  73\n",
       "2000005   13   8\n",
       "2000006   23  15\n",
       "2000009   13   9\n",
       "2000011   37  56"
      ]
     },
     "execution_count": 6,
     "metadata": {},
     "output_type": "execute_result"
    }
   ],
   "source": [
    "cursos_sexos_count.head()"
   ]
  },
  {
   "cell_type": "code",
   "execution_count": 7,
   "metadata": {
    "colab": {},
    "colab_type": "code",
    "id": "-BY0QToWQtSD"
   },
   "outputs": [],
   "source": [
    "# Calcula a porcentagem de mulheres por curso\n",
    "dist_cursos_2019['mulheres_no_curso(%)']= cursos_sexos_count['F'] / (cursos_sexos_count['F'] + cursos_sexos_count['M'])"
   ]
  },
  {
   "cell_type": "code",
   "execution_count": 8,
   "metadata": {
    "colab": {
     "base_uri": "https://localhost:8080/",
     "height": 136
    },
    "colab_type": "code",
    "id": "8PDXcXithaJL",
    "outputId": "5dbc5508-2284-4b6d-eb1b-0899eeb09898"
   },
   "outputs": [
    {
     "name": "stdout",
     "output_type": "stream",
     "text": [
      "id_curso\n",
      "2000002     0.336364\n",
      "15315770    0.000000\n",
      "94598200    0.214286\n",
      "2000005     0.619048\n",
      "2000123     0.545455\n",
      "Name: mulheres_no_curso(%), dtype: float64\n"
     ]
    }
   ],
   "source": [
    "print(dist_cursos_2019['mulheres_no_curso(%)'].head())"
   ]
  },
  {
   "cell_type": "code",
   "execution_count": 9,
   "metadata": {
    "colab": {},
    "colab_type": "code",
    "id": "fF9CNg0GinQN"
   },
   "outputs": [],
   "source": [
    "cursos_racas_count = pd.pivot_table(cursos_e_alunos, values='matricula', index=['id_curso'],                    \n",
    "            columns=['raca'], aggfunc=lambda x: len(x), fill_value=0)\n",
    "\n",
    "cursos_racas_count.columns = cursos_racas_count.columns.str.lower()\n",
    "\n",
    "names = {\n",
    "    \"amarelo (de origem oriental)\": \"amarelo\",\n",
    "    \"indígeno\": \"indigeno\",\n",
    "    \"não informado\": \"nao_informado\"\n",
    "}\n",
    "cursos_racas_count = cursos_racas_count.rename(columns=names)"
   ]
  },
  {
   "cell_type": "code",
   "execution_count": 10,
   "metadata": {
    "colab": {
     "base_uri": "https://localhost:8080/",
     "height": 235
    },
    "colab_type": "code",
    "id": "1ybllsVEi2u4",
    "outputId": "12081e69-e66e-4608-ae8b-288abf4c0aee"
   },
   "outputs": [
    {
     "data": {
      "text/html": [
       "<div>\n",
       "<style scoped>\n",
       "    .dataframe tbody tr th:only-of-type {\n",
       "        vertical-align: middle;\n",
       "    }\n",
       "\n",
       "    .dataframe tbody tr th {\n",
       "        vertical-align: top;\n",
       "    }\n",
       "\n",
       "    .dataframe thead th {\n",
       "        text-align: right;\n",
       "    }\n",
       "</style>\n",
       "<table border=\"1\" class=\"dataframe\">\n",
       "  <thead>\n",
       "    <tr style=\"text-align: right;\">\n",
       "      <th>raca</th>\n",
       "      <th>amarelo</th>\n",
       "      <th>branco</th>\n",
       "      <th>indigeno</th>\n",
       "      <th>negro</th>\n",
       "      <th>nao_informado</th>\n",
       "      <th>pardo</th>\n",
       "    </tr>\n",
       "    <tr>\n",
       "      <th>id_curso</th>\n",
       "      <th></th>\n",
       "      <th></th>\n",
       "      <th></th>\n",
       "      <th></th>\n",
       "      <th></th>\n",
       "      <th></th>\n",
       "    </tr>\n",
       "  </thead>\n",
       "  <tbody>\n",
       "    <tr>\n",
       "      <th>2000002</th>\n",
       "      <td>1</td>\n",
       "      <td>54</td>\n",
       "      <td>1</td>\n",
       "      <td>10</td>\n",
       "      <td>1</td>\n",
       "      <td>43</td>\n",
       "    </tr>\n",
       "    <tr>\n",
       "      <th>2000005</th>\n",
       "      <td>0</td>\n",
       "      <td>13</td>\n",
       "      <td>0</td>\n",
       "      <td>1</td>\n",
       "      <td>0</td>\n",
       "      <td>7</td>\n",
       "    </tr>\n",
       "    <tr>\n",
       "      <th>2000006</th>\n",
       "      <td>0</td>\n",
       "      <td>17</td>\n",
       "      <td>0</td>\n",
       "      <td>4</td>\n",
       "      <td>3</td>\n",
       "      <td>14</td>\n",
       "    </tr>\n",
       "    <tr>\n",
       "      <th>2000009</th>\n",
       "      <td>0</td>\n",
       "      <td>10</td>\n",
       "      <td>0</td>\n",
       "      <td>3</td>\n",
       "      <td>1</td>\n",
       "      <td>8</td>\n",
       "    </tr>\n",
       "    <tr>\n",
       "      <th>2000011</th>\n",
       "      <td>0</td>\n",
       "      <td>42</td>\n",
       "      <td>0</td>\n",
       "      <td>3</td>\n",
       "      <td>1</td>\n",
       "      <td>47</td>\n",
       "    </tr>\n",
       "  </tbody>\n",
       "</table>\n",
       "</div>"
      ],
      "text/plain": [
       "raca      amarelo  branco  indigeno  negro  nao_informado  pardo\n",
       "id_curso                                                        \n",
       "2000002         1      54         1     10              1     43\n",
       "2000005         0      13         0      1              0      7\n",
       "2000006         0      17         0      4              3     14\n",
       "2000009         0      10         0      3              1      8\n",
       "2000011         0      42         0      3              1     47"
      ]
     },
     "execution_count": 10,
     "metadata": {},
     "output_type": "execute_result"
    }
   ],
   "source": [
    "cursos_racas_count.head()"
   ]
  },
  {
   "cell_type": "code",
   "execution_count": 11,
   "metadata": {
    "colab": {},
    "colab_type": "code",
    "id": "zZoRjoJXjYZE"
   },
   "outputs": [],
   "source": [
    "total_racas = cursos_racas_count.sum(axis='columns')\n",
    "\n",
    "for raca in cursos_racas_count.columns:\n",
    "  dist_cursos_2019[raca+'_no_curso(%)']= cursos_racas_count[raca] / total_racas"
   ]
  },
  {
   "cell_type": "code",
   "execution_count": 12,
   "metadata": {
    "colab": {
     "base_uri": "https://localhost:8080/",
     "height": 357
    },
    "colab_type": "code",
    "id": "zYdXSX28oCgD",
    "outputId": "dd013657-519e-4b9a-9c2d-95b7b59d3992"
   },
   "outputs": [
    {
     "data": {
      "text/html": [
       "<div>\n",
       "<style scoped>\n",
       "    .dataframe tbody tr th:only-of-type {\n",
       "        vertical-align: middle;\n",
       "    }\n",
       "\n",
       "    .dataframe tbody tr th {\n",
       "        vertical-align: top;\n",
       "    }\n",
       "\n",
       "    .dataframe thead th {\n",
       "        text-align: right;\n",
       "    }\n",
       "</style>\n",
       "<table border=\"1\" class=\"dataframe\">\n",
       "  <thead>\n",
       "    <tr style=\"text-align: right;\">\n",
       "      <th></th>\n",
       "      <th>nome</th>\n",
       "      <th>nivel_ensino</th>\n",
       "      <th>area_conhecimento</th>\n",
       "      <th>mulheres_no_curso(%)</th>\n",
       "      <th>amarelo_no_curso(%)</th>\n",
       "      <th>branco_no_curso(%)</th>\n",
       "      <th>indigeno_no_curso(%)</th>\n",
       "      <th>negro_no_curso(%)</th>\n",
       "      <th>nao_informado_no_curso(%)</th>\n",
       "      <th>pardo_no_curso(%)</th>\n",
       "    </tr>\n",
       "    <tr>\n",
       "      <th>id_curso</th>\n",
       "      <th></th>\n",
       "      <th></th>\n",
       "      <th></th>\n",
       "      <th></th>\n",
       "      <th></th>\n",
       "      <th></th>\n",
       "      <th></th>\n",
       "      <th></th>\n",
       "      <th></th>\n",
       "      <th></th>\n",
       "    </tr>\n",
       "  </thead>\n",
       "  <tbody>\n",
       "    <tr>\n",
       "      <th>2000002</th>\n",
       "      <td>ADMINISTRAÇÃO</td>\n",
       "      <td>GRADUAÇÃO</td>\n",
       "      <td>Ciências Sociais Aplicadas</td>\n",
       "      <td>0.336364</td>\n",
       "      <td>0.009091</td>\n",
       "      <td>0.490909</td>\n",
       "      <td>0.009091</td>\n",
       "      <td>0.090909</td>\n",
       "      <td>0.009091</td>\n",
       "      <td>0.390909</td>\n",
       "    </tr>\n",
       "    <tr>\n",
       "      <th>15315770</th>\n",
       "      <td>ADMINISTRAÇÃO PÚBLICA</td>\n",
       "      <td>GRADUAÇÃO</td>\n",
       "      <td>Ciências Sociais Aplicadas</td>\n",
       "      <td>0.000000</td>\n",
       "      <td>0.000000</td>\n",
       "      <td>1.000000</td>\n",
       "      <td>0.000000</td>\n",
       "      <td>0.000000</td>\n",
       "      <td>0.000000</td>\n",
       "      <td>0.000000</td>\n",
       "    </tr>\n",
       "    <tr>\n",
       "      <th>94598200</th>\n",
       "      <td>ANÁLISE E DESENVOLVIMENTO DE SISTEMAS</td>\n",
       "      <td>GRADUAÇÃO</td>\n",
       "      <td>Outra</td>\n",
       "      <td>0.214286</td>\n",
       "      <td>0.000000</td>\n",
       "      <td>0.285714</td>\n",
       "      <td>0.000000</td>\n",
       "      <td>0.047619</td>\n",
       "      <td>0.071429</td>\n",
       "      <td>0.595238</td>\n",
       "    </tr>\n",
       "    <tr>\n",
       "      <th>2000005</th>\n",
       "      <td>ARQUITETURA E URBANISMO</td>\n",
       "      <td>GRADUAÇÃO</td>\n",
       "      <td>Engenharias</td>\n",
       "      <td>0.619048</td>\n",
       "      <td>0.000000</td>\n",
       "      <td>0.619048</td>\n",
       "      <td>0.000000</td>\n",
       "      <td>0.047619</td>\n",
       "      <td>0.000000</td>\n",
       "      <td>0.333333</td>\n",
       "    </tr>\n",
       "    <tr>\n",
       "      <th>2000123</th>\n",
       "      <td>ARTES VISUAIS</td>\n",
       "      <td>GRADUAÇÃO</td>\n",
       "      <td>Linguística, Letras e Artes</td>\n",
       "      <td>0.545455</td>\n",
       "      <td>0.022727</td>\n",
       "      <td>0.522727</td>\n",
       "      <td>0.000000</td>\n",
       "      <td>0.090909</td>\n",
       "      <td>0.000000</td>\n",
       "      <td>0.363636</td>\n",
       "    </tr>\n",
       "  </tbody>\n",
       "</table>\n",
       "</div>"
      ],
      "text/plain": [
       "                                           nome nivel_ensino  \\\n",
       "id_curso                                                       \n",
       "2000002                           ADMINISTRAÇÃO    GRADUAÇÃO   \n",
       "15315770                  ADMINISTRAÇÃO PÚBLICA    GRADUAÇÃO   \n",
       "94598200  ANÁLISE E DESENVOLVIMENTO DE SISTEMAS    GRADUAÇÃO   \n",
       "2000005                 ARQUITETURA E URBANISMO    GRADUAÇÃO   \n",
       "2000123                           ARTES VISUAIS    GRADUAÇÃO   \n",
       "\n",
       "                    area_conhecimento  mulheres_no_curso(%)  \\\n",
       "id_curso                                                      \n",
       "2000002    Ciências Sociais Aplicadas              0.336364   \n",
       "15315770   Ciências Sociais Aplicadas              0.000000   \n",
       "94598200                        Outra              0.214286   \n",
       "2000005                   Engenharias              0.619048   \n",
       "2000123   Linguística, Letras e Artes              0.545455   \n",
       "\n",
       "          amarelo_no_curso(%)  branco_no_curso(%)  indigeno_no_curso(%)  \\\n",
       "id_curso                                                                  \n",
       "2000002              0.009091            0.490909              0.009091   \n",
       "15315770             0.000000            1.000000              0.000000   \n",
       "94598200             0.000000            0.285714              0.000000   \n",
       "2000005              0.000000            0.619048              0.000000   \n",
       "2000123              0.022727            0.522727              0.000000   \n",
       "\n",
       "          negro_no_curso(%)  nao_informado_no_curso(%)  pardo_no_curso(%)  \n",
       "id_curso                                                                   \n",
       "2000002            0.090909                   0.009091           0.390909  \n",
       "15315770           0.000000                   0.000000           0.000000  \n",
       "94598200           0.047619                   0.071429           0.595238  \n",
       "2000005            0.047619                   0.000000           0.333333  \n",
       "2000123            0.090909                   0.000000           0.363636  "
      ]
     },
     "execution_count": 12,
     "metadata": {},
     "output_type": "execute_result"
    }
   ],
   "source": [
    "dist_cursos_2019.head()"
   ]
  },
  {
   "cell_type": "code",
   "execution_count": 13,
   "metadata": {
    "colab": {
     "base_uri": "https://localhost:8080/",
     "height": 80
    },
    "colab_type": "code",
    "id": "qm7J4svrqBE6",
    "outputId": "8dd51c05-c4f1-4643-f4da-ebe4ff97413a"
   },
   "outputs": [
    {
     "data": {
      "text/html": [
       "<div>\n",
       "<style scoped>\n",
       "    .dataframe tbody tr th:only-of-type {\n",
       "        vertical-align: middle;\n",
       "    }\n",
       "\n",
       "    .dataframe tbody tr th {\n",
       "        vertical-align: top;\n",
       "    }\n",
       "\n",
       "    .dataframe thead th {\n",
       "        text-align: right;\n",
       "    }\n",
       "</style>\n",
       "<table border=\"1\" class=\"dataframe\">\n",
       "  <thead>\n",
       "    <tr style=\"text-align: right;\">\n",
       "      <th></th>\n",
       "      <th>sexo</th>\n",
       "      <th>raca</th>\n",
       "      <th>tipo_discente</th>\n",
       "      <th>status</th>\n",
       "      <th>sigla_nivel_ensino</th>\n",
       "      <th>matricula</th>\n",
       "      <th>id_curso</th>\n",
       "    </tr>\n",
       "  </thead>\n",
       "  <tbody>\n",
       "    <tr>\n",
       "      <th>10301</th>\n",
       "      <td>M</td>\n",
       "      <td>Branco</td>\n",
       "      <td>REGULAR</td>\n",
       "      <td>ATIVO</td>\n",
       "      <td>G</td>\n",
       "      <td>20190000026</td>\n",
       "      <td>15315770.0</td>\n",
       "    </tr>\n",
       "  </tbody>\n",
       "</table>\n",
       "</div>"
      ],
      "text/plain": [
       "      sexo    raca tipo_discente status sigla_nivel_ensino    matricula  \\\n",
       "10301    M  Branco       REGULAR  ATIVO                  G  20190000026   \n",
       "\n",
       "         id_curso  \n",
       "10301  15315770.0  "
      ]
     },
     "execution_count": 13,
     "metadata": {},
     "output_type": "execute_result"
    }
   ],
   "source": [
    "dados_discentes.loc[ dados_discentes.id_curso == 15315770]"
   ]
  },
  {
   "cell_type": "markdown",
   "metadata": {
    "colab_type": "text",
    "id": "KqWLUbehh4Ol"
   },
   "source": [
    "Agora vamos plotar os gráficos usando a biblioteca Bokeh"
   ]
  },
  {
   "cell_type": "code",
   "execution_count": 16,
   "metadata": {
    "colab": {
     "base_uri": "https://localhost:8080/",
     "height": 47
    },
    "colab_type": "code",
    "id": "NCer16FEswW6",
    "outputId": "ac64c545-6af7-4add-88f5-6993be897e31"
   },
   "outputs": [
    {
     "data": {
      "text/html": [
       "\n",
       "    <div class=\"bk-root\">\n",
       "        <a href=\"https://bokeh.pydata.org\" target=\"_blank\" class=\"bk-logo bk-logo-small bk-logo-notebook\"></a>\n",
       "        <span id=\"1001\">Loading BokehJS ...</span>\n",
       "    </div>"
      ]
     },
     "metadata": {},
     "output_type": "display_data"
    },
    {
     "data": {
      "application/javascript": [
       "\n",
       "(function(root) {\n",
       "  function now() {\n",
       "    return new Date();\n",
       "  }\n",
       "\n",
       "  var force = true;\n",
       "\n",
       "  if (typeof root._bokeh_onload_callbacks === \"undefined\" || force === true) {\n",
       "    root._bokeh_onload_callbacks = [];\n",
       "    root._bokeh_is_loading = undefined;\n",
       "  }\n",
       "\n",
       "  var JS_MIME_TYPE = 'application/javascript';\n",
       "  var HTML_MIME_TYPE = 'text/html';\n",
       "  var EXEC_MIME_TYPE = 'application/vnd.bokehjs_exec.v0+json';\n",
       "  var CLASS_NAME = 'output_bokeh rendered_html';\n",
       "\n",
       "  /**\n",
       "   * Render data to the DOM node\n",
       "   */\n",
       "  function render(props, node) {\n",
       "    var script = document.createElement(\"script\");\n",
       "    node.appendChild(script);\n",
       "  }\n",
       "\n",
       "  /**\n",
       "   * Handle when an output is cleared or removed\n",
       "   */\n",
       "  function handleClearOutput(event, handle) {\n",
       "    var cell = handle.cell;\n",
       "\n",
       "    var id = cell.output_area._bokeh_element_id;\n",
       "    var server_id = cell.output_area._bokeh_server_id;\n",
       "    // Clean up Bokeh references\n",
       "    if (id != null && id in Bokeh.index) {\n",
       "      Bokeh.index[id].model.document.clear();\n",
       "      delete Bokeh.index[id];\n",
       "    }\n",
       "\n",
       "    if (server_id !== undefined) {\n",
       "      // Clean up Bokeh references\n",
       "      var cmd = \"from bokeh.io.state import curstate; print(curstate().uuid_to_server['\" + server_id + \"'].get_sessions()[0].document.roots[0]._id)\";\n",
       "      cell.notebook.kernel.execute(cmd, {\n",
       "        iopub: {\n",
       "          output: function(msg) {\n",
       "            var id = msg.content.text.trim();\n",
       "            if (id in Bokeh.index) {\n",
       "              Bokeh.index[id].model.document.clear();\n",
       "              delete Bokeh.index[id];\n",
       "            }\n",
       "          }\n",
       "        }\n",
       "      });\n",
       "      // Destroy server and session\n",
       "      var cmd = \"import bokeh.io.notebook as ion; ion.destroy_server('\" + server_id + \"')\";\n",
       "      cell.notebook.kernel.execute(cmd);\n",
       "    }\n",
       "  }\n",
       "\n",
       "  /**\n",
       "   * Handle when a new output is added\n",
       "   */\n",
       "  function handleAddOutput(event, handle) {\n",
       "    var output_area = handle.output_area;\n",
       "    var output = handle.output;\n",
       "\n",
       "    // limit handleAddOutput to display_data with EXEC_MIME_TYPE content only\n",
       "    if ((output.output_type != \"display_data\") || (!output.data.hasOwnProperty(EXEC_MIME_TYPE))) {\n",
       "      return\n",
       "    }\n",
       "\n",
       "    var toinsert = output_area.element.find(\".\" + CLASS_NAME.split(' ')[0]);\n",
       "\n",
       "    if (output.metadata[EXEC_MIME_TYPE][\"id\"] !== undefined) {\n",
       "      toinsert[toinsert.length - 1].firstChild.textContent = output.data[JS_MIME_TYPE];\n",
       "      // store reference to embed id on output_area\n",
       "      output_area._bokeh_element_id = output.metadata[EXEC_MIME_TYPE][\"id\"];\n",
       "    }\n",
       "    if (output.metadata[EXEC_MIME_TYPE][\"server_id\"] !== undefined) {\n",
       "      var bk_div = document.createElement(\"div\");\n",
       "      bk_div.innerHTML = output.data[HTML_MIME_TYPE];\n",
       "      var script_attrs = bk_div.children[0].attributes;\n",
       "      for (var i = 0; i < script_attrs.length; i++) {\n",
       "        toinsert[toinsert.length - 1].firstChild.setAttribute(script_attrs[i].name, script_attrs[i].value);\n",
       "      }\n",
       "      // store reference to server id on output_area\n",
       "      output_area._bokeh_server_id = output.metadata[EXEC_MIME_TYPE][\"server_id\"];\n",
       "    }\n",
       "  }\n",
       "\n",
       "  function register_renderer(events, OutputArea) {\n",
       "\n",
       "    function append_mime(data, metadata, element) {\n",
       "      // create a DOM node to render to\n",
       "      var toinsert = this.create_output_subarea(\n",
       "        metadata,\n",
       "        CLASS_NAME,\n",
       "        EXEC_MIME_TYPE\n",
       "      );\n",
       "      this.keyboard_manager.register_events(toinsert);\n",
       "      // Render to node\n",
       "      var props = {data: data, metadata: metadata[EXEC_MIME_TYPE]};\n",
       "      render(props, toinsert[toinsert.length - 1]);\n",
       "      element.append(toinsert);\n",
       "      return toinsert\n",
       "    }\n",
       "\n",
       "    /* Handle when an output is cleared or removed */\n",
       "    events.on('clear_output.CodeCell', handleClearOutput);\n",
       "    events.on('delete.Cell', handleClearOutput);\n",
       "\n",
       "    /* Handle when a new output is added */\n",
       "    events.on('output_added.OutputArea', handleAddOutput);\n",
       "\n",
       "    /**\n",
       "     * Register the mime type and append_mime function with output_area\n",
       "     */\n",
       "    OutputArea.prototype.register_mime_type(EXEC_MIME_TYPE, append_mime, {\n",
       "      /* Is output safe? */\n",
       "      safe: true,\n",
       "      /* Index of renderer in `output_area.display_order` */\n",
       "      index: 0\n",
       "    });\n",
       "  }\n",
       "\n",
       "  // register the mime type if in Jupyter Notebook environment and previously unregistered\n",
       "  if (root.Jupyter !== undefined) {\n",
       "    var events = require('base/js/events');\n",
       "    var OutputArea = require('notebook/js/outputarea').OutputArea;\n",
       "\n",
       "    if (OutputArea.prototype.mime_types().indexOf(EXEC_MIME_TYPE) == -1) {\n",
       "      register_renderer(events, OutputArea);\n",
       "    }\n",
       "  }\n",
       "\n",
       "  \n",
       "  if (typeof (root._bokeh_timeout) === \"undefined\" || force === true) {\n",
       "    root._bokeh_timeout = Date.now() + 5000;\n",
       "    root._bokeh_failed_load = false;\n",
       "  }\n",
       "\n",
       "  var NB_LOAD_WARNING = {'data': {'text/html':\n",
       "     \"<div style='background-color: #fdd'>\\n\"+\n",
       "     \"<p>\\n\"+\n",
       "     \"BokehJS does not appear to have successfully loaded. If loading BokehJS from CDN, this \\n\"+\n",
       "     \"may be due to a slow or bad network connection. Possible fixes:\\n\"+\n",
       "     \"</p>\\n\"+\n",
       "     \"<ul>\\n\"+\n",
       "     \"<li>re-rerun `output_notebook()` to attempt to load from CDN again, or</li>\\n\"+\n",
       "     \"<li>use INLINE resources instead, as so:</li>\\n\"+\n",
       "     \"</ul>\\n\"+\n",
       "     \"<code>\\n\"+\n",
       "     \"from bokeh.resources import INLINE\\n\"+\n",
       "     \"output_notebook(resources=INLINE)\\n\"+\n",
       "     \"</code>\\n\"+\n",
       "     \"</div>\"}};\n",
       "\n",
       "  function display_loaded() {\n",
       "    var el = document.getElementById(\"1001\");\n",
       "    if (el != null) {\n",
       "      el.textContent = \"BokehJS is loading...\";\n",
       "    }\n",
       "    if (root.Bokeh !== undefined) {\n",
       "      if (el != null) {\n",
       "        el.textContent = \"BokehJS \" + root.Bokeh.version + \" successfully loaded.\";\n",
       "      }\n",
       "    } else if (Date.now() < root._bokeh_timeout) {\n",
       "      setTimeout(display_loaded, 100)\n",
       "    }\n",
       "  }\n",
       "\n",
       "\n",
       "  function run_callbacks() {\n",
       "    try {\n",
       "      root._bokeh_onload_callbacks.forEach(function(callback) {\n",
       "        if (callback != null)\n",
       "          callback();\n",
       "      });\n",
       "    } finally {\n",
       "      delete root._bokeh_onload_callbacks\n",
       "    }\n",
       "    console.debug(\"Bokeh: all callbacks have finished\");\n",
       "  }\n",
       "\n",
       "  function load_libs(css_urls, js_urls, callback) {\n",
       "    if (css_urls == null) css_urls = [];\n",
       "    if (js_urls == null) js_urls = [];\n",
       "\n",
       "    root._bokeh_onload_callbacks.push(callback);\n",
       "    if (root._bokeh_is_loading > 0) {\n",
       "      console.debug(\"Bokeh: BokehJS is being loaded, scheduling callback at\", now());\n",
       "      return null;\n",
       "    }\n",
       "    if (js_urls == null || js_urls.length === 0) {\n",
       "      run_callbacks();\n",
       "      return null;\n",
       "    }\n",
       "    console.debug(\"Bokeh: BokehJS not loaded, scheduling load and callback at\", now());\n",
       "    root._bokeh_is_loading = css_urls.length + js_urls.length;\n",
       "\n",
       "    function on_load() {\n",
       "      root._bokeh_is_loading--;\n",
       "      if (root._bokeh_is_loading === 0) {\n",
       "        console.debug(\"Bokeh: all BokehJS libraries/stylesheets loaded\");\n",
       "        run_callbacks()\n",
       "      }\n",
       "    }\n",
       "\n",
       "    function on_error() {\n",
       "      console.error(\"failed to load \" + url);\n",
       "    }\n",
       "\n",
       "    for (var i = 0; i < css_urls.length; i++) {\n",
       "      var url = css_urls[i];\n",
       "      const element = document.createElement(\"link\");\n",
       "      element.onload = on_load;\n",
       "      element.onerror = on_error;\n",
       "      element.rel = \"stylesheet\";\n",
       "      element.type = \"text/css\";\n",
       "      element.href = url;\n",
       "      console.debug(\"Bokeh: injecting link tag for BokehJS stylesheet: \", url);\n",
       "      document.body.appendChild(element);\n",
       "    }\n",
       "\n",
       "    for (var i = 0; i < js_urls.length; i++) {\n",
       "      var url = js_urls[i];\n",
       "      var element = document.createElement('script');\n",
       "      element.onload = on_load;\n",
       "      element.onerror = on_error;\n",
       "      element.async = false;\n",
       "      element.src = url;\n",
       "      console.debug(\"Bokeh: injecting script tag for BokehJS library: \", url);\n",
       "      document.head.appendChild(element);\n",
       "    }\n",
       "  };var element = document.getElementById(\"1001\");\n",
       "  if (element == null) {\n",
       "    console.error(\"Bokeh: ERROR: autoload.js configured with elementid '1001' but no matching script tag was found. \")\n",
       "    return false;\n",
       "  }\n",
       "\n",
       "  function inject_raw_css(css) {\n",
       "    const element = document.createElement(\"style\");\n",
       "    element.appendChild(document.createTextNode(css));\n",
       "    document.body.appendChild(element);\n",
       "  }\n",
       "\n",
       "  var js_urls = [\"https://cdn.pydata.org/bokeh/release/bokeh-1.1.0.min.js\", \"https://cdn.pydata.org/bokeh/release/bokeh-widgets-1.1.0.min.js\", \"https://cdn.pydata.org/bokeh/release/bokeh-tables-1.1.0.min.js\", \"https://cdn.pydata.org/bokeh/release/bokeh-gl-1.1.0.min.js\"];\n",
       "  var css_urls = [\"https://cdn.pydata.org/bokeh/release/bokeh-1.1.0.min.css\", \"https://cdn.pydata.org/bokeh/release/bokeh-widgets-1.1.0.min.css\", \"https://cdn.pydata.org/bokeh/release/bokeh-tables-1.1.0.min.css\"];\n",
       "\n",
       "  var inline_js = [\n",
       "    function(Bokeh) {\n",
       "      Bokeh.set_log_level(\"info\");\n",
       "    },\n",
       "    \n",
       "    function(Bokeh) {\n",
       "      \n",
       "    },\n",
       "    function(Bokeh) {} // ensure no trailing comma for IE\n",
       "  ];\n",
       "\n",
       "  function run_inline_js() {\n",
       "    \n",
       "    if ((root.Bokeh !== undefined) || (force === true)) {\n",
       "      for (var i = 0; i < inline_js.length; i++) {\n",
       "        inline_js[i].call(root, root.Bokeh);\n",
       "      }if (force === true) {\n",
       "        display_loaded();\n",
       "      }} else if (Date.now() < root._bokeh_timeout) {\n",
       "      setTimeout(run_inline_js, 100);\n",
       "    } else if (!root._bokeh_failed_load) {\n",
       "      console.log(\"Bokeh: BokehJS failed to load within specified timeout.\");\n",
       "      root._bokeh_failed_load = true;\n",
       "    } else if (force !== true) {\n",
       "      var cell = $(document.getElementById(\"1001\")).parents('.cell').data().cell;\n",
       "      cell.output_area.append_execute_result(NB_LOAD_WARNING)\n",
       "    }\n",
       "\n",
       "  }\n",
       "\n",
       "  if (root._bokeh_is_loading === 0) {\n",
       "    console.debug(\"Bokeh: BokehJS loaded, going straight to plotting\");\n",
       "    run_inline_js();\n",
       "  } else {\n",
       "    load_libs(css_urls, js_urls, function() {\n",
       "      console.debug(\"Bokeh: BokehJS plotting callback run at\", now());\n",
       "      run_inline_js();\n",
       "    });\n",
       "  }\n",
       "}(window));"
      ],
      "application/vnd.bokehjs_load.v0+json": "\n(function(root) {\n  function now() {\n    return new Date();\n  }\n\n  var force = true;\n\n  if (typeof root._bokeh_onload_callbacks === \"undefined\" || force === true) {\n    root._bokeh_onload_callbacks = [];\n    root._bokeh_is_loading = undefined;\n  }\n\n  \n\n  \n  if (typeof (root._bokeh_timeout) === \"undefined\" || force === true) {\n    root._bokeh_timeout = Date.now() + 5000;\n    root._bokeh_failed_load = false;\n  }\n\n  var NB_LOAD_WARNING = {'data': {'text/html':\n     \"<div style='background-color: #fdd'>\\n\"+\n     \"<p>\\n\"+\n     \"BokehJS does not appear to have successfully loaded. If loading BokehJS from CDN, this \\n\"+\n     \"may be due to a slow or bad network connection. Possible fixes:\\n\"+\n     \"</p>\\n\"+\n     \"<ul>\\n\"+\n     \"<li>re-rerun `output_notebook()` to attempt to load from CDN again, or</li>\\n\"+\n     \"<li>use INLINE resources instead, as so:</li>\\n\"+\n     \"</ul>\\n\"+\n     \"<code>\\n\"+\n     \"from bokeh.resources import INLINE\\n\"+\n     \"output_notebook(resources=INLINE)\\n\"+\n     \"</code>\\n\"+\n     \"</div>\"}};\n\n  function display_loaded() {\n    var el = document.getElementById(\"1001\");\n    if (el != null) {\n      el.textContent = \"BokehJS is loading...\";\n    }\n    if (root.Bokeh !== undefined) {\n      if (el != null) {\n        el.textContent = \"BokehJS \" + root.Bokeh.version + \" successfully loaded.\";\n      }\n    } else if (Date.now() < root._bokeh_timeout) {\n      setTimeout(display_loaded, 100)\n    }\n  }\n\n\n  function run_callbacks() {\n    try {\n      root._bokeh_onload_callbacks.forEach(function(callback) {\n        if (callback != null)\n          callback();\n      });\n    } finally {\n      delete root._bokeh_onload_callbacks\n    }\n    console.debug(\"Bokeh: all callbacks have finished\");\n  }\n\n  function load_libs(css_urls, js_urls, callback) {\n    if (css_urls == null) css_urls = [];\n    if (js_urls == null) js_urls = [];\n\n    root._bokeh_onload_callbacks.push(callback);\n    if (root._bokeh_is_loading > 0) {\n      console.debug(\"Bokeh: BokehJS is being loaded, scheduling callback at\", now());\n      return null;\n    }\n    if (js_urls == null || js_urls.length === 0) {\n      run_callbacks();\n      return null;\n    }\n    console.debug(\"Bokeh: BokehJS not loaded, scheduling load and callback at\", now());\n    root._bokeh_is_loading = css_urls.length + js_urls.length;\n\n    function on_load() {\n      root._bokeh_is_loading--;\n      if (root._bokeh_is_loading === 0) {\n        console.debug(\"Bokeh: all BokehJS libraries/stylesheets loaded\");\n        run_callbacks()\n      }\n    }\n\n    function on_error() {\n      console.error(\"failed to load \" + url);\n    }\n\n    for (var i = 0; i < css_urls.length; i++) {\n      var url = css_urls[i];\n      const element = document.createElement(\"link\");\n      element.onload = on_load;\n      element.onerror = on_error;\n      element.rel = \"stylesheet\";\n      element.type = \"text/css\";\n      element.href = url;\n      console.debug(\"Bokeh: injecting link tag for BokehJS stylesheet: \", url);\n      document.body.appendChild(element);\n    }\n\n    for (var i = 0; i < js_urls.length; i++) {\n      var url = js_urls[i];\n      var element = document.createElement('script');\n      element.onload = on_load;\n      element.onerror = on_error;\n      element.async = false;\n      element.src = url;\n      console.debug(\"Bokeh: injecting script tag for BokehJS library: \", url);\n      document.head.appendChild(element);\n    }\n  };var element = document.getElementById(\"1001\");\n  if (element == null) {\n    console.error(\"Bokeh: ERROR: autoload.js configured with elementid '1001' but no matching script tag was found. \")\n    return false;\n  }\n\n  function inject_raw_css(css) {\n    const element = document.createElement(\"style\");\n    element.appendChild(document.createTextNode(css));\n    document.body.appendChild(element);\n  }\n\n  var js_urls = [\"https://cdn.pydata.org/bokeh/release/bokeh-1.1.0.min.js\", \"https://cdn.pydata.org/bokeh/release/bokeh-widgets-1.1.0.min.js\", \"https://cdn.pydata.org/bokeh/release/bokeh-tables-1.1.0.min.js\", \"https://cdn.pydata.org/bokeh/release/bokeh-gl-1.1.0.min.js\"];\n  var css_urls = [\"https://cdn.pydata.org/bokeh/release/bokeh-1.1.0.min.css\", \"https://cdn.pydata.org/bokeh/release/bokeh-widgets-1.1.0.min.css\", \"https://cdn.pydata.org/bokeh/release/bokeh-tables-1.1.0.min.css\"];\n\n  var inline_js = [\n    function(Bokeh) {\n      Bokeh.set_log_level(\"info\");\n    },\n    \n    function(Bokeh) {\n      \n    },\n    function(Bokeh) {} // ensure no trailing comma for IE\n  ];\n\n  function run_inline_js() {\n    \n    if ((root.Bokeh !== undefined) || (force === true)) {\n      for (var i = 0; i < inline_js.length; i++) {\n        inline_js[i].call(root, root.Bokeh);\n      }if (force === true) {\n        display_loaded();\n      }} else if (Date.now() < root._bokeh_timeout) {\n      setTimeout(run_inline_js, 100);\n    } else if (!root._bokeh_failed_load) {\n      console.log(\"Bokeh: BokehJS failed to load within specified timeout.\");\n      root._bokeh_failed_load = true;\n    } else if (force !== true) {\n      var cell = $(document.getElementById(\"1001\")).parents('.cell').data().cell;\n      cell.output_area.append_execute_result(NB_LOAD_WARNING)\n    }\n\n  }\n\n  if (root._bokeh_is_loading === 0) {\n    console.debug(\"Bokeh: BokehJS loaded, going straight to plotting\");\n    run_inline_js();\n  } else {\n    load_libs(css_urls, js_urls, function() {\n      console.debug(\"Bokeh: BokehJS plotting callback run at\", now());\n      run_inline_js();\n    });\n  }\n}(window));"
     },
     "metadata": {},
     "output_type": "display_data"
    }
   ],
   "source": [
    "from bokeh.io import output_notebook\n",
    "output_notebook()"
   ]
  },
  {
   "cell_type": "code",
   "execution_count": 25,
   "metadata": {
    "colab": {
     "base_uri": "https://localhost:8080/",
     "height": 71
    },
    "colab_type": "code",
    "id": "vxTCPulSh3mm",
    "outputId": "d8619f55-22ab-4043-daea-45f54c536710"
   },
   "outputs": [],
   "source": [
    "# Make a list of the unique values from the region column: regions_list\n",
    "areas_list = dist_cursos_2019.area_conhecimento.unique().tolist()\n",
    "\n",
    "# Import CategoricalColorMapper from bokeh.models and the Spectral6 palette from bokeh.palettes\n",
    "from bokeh.io import curdoc\n",
    "from bokeh.models import ColumnDataSource\n",
    "from bokeh.plotting import figure, show\n",
    "from bokeh.models import CategoricalColorMapper\n",
    "from bokeh.palettes import Spectral6\n",
    "\n",
    "source = ColumnDataSource(data={\n",
    "    'x'       : dist_cursos_2019[\"pardo_no_curso(%)\"],\n",
    "    'y'       : dist_cursos_2019[\"mulheres_no_curso(%)\"],\n",
    "    'curso'   : dist_cursos_2019.nome,\n",
    "    'area'    : dist_cursos_2019.area_conhecimento,\n",
    "})\n",
    "\n",
    "# Make a color mapper: color_mapper\n",
    "color_mapper = CategoricalColorMapper(factors=areas_list, palette=Spectral6)\n",
    "\n",
    "# Create the figure: plot\n",
    "plot = figure(title='RELAÇÃO ENTRE RAÇA/COR E GÊNERO NOS CURSOS', plot_height = 600, plot_width = 800)\n",
    "\n",
    "\n",
    "# Add the color mapper to the circle glyph\n",
    "plot.circle(x='x', y='y', fill_alpha=0.8, source=source,\n",
    "            color=dict(field='area', transform=color_mapper), legend='area',\n",
    "           size=10)\n",
    "\n",
    "# Set the x-axis label\n",
    "plot.xaxis.axis_label ='Porcantagem de alunos pardos no curso'\n",
    "\n",
    "# Set the y-axis label\n",
    "plot.yaxis.axis_label = 'Porcentagem de mulheres no curso'\n",
    "\n",
    "# Set the legend.location attribute of the plot to 'top_right'\n",
    "plot.legend.location = 'bottom_right'\n",
    "\n",
    "# Add the plot to the current document and add the title\n",
    "curdoc().add_root(plot)\n",
    "curdoc().title = 'Gapminder'"
   ]
  },
  {
   "cell_type": "code",
   "execution_count": 26,
   "metadata": {
    "colab": {
     "base_uri": "https://localhost:8080/",
     "height": 17
    },
    "colab_type": "code",
    "id": "9lqYw3czhhCf",
    "outputId": "b06fd670-248f-4aa5-9e88-4a6741951bf0"
   },
   "outputs": [
    {
     "data": {
      "text/html": [
       "\n",
       "\n",
       "\n",
       "\n",
       "\n",
       "\n",
       "  <div class=\"bk-root\" id=\"eea1f84f-874e-4547-b5bc-8fede4dad749\" data-root-id=\"1472\"></div>\n"
      ]
     },
     "metadata": {},
     "output_type": "display_data"
    },
    {
     "data": {
      "application/javascript": [
       "(function(root) {\n",
       "  function embed_document(root) {\n",
       "    \n",
       "  var docs_json = {\"9f61bf7f-6ddc-4885-9477-3425954a6729\":{\"roots\":{\"references\":[{\"attributes\":{\"below\":[{\"id\":\"1483\",\"type\":\"LinearAxis\"}],\"center\":[{\"id\":\"1487\",\"type\":\"Grid\"},{\"id\":\"1492\",\"type\":\"Grid\"},{\"id\":\"1517\",\"type\":\"Legend\"}],\"left\":[{\"id\":\"1488\",\"type\":\"LinearAxis\"}],\"plot_width\":800,\"renderers\":[{\"id\":\"1509\",\"type\":\"GlyphRenderer\"}],\"title\":{\"id\":\"1473\",\"type\":\"Title\"},\"toolbar\":{\"id\":\"1499\",\"type\":\"Toolbar\"},\"x_range\":{\"id\":\"1475\",\"type\":\"DataRange1d\"},\"x_scale\":{\"id\":\"1479\",\"type\":\"LinearScale\"},\"y_range\":{\"id\":\"1477\",\"type\":\"DataRange1d\"},\"y_scale\":{\"id\":\"1481\",\"type\":\"LinearScale\"}},\"id\":\"1472\",\"subtype\":\"Figure\",\"type\":\"Plot\"},{\"attributes\":{},\"id\":\"1558\",\"type\":\"Selection\"},{\"attributes\":{\"axis_label\":\"Porcantagem de alunos pardos no curso\",\"formatter\":{\"id\":\"1514\",\"type\":\"BasicTickFormatter\"},\"ticker\":{\"id\":\"1484\",\"type\":\"BasicTicker\"}},\"id\":\"1483\",\"type\":\"LinearAxis\"},{\"attributes\":{},\"id\":\"1489\",\"type\":\"BasicTicker\"},{\"attributes\":{\"callback\":null},\"id\":\"1475\",\"type\":\"DataRange1d\"},{\"attributes\":{\"text\":\"RELA\\u00c7\\u00c3O ENTRE RA\\u00c7A/COR E G\\u00caNERO NOS CURSOS\"},\"id\":\"1473\",\"type\":\"Title\"},{\"attributes\":{\"dimension\":1,\"ticker\":{\"id\":\"1489\",\"type\":\"BasicTicker\"}},\"id\":\"1492\",\"type\":\"Grid\"},{\"attributes\":{\"bottom_units\":\"screen\",\"fill_alpha\":{\"value\":0.5},\"fill_color\":{\"value\":\"lightgrey\"},\"left_units\":\"screen\",\"level\":\"overlay\",\"line_alpha\":{\"value\":1.0},\"line_color\":{\"value\":\"black\"},\"line_dash\":[4,4],\"line_width\":{\"value\":2},\"render_mode\":\"css\",\"right_units\":\"screen\",\"top_units\":\"screen\"},\"id\":\"1516\",\"type\":\"BoxAnnotation\"},{\"attributes\":{\"fill_alpha\":{\"value\":0.1},\"fill_color\":{\"value\":\"#1f77b4\"},\"line_alpha\":{\"value\":0.1},\"line_color\":{\"value\":\"#1f77b4\"},\"size\":{\"units\":\"screen\",\"value\":10},\"x\":{\"field\":\"x\"},\"y\":{\"field\":\"y\"}},\"id\":\"1508\",\"type\":\"Circle\"},{\"attributes\":{},\"id\":\"1514\",\"type\":\"BasicTickFormatter\"},{\"attributes\":{\"fill_alpha\":{\"value\":0.8},\"fill_color\":{\"field\":\"area\",\"transform\":{\"id\":\"1471\",\"type\":\"CategoricalColorMapper\"}},\"line_color\":{\"field\":\"area\",\"transform\":{\"id\":\"1471\",\"type\":\"CategoricalColorMapper\"}},\"size\":{\"units\":\"screen\",\"value\":10},\"x\":{\"field\":\"x\"},\"y\":{\"field\":\"y\"}},\"id\":\"1507\",\"type\":\"Circle\"},{\"attributes\":{},\"id\":\"1481\",\"type\":\"LinearScale\"},{\"attributes\":{\"active_drag\":\"auto\",\"active_inspect\":\"auto\",\"active_multi\":null,\"active_scroll\":\"auto\",\"active_tap\":\"auto\",\"tools\":[{\"id\":\"1493\",\"type\":\"PanTool\"},{\"id\":\"1494\",\"type\":\"WheelZoomTool\"},{\"id\":\"1495\",\"type\":\"BoxZoomTool\"},{\"id\":\"1496\",\"type\":\"SaveTool\"},{\"id\":\"1497\",\"type\":\"ResetTool\"},{\"id\":\"1498\",\"type\":\"HelpTool\"}]},\"id\":\"1499\",\"type\":\"Toolbar\"},{\"attributes\":{},\"id\":\"1493\",\"type\":\"PanTool\"},{\"attributes\":{},\"id\":\"1479\",\"type\":\"LinearScale\"},{\"attributes\":{},\"id\":\"1494\",\"type\":\"WheelZoomTool\"},{\"attributes\":{\"callback\":null},\"id\":\"1477\",\"type\":\"DataRange1d\"},{\"attributes\":{\"overlay\":{\"id\":\"1516\",\"type\":\"BoxAnnotation\"}},\"id\":\"1495\",\"type\":\"BoxZoomTool\"},{\"attributes\":{},\"id\":\"1496\",\"type\":\"SaveTool\"},{\"attributes\":{},\"id\":\"1497\",\"type\":\"ResetTool\"},{\"attributes\":{\"factors\":[\"Ci\\u00eancias Sociais Aplicadas\",\"Outra\",\"Engenharias\",\"Lingu\\u00edstica, Letras e Artes\",\"Ci\\u00eancias Biol\\u00f3gicas\",\"Ci\\u00eancias Exatas e da Terra\",\"Ci\\u00eancias Humanas\",\"Ci\\u00eancias da Sa\\u00fade\",\"Ci\\u00eancias Agr\\u00e1rias\"],\"palette\":[\"#3288bd\",\"#99d594\",\"#e6f598\",\"#fee08b\",\"#fc8d59\",\"#d53e4f\"]},\"id\":\"1471\",\"type\":\"CategoricalColorMapper\"},{\"attributes\":{},\"id\":\"1498\",\"type\":\"HelpTool\"},{\"attributes\":{\"data_source\":{\"id\":\"1470\",\"type\":\"ColumnDataSource\"},\"glyph\":{\"id\":\"1507\",\"type\":\"Circle\"},\"hover_glyph\":null,\"muted_glyph\":null,\"nonselection_glyph\":{\"id\":\"1508\",\"type\":\"Circle\"},\"selection_glyph\":null,\"view\":{\"id\":\"1510\",\"type\":\"CDSView\"}},\"id\":\"1509\",\"type\":\"GlyphRenderer\"},{\"attributes\":{\"source\":{\"id\":\"1470\",\"type\":\"ColumnDataSource\"}},\"id\":\"1510\",\"type\":\"CDSView\"},{\"attributes\":{},\"id\":\"1512\",\"type\":\"BasicTickFormatter\"},{\"attributes\":{},\"id\":\"1484\",\"type\":\"BasicTicker\"},{\"attributes\":{\"items\":[{\"id\":\"1518\",\"type\":\"LegendItem\"}],\"location\":\"bottom_right\"},\"id\":\"1517\",\"type\":\"Legend\"},{\"attributes\":{\"axis_label\":\"Porcentage de mulheres no curso\",\"formatter\":{\"id\":\"1512\",\"type\":\"BasicTickFormatter\"},\"ticker\":{\"id\":\"1489\",\"type\":\"BasicTicker\"}},\"id\":\"1488\",\"type\":\"LinearAxis\"},{\"attributes\":{\"label\":{\"field\":\"area\"},\"renderers\":[{\"id\":\"1509\",\"type\":\"GlyphRenderer\"}]},\"id\":\"1518\",\"type\":\"LegendItem\"},{\"attributes\":{\"ticker\":{\"id\":\"1484\",\"type\":\"BasicTicker\"}},\"id\":\"1487\",\"type\":\"Grid\"},{\"attributes\":{},\"id\":\"1557\",\"type\":\"UnionRenderers\"},{\"attributes\":{\"callback\":null,\"data\":{\"area\":[\"Ci\\u00eancias Sociais Aplicadas\",\"Ci\\u00eancias Sociais Aplicadas\",\"Outra\",\"Engenharias\",\"Lingu\\u00edstica, Letras e Artes\",\"Ci\\u00eancias Sociais Aplicadas\",\"Ci\\u00eancias Biol\\u00f3gicas\",\"Ci\\u00eancias Exatas e da Terra\",\"Ci\\u00eancias Exatas e da Terra\",\"Ci\\u00eancias Biol\\u00f3gicas\",\"Ci\\u00eancias Biol\\u00f3gicas\",\"Ci\\u00eancias Biol\\u00f3gicas\",\"Ci\\u00eancias Sociais Aplicadas\",\"Ci\\u00eancias Sociais Aplicadas\",\"Ci\\u00eancias Sociais Aplicadas\",\"Ci\\u00eancias Exatas e da Terra\",\"Ci\\u00eancias Humanas\",\"Ci\\u00eancias Humanas\",\"Ci\\u00eancias Humanas\",\"Ci\\u00eancias Humanas\",\"Ci\\u00eancias Humanas\",\"Lingu\\u00edstica, Letras e Artes\",\"Lingu\\u00edstica, Letras e Artes\",\"Ci\\u00eancias Sociais Aplicadas\",\"Ci\\u00eancias Sociais Aplicadas\",\"Ci\\u00eancias Biol\\u00f3gicas\",\"Ci\\u00eancias da Sa\\u00fade\",\"Ci\\u00eancias da Sa\\u00fade\",\"Ci\\u00eancias da Sa\\u00fade\",\"Ci\\u00eancias da Sa\\u00fade\",\"Ci\\u00eancias da Sa\\u00fade\",\"Ci\\u00eancias da Sa\\u00fade\",\"Ci\\u00eancias Agr\\u00e1rias\",\"Engenharias\",\"Engenharias\",\"Engenharias\",\"Engenharias\",\"Ci\\u00eancias Biol\\u00f3gicas\",\"Engenharias\",\"Engenharias\",\"Engenharias\",\"Engenharias\",\"Ci\\u00eancias Exatas e da Terra\",\"Engenharias\",\"Engenharias\",\"Engenharias\",\"Engenharias\",\"Engenharias\",\"Engenharias\",\"Engenharias\",\"Ci\\u00eancias Exatas e da Terra\",\"Ci\\u00eancias da Sa\\u00fade\",\"Lingu\\u00edstica, Letras e Artes\",\"Lingu\\u00edstica, Letras e Artes\",\"Ci\\u00eancias Exatas e da Terra\",\"Ci\\u00eancias Exatas e da Terra\",\"Ci\\u00eancias Exatas e da Terra\",\"Ci\\u00eancias da Sa\\u00fade\",\"Ci\\u00eancias da Sa\\u00fade\",\"Ci\\u00eancias da Sa\\u00fade\",\"Ci\\u00eancias Exatas e da Terra\",\"Ci\\u00eancias Exatas e da Terra\",\"Ci\\u00eancias Humanas\",\"Ci\\u00eancias Humanas\",\"Ci\\u00eancias Exatas e da Terra\",\"Ci\\u00eancias Humanas\",\"Ci\\u00eancias Exatas e da Terra\",\"Ci\\u00eancias Sociais Aplicadas\",\"Ci\\u00eancias Humanas\",\"Ci\\u00eancias da Sa\\u00fade\",\"Ci\\u00eancias Humanas\",\"Ci\\u00eancias Humanas\",\"Ci\\u00eancias Humanas\",\"Ci\\u00eancias Humanas\",\"Ci\\u00eancias Humanas\",\"Ci\\u00eancias Humanas\",\"Lingu\\u00edstica, Letras e Artes\",\"Lingu\\u00edstica, Letras e Artes\",\"Lingu\\u00edstica, Letras e Artes\",\"Lingu\\u00edstica, Letras e Artes\",\"Lingu\\u00edstica, Letras e Artes\",\"Lingu\\u00edstica, Letras e Artes\",\"Ci\\u00eancias Humanas\",\"Lingu\\u00edstica, Letras e Artes\",\"Ci\\u00eancias Humanas\",\"Ci\\u00eancias Exatas e da Terra\",\"Ci\\u00eancias Exatas e da Terra\",\"Ci\\u00eancias Exatas e da Terra\",\"Ci\\u00eancias Exatas e da Terra\",\"Ci\\u00eancias Exatas e da Terra\",\"Ci\\u00eancias da Sa\\u00fade\",\"Ci\\u00eancias da Sa\\u00fade\",\"Ci\\u00eancias Exatas e da Terra\",\"Lingu\\u00edstica, Letras e Artes\",\"Lingu\\u00edstica, Letras e Artes\",\"Ci\\u00eancias da Sa\\u00fade\",\"Ci\\u00eancias da Sa\\u00fade\",\"Ci\\u00eancias da Sa\\u00fade\",\"Ci\\u00eancias Sociais Aplicadas\",\"Lingu\\u00edstica, Letras e Artes\",\"Ci\\u00eancias Sociais Aplicadas\",\"Ci\\u00eancias Sociais Aplicadas\",\"Ci\\u00eancias Humanas\",\"Ci\\u00eancias Exatas e da Terra\",\"Ci\\u00eancias Exatas e da Terra\",\"Ci\\u00eancias Exatas e da Terra\",\"Ci\\u00eancias Exatas e da Terra\",\"Ci\\u00eancias da Sa\\u00fade\",\"Ci\\u00eancias Sociais Aplicadas\",\"Ci\\u00eancias Exatas e da Terra\",\"Lingu\\u00edstica, Letras e Artes\",\"Ci\\u00eancias Exatas e da Terra\",\"Ci\\u00eancias Sociais Aplicadas\",\"Ci\\u00eancias Sociais Aplicadas\",\"Ci\\u00eancias Agr\\u00e1rias\"],\"curso\":[\"ADMINISTRA\\u00c7\\u00c3O\",\"ADMINISTRA\\u00c7\\u00c3O P\\u00daBLICA\",\"AN\\u00c1LISE E DESENVOLVIMENTO DE SISTEMAS\",\"ARQUITETURA E URBANISMO\",\"ARTES VISUAIS\",\"BIBLIOTECONOMIA\",\"BIOMEDICINA\",\"CI\\u00caNCIA DA COMPUTA\\u00c7\\u00c3O\",\"CI\\u00caNCIAS ATUARIAIS\",\"CI\\u00caNCIAS BIOL\\u00d3GICAS\",\"CI\\u00caNCIAS BIOL\\u00d3GICAS\",\"CI\\u00caNCIAS BIOL\\u00d3GICAS\",\"CI\\u00caNCIAS CONT\\u00c1BEIS\",\"CI\\u00caNCIAS CONT\\u00c1BEIS\",\"CI\\u00caNCIAS ECON\\u00d4MICAS\",\"CI\\u00caNCIAS E TECNOLOGIA\",\"CI\\u00caNCIAS SOCIAIS\",\"CI\\u00caNCIAS SOCIAIS\",\"COMUNICA\\u00c7\\u00c3O SOCIAL\",\"COMUNICA\\u00c7\\u00c3O SOCIAL - AUDIOVISUAL\",\"COMUNICA\\u00c7\\u00c3O SOCIAL- PUBLICIDADE E PROPAGANDA\",\"DAN\\u00c7A\",\"DESIGN\",\"DIREITO\",\"DIREITO\",\"ECOLOGIA\",\"EDUCA\\u00c7\\u00c3O F\\u00cdSICA\",\"EDUCA\\u00c7\\u00c3O F\\u00cdSICA\",\"EDUCA\\u00c7\\u00c3O F\\u00cdSICA\",\"EDUCA\\u00c7\\u00c3O F\\u00cdSICA\",\"ENFERMAGEM\",\"ENFERMAGEM\",\"ENGENHARIA AGRON\\u00d4MICA\",\"ENGENHARIA AMBIENTAL\",\"ENGENHARIA BIOM\\u00c9DICA\",\"ENGENHARIA CIVIL\",\"ENGENHARIA DE ALIMENTOS\",\"ENGENHARIA DE AQUICULTURA\",\"ENGENHARIA DE COMPUTA\\u00c7\\u00c3O\",\"ENGENHARIA DE MATERIAIS\",\"ENGENHARIA DE PETR\\u00d3LEO\",\"ENGENHARIA DE PRODU\\u00c7\\u00c3O\",\"ENGENHARIA DE SOFTWARE\",\"ENGENHARIA DE TELECOMUNICA\\u00c7\\u00d5ES\",\"ENGENHARIA EL\\u00c9TRICA\",\"ENGENHARIA FLORESTAL\",\"ENGENHARIA MEC\\u00c2NICA\",\"ENGENHARIA MECATR\\u00d4NICA\",\"ENGENHARIA QU\\u00cdMICA\",\"ENGENHARIA T\\u00caXTIL\",\"ESTAT\\u00cdSTICA\",\"FARM\\u00c1CIA\",\"FILOSOFIA\",\"FILOSOFIA\",\"F\\u00cdSICA\",\"F\\u00cdSICA\",\"F\\u00cdSICA\",\"FISIOTERAPIA\",\"FISIOTERAPIA\",\"FONOAUDIOLOGIA\",\"GEOF\\u00cdSICA\",\"GEOGRAFIA\",\"GEOGRAFIA\",\"GEOGRAFIA\",\"GEOGRAFIA\",\"GEOGRAFIA\",\"GEOLOGIA\",\"GEST\\u00c3O DE COOPERATIVAS\",\"GEST\\u00c3O DE POL\\u00cdTICAS P\\u00daBLICAS\",\"GEST\\u00c3O HOSPITALAR\",\"HIST\\u00d3RIA\",\"HIST\\u00d3RIA\",\"HIST\\u00d3RIA\",\"HIST\\u00d3RIA\",\"HIST\\u00d3RIA\",\"JORNALISMO\",\"LETRAS\",\"LETRAS - FRANC\\u00caS\",\"LETRAS - INGL\\u00caS\",\"LETRAS - L\\u00cdNGUA ESPANHOLA\",\"LETRAS - L\\u00cdNGUA ESPANHOLA\",\"LETRAS - L\\u00cdNGUA PORTUGUESA\",\"LETRAS - L\\u00cdNGUA PORTUGUESA\",\"LETRAS - L\\u00cdNGUA PORTUGUESA E LIBRAS\",\"LICENCIATURA EM CI\\u00caNCIAS SOCIAIS\",\"MATEM\\u00c1TICA\",\"MATEM\\u00c1TICA\",\"MATEM\\u00c1TICA\",\"MATEM\\u00c1TICA\",\"MATEM\\u00c1TICA\",\"MEDICINA\",\"MEDICINA\",\"METEOROLOGIA\",\"M\\u00daSICA\",\"M\\u00daSICA\",\"NUTRI\\u00c7\\u00c3O\",\"NUTRI\\u00c7\\u00c3O\",\"ODONTOLOGIA\",\"PEDAGOGIA\",\"PEDAGOGIA\",\"PEDAGOGIA\",\"PSICOLOGIA\",\"PSICOLOGIA\",\"QU\\u00cdMICA\",\"QU\\u00cdMICA\",\"QU\\u00cdMICA\",\"QU\\u00cdMICA DO PETR\\u00d3LEO\",\"SA\\u00daDE COLETIVA\",\"SERVI\\u00c7O SOCIAL\",\"SISTEMAS DE INFORMA\\u00c7\\u00c3O\",\"TEATRO\",\"TECNOLOGIA DA INFORMA\\u00c7\\u00c3O\",\"TURISMO\",\"TURISMO\",\"ZOOTECNIA\"],\"x\":{\"__ndarray__\":\"BXlKkKcE2T8AAAAAAAAAAMMwDMMwDOM/VVVVVVVV1T9GF1100UXXP0N5DeU1lNc/lNdQXkN53T8AAAAAAADQP7OmrClryto/RhdddNFF1z9ln0NqgvHWPwAAAAAAAPh/37D2DWvf4D8ssMACCyzgP1VVVVVVVdU/Q3kN5TWU3T8mtJfQXkLbPxdddNFFF90/AAAAAAAA+H+66KKLLrrYP5U1ZU1ZU9Y/HMdxHMdx3D8AAAAAAAD4f5u1WZu1Wds/mpmZmZmZ2T8DmRQvkEnhP9u2bdu2bds/AAAAAAAA+H8AAAAAAAD4fwAAAAAAAPh/27Zt27Zt2z8AAAAAAAD4f7rooosuuuA/I591gyny2T8cx3Ecx3HcP8hTgjwlyNM/AAAAAAAA+H9T1pQ1ZU3ZP5qZmZmZmdk/ntiJndiJzT9VVVVVVVXlPy+n4OUUvNw/3t3d3d3d3T9mZmZmZmbWP0FMriAmV9A/fdYNpshn3T9VVVVVVVXVPzEMwzAMw+A/XkN5DeU11D/rBlPks27gP/cS2ktoL+E/FbycgpdT4D92gynyWTfYP0N5DeU1lNc/AAAAAAAA+H/Tm970pjfdPwAAAAAAAOA/Ntlkk0022T8XXXTRRRfdP7OmrClryto/AAAAAAAA4D8vp+DlFLzcPwAAAAAAAPh/C1nIQhay4D8/NNaHxvrgPylcj8L1KNw/F1100UUX3T8AAAAAAAD4fwAAAAAAAPh/PzTWh8b64D8AAAAAAAD4f3TRRRdddNE/ZCELWchC1j+Ih4eHh4fXPwAAAAAAAN4/L7rooosu2j8AAAAAAAD4fwAAAAAAANw/3t3d3d3d3T8AAAAAAADgP6ldidqVqN0/AAAAAAAA+H900UUXXXThPwAAAAAAAPh/AAAAAAAA+H8AAAAAAAD4fxzHcRzHcdw/cfWDjgp84T8AAAAAAADwPy+66KKLLto/VVVVVVVV1T8AAAAAAAD4f2ejvrNR39k/AAAAAAAA4D9mZmZmZmbePxj0BX1BX+A/dNFFF1104T8XXXTRRRfdPyivobyG8to/AAAAAAAA+H8jFXOrM1LhPxW8nIKXU+A/1ofG+tBY3z8AAAAAAAD4f4OXU/ByCt4/6loObvYL4T/Wh8b60FjfP93c3Nzc3Nw/X19fX19f3z8AAAAAAADiP9mJndiJndg/NRhrRiDk3T/D2jesfcPaPxzHcRzHcdw/VVVVVVVV1T8=\",\"dtype\":\"float64\",\"shape\":[115]},\"y\":{\"__ndarray__\":\"h7VvWPuG1T8AAAAAAAAAANu2bdu2bcs/9DzP8zzP4z900UUXXXThP+U1lNdQXuM/h/Iaymso5z8AAAAAAAAAABJ3xB1xR9w/6aKLLrro4j+pCcZb2efgPwAAAAAAAPh/RhdddNFF1z922WWXXXbZP3AfwX0E98E/KK+hvIbyyj9MaC+hvYTWP8hTgjwlyOM/AAAAAAAA+H+MLrroooveP9aUNWVNWeM/OY7jOI7j6D8AAAAAAAD4f9mJndiJndg/7RvWvmHt2z8Jyz2NsNzjP+HlFLycgtc/AAAAAAAA+H8AAAAAAAD4fwAAAAAAAPh/SZIkSZIk5T8AAAAAAAD4f7rooosuutg/whT5rBtM4T8AAAAAAADgP+0b1r5h7cs/AAAAAAAA+H9T1pQ1ZU3ZP1AHdVAHddA/ntiJndiJ3T9VVVVVVVXVP+YUvJyCl9M/ERERERERsT+amZmZmZm5P0FMriAmV8A/I591gyny2T8cx3Ecx3G8PxiGYRiGYbg/bCivobyG0j8q8lk3mCLfP3Icx3Ecx9E/rA+N9aGx3j92gynyWTfYPzaU11BeQ9k/AAAAAAAA+H9kIQtZyEK2P0YXXXTRRcc/TjbZZJNN5j9GF1100UXnP4O+oC/oC+o/27Zt27Zt2z+IxvrQWB/aPwAAAAAAAPh/AAAAAAAA4D+SJEmSJEnSP4/C9Shcj+I/F1100UUX3T8AAAAAAAD4fwAAAAAAAPh/4eUUvJyC5z8AAAAAAAD4f0YXXXTRRdc/Tm9605ve5D9paWlpaWnhP6uqqqqqqto/XXTRRRdd5D8AAAAAAAD4fwAAAAAAAOI/VVVVVVVV5T+e2Imd2IndP9uVqF2J2uU/AAAAAAAA+H9ddNFFF13kPwAAAAAAAPh/AAAAAAAA+H8AAAAAAAD4fzmO4ziO49g/0FGBL65+0D8AAAAAAAAAAF100UUXXdQ/VVVVVVVV1T8AAAAAAAD4f1Lf2ajvbNQ/HMdxHMdxvD/NzMzMzMzUP1PWlDVlTek/0UUXXXTR5T8vuuiiiy7iPxbTWUxnMe0/AAAAAAAA+H/Id+EgenznP7ycgpdT8OI/5hS8nIKX4z8AAAAAAAD4f4jG+tBYH9o/H5lA79S13D8VvJyCl1PgP3h4eHh4eOg/3dzc3Nzc7D9VVVVVVVXVP57YiZ3Yid0/bnK0kpjwuD9KkKcEeUrgPxzHcRzHceQ/JUmSJEmS5D8=\",\"dtype\":\"float64\",\"shape\":[115]}},\"selected\":{\"id\":\"1558\",\"type\":\"Selection\"},\"selection_policy\":{\"id\":\"1557\",\"type\":\"UnionRenderers\"}},\"id\":\"1470\",\"type\":\"ColumnDataSource\"}],\"root_ids\":[\"1472\"]},\"title\":\"Bokeh Application\",\"version\":\"1.1.0\"}};\n",
       "  var render_items = [{\"docid\":\"9f61bf7f-6ddc-4885-9477-3425954a6729\",\"roots\":{\"1472\":\"eea1f84f-874e-4547-b5bc-8fede4dad749\"}}];\n",
       "  root.Bokeh.embed.embed_items_notebook(docs_json, render_items);\n",
       "\n",
       "  }\n",
       "  if (root.Bokeh !== undefined) {\n",
       "    embed_document(root);\n",
       "  } else {\n",
       "    var attempts = 0;\n",
       "    var timer = setInterval(function(root) {\n",
       "      if (root.Bokeh !== undefined) {\n",
       "        embed_document(root);\n",
       "        clearInterval(timer);\n",
       "      }\n",
       "      attempts++;\n",
       "      if (attempts > 100) {\n",
       "        console.log(\"Bokeh: ERROR: Unable to run BokehJS code because BokehJS library is missing\");\n",
       "        clearInterval(timer);\n",
       "      }\n",
       "    }, 10, root)\n",
       "  }\n",
       "})(window);"
      ],
      "application/vnd.bokehjs_exec.v0+json": ""
     },
     "metadata": {
      "application/vnd.bokehjs_exec.v0+json": {
       "id": "1472"
      }
     },
     "output_type": "display_data"
    }
   ],
   "source": [
    "show(plot)"
   ]
  },
  {
   "cell_type": "markdown",
   "metadata": {
    "colab_type": "text",
    "id": "jCXHDFhqbTej"
   },
   "source": [
    "## Como era antes?"
   ]
  },
  {
   "cell_type": "markdown",
   "metadata": {
    "colab_type": "text",
    "id": "fbhqnYRabYGZ"
   },
   "source": [
    "## Como estamos em relação ao Brasil?"
   ]
  }
 ],
 "metadata": {
  "colab": {
   "name": "sexo_e_cor_da_ufrn.ipynb",
   "provenance": [],
   "version": "0.3.2"
  },
  "kernelspec": {
   "display_name": "Python 3",
   "language": "python",
   "name": "python3"
  },
  "language_info": {
   "codemirror_mode": {
    "name": "ipython",
    "version": 3
   },
   "file_extension": ".py",
   "mimetype": "text/x-python",
   "name": "python",
   "nbconvert_exporter": "python",
   "pygments_lexer": "ipython3",
   "version": "3.6.7"
  }
 },
 "nbformat": 4,
 "nbformat_minor": 2
}
