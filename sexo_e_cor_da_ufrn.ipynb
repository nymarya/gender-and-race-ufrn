{
  "nbformat": 4,
  "nbformat_minor": 0,
  "metadata": {
    "colab": {
      "name": "sexo_e_cor_da_ufrn.ipynb",
      "version": "0.3.2",
      "provenance": [],
      "toc_visible": true
    },
    "kernelspec": {
      "name": "python3",
      "display_name": "Python 3"
    }
  },
  "cells": [
    {
      "metadata": {
        "id": "JIHmieTxP0iW",
        "colab_type": "text"
      },
      "cell_type": "markdown",
      "source": [
        "Todo \n",
        "\n",
        "- [ ] Checar dados faltantes em raca e sexo"
      ]
    },
    {
      "metadata": {
        "id": "sbRveY6NaOpz",
        "colab_type": "code",
        "colab": {}
      },
      "cell_type": "code",
      "source": [
        "import pandas as pd\n",
        "import numpy as np\n",
        "\n",
        "# elementos do Bokeh \n",
        "from bokeh.io import curdoc\n",
        "from bokeh.models import ColumnDataSource\n",
        "from bokeh.plotting import figure, show\n",
        "from bokeh.models import CategoricalColorMapper, Legend, LegendItem\n",
        "from bokeh.palettes import Spectral9\n",
        "from bokeh.models.annotations import Legend\n",
        "from bokeh.io import output_notebook\n",
        "from bokeh.layouts import column"
      ],
      "execution_count": 0,
      "outputs": []
    },
    {
      "metadata": {
        "id": "UnQfMpGPboJv",
        "colab_type": "code",
        "colab": {}
      },
      "cell_type": "code",
      "source": [
        "# Datasets\n",
        "url_discentes_2019 = \"http://dados.ufrn.br/dataset/554c2d41-cfce-4278-93c6-eb9aa49c5d16/resource/a55aef81-e094-4267-8643-f283524e3dd7/download/discentes-2019.csv\"\n",
        "url_cursos = \"http://dados.ufrn.br/dataset/02526b96-cf40-4507-90b0-3afe5ddd53e7/resource/a10bc434-9a2d-491a-ae8c-41cf643c35bc/download/cursos-de-graduacao.csv\"\n",
        "\n",
        "# ColunaS\n",
        "COLUNAS_ALUNO = ['sexo', 'raca', 'tipo_discente', 'status', 'sigla_nivel_ensino', \n",
        "                 'matricula', 'id_curso']\n",
        "COLUNAS_CURSO = ['nome', 'nivel_ensino', 'area_conhecimento', 'id_curso', \n",
        "                 'modalidade_educacao']\n",
        "\n",
        "discentes = pd.read_csv(url_discentes_2019, sep=';')\n",
        "alunos_ativos_2019 = (discentes.status == 'ATIVO') & (discentes.sigla_nivel_ensino == 'G')\n",
        "dados_discentes = discentes.loc[ alunos_ativos_2019 , COLUNAS_ALUNO ]\n",
        "\n",
        "cursos = pd.read_csv(url_cursos, sep=';')\n",
        "cursos_graduacao = cursos.loc[ cursos.nivel_ensino == 'GRADUAÇÃO',  COLUNAS_CURSO ]\n",
        "dist_cursos_2019 = cursos_graduacao.set_index('id_curso')"
      ],
      "execution_count": 0,
      "outputs": []
    },
    {
      "metadata": {
        "id": "9H-F1ygiHWiN",
        "colab_type": "text"
      },
      "cell_type": "markdown",
      "source": [
        "### Pre processamento"
      ]
    },
    {
      "metadata": {
        "id": "eWha54fgHZWX",
        "colab_type": "code",
        "outputId": "f7b9097e-db59-47ec-f5ed-e000c9416c7a",
        "colab": {
          "base_uri": "https://localhost:8080/",
          "height": 1071
        }
      },
      "cell_type": "code",
      "source": [
        "cursos_graduacao[['nome','area_conhecimento']].drop_duplicates()['nome'].value_counts()"
      ],
      "execution_count": 3,
      "outputs": [
        {
          "output_type": "execute_result",
          "data": {
            "text/plain": [
              "PEDAGOGIA                                       2\n",
              "LETRAS - LÍNGUA PORTUGUESA                      2\n",
              "PSICOLOGIA                                      2\n",
              "GEOGRAFIA                                       2\n",
              "HISTÓRIA                                        1\n",
              "FISIOTERAPIA                                    1\n",
              "SERVIÇO SOCIAL                                  1\n",
              "ENGENHARIA AGRONÔMICA                           1\n",
              "DESIGN                                          1\n",
              "ECOLOGIA                                        1\n",
              "QUÍMICA DO PETRÓLEO                             1\n",
              "ENGENHARIA DE ALIMENTOS                         1\n",
              "LETRAS - LÍNGUA ESPANHOLA                       1\n",
              "EDUCAÇÃO FÍSICA                                 1\n",
              "TURISMO                                         1\n",
              "ENGENHARIA DE PRODUÇÃO                          1\n",
              "ODONTOLOGIA                                     1\n",
              "TEATRO                                          1\n",
              "ENGENHARIA DE TELECOMUNICAÇÕES                  1\n",
              "ENGENHARIA DE AQUICULTURA                       1\n",
              "CIÊNCIAS ECONÔMICAS                             1\n",
              "GEOLOGIA                                        1\n",
              "COMUNICAÇÃO SOCIAL- PUBLICIDADE E PROPAGANDA    1\n",
              "COMUNICAÇÃO SOCIAL                              1\n",
              "CIÊNCIAS SOCIAIS                                1\n",
              "BIBLIOTECONOMIA                                 1\n",
              "ENGENHARIA TÊXTIL                               1\n",
              "LETRAS                                          1\n",
              "ADMINISTRAÇÃO                                   1\n",
              "ESTATÍSTICA                                     1\n",
              "                                               ..\n",
              "ENGENHARIA MECÂNICA                             1\n",
              "ENGENHARIA DE MATERIAIS                         1\n",
              "GESTÃO DE POLÍTICAS PÚBLICAS                    1\n",
              "ENGENHARIA BIOMÉDICA                            1\n",
              "LETRAS - LÍNGUA PORTUGUESA E LIBRAS             1\n",
              "ENGENHARIA FLORESTAL                            1\n",
              "MEDICINA                                        1\n",
              "GESTÃO DE COOPERATIVAS                          1\n",
              "FÍSICA                                          1\n",
              "ADMINISTRAÇÃO PÚBLICA                           1\n",
              "COMUNICAÇÃO SOCIAL - AUDIOVISUAL                1\n",
              "LETRAS - INGLÊS                                 1\n",
              "ENGENHARIA ELÉTRICA                             1\n",
              "ENGENHARIA DE SOFTWARE                          1\n",
              "QUÍMICA                                         1\n",
              "MÚSICA                                          1\n",
              "MATEMÁTICA                                      1\n",
              "METEOROLOGIA                                    1\n",
              "CIÊNCIAS ATUARIAIS                              1\n",
              "FONOAUDIOLOGIA                                  1\n",
              "BIOMEDICINA                                     1\n",
              "ENGENHARIA MECATRÔNICA                          1\n",
              "ENGENHARIA QUÍMICA                              1\n",
              "CIÊNCIAS BIOLÓGICAS                             1\n",
              "GESTÃO HOSPITALAR                               1\n",
              "ARTES VISUAIS                                   1\n",
              "GEOFÍSICA                                       1\n",
              "CIÊNCIAS E TECNOLOGIA                           1\n",
              "SISTEMAS DE INFORMAÇÃO                          1\n",
              "TECNOLOGIA DA INFORMAÇÃO                        1\n",
              "Name: nome, Length: 79, dtype: int64"
            ]
          },
          "metadata": {
            "tags": []
          },
          "execution_count": 3
        }
      ]
    },
    {
      "metadata": {
        "id": "3gBXYMhwIlW6",
        "colab_type": "code",
        "outputId": "2b3ae594-7cd6-43b8-c29c-265d4587959c",
        "colab": {
          "base_uri": "https://localhost:8080/",
          "height": 272
        }
      },
      "cell_type": "code",
      "source": [
        "cursos_graduacao.head()"
      ],
      "execution_count": 4,
      "outputs": [
        {
          "output_type": "execute_result",
          "data": {
            "text/html": [
              "<div>\n",
              "<style scoped>\n",
              "    .dataframe tbody tr th:only-of-type {\n",
              "        vertical-align: middle;\n",
              "    }\n",
              "\n",
              "    .dataframe tbody tr th {\n",
              "        vertical-align: top;\n",
              "    }\n",
              "\n",
              "    .dataframe thead th {\n",
              "        text-align: right;\n",
              "    }\n",
              "</style>\n",
              "<table border=\"1\" class=\"dataframe\">\n",
              "  <thead>\n",
              "    <tr style=\"text-align: right;\">\n",
              "      <th></th>\n",
              "      <th>nome</th>\n",
              "      <th>nivel_ensino</th>\n",
              "      <th>area_conhecimento</th>\n",
              "      <th>id_curso</th>\n",
              "      <th>modalidade_educacao</th>\n",
              "    </tr>\n",
              "  </thead>\n",
              "  <tbody>\n",
              "    <tr>\n",
              "      <th>0</th>\n",
              "      <td>ADMINISTRAÇÃO</td>\n",
              "      <td>GRADUAÇÃO</td>\n",
              "      <td>Ciências Sociais Aplicadas</td>\n",
              "      <td>2000002</td>\n",
              "      <td>Presencial</td>\n",
              "    </tr>\n",
              "    <tr>\n",
              "      <th>1</th>\n",
              "      <td>ADMINISTRAÇÃO PÚBLICA</td>\n",
              "      <td>GRADUAÇÃO</td>\n",
              "      <td>Ciências Sociais Aplicadas</td>\n",
              "      <td>15315770</td>\n",
              "      <td>A Distância</td>\n",
              "    </tr>\n",
              "    <tr>\n",
              "      <th>2</th>\n",
              "      <td>ANÁLISE E DESENVOLVIMENTO DE SISTEMAS</td>\n",
              "      <td>GRADUAÇÃO</td>\n",
              "      <td>Outra</td>\n",
              "      <td>94598200</td>\n",
              "      <td>Presencial</td>\n",
              "    </tr>\n",
              "    <tr>\n",
              "      <th>3</th>\n",
              "      <td>ARQUITETURA E URBANISMO</td>\n",
              "      <td>GRADUAÇÃO</td>\n",
              "      <td>Engenharias</td>\n",
              "      <td>2000005</td>\n",
              "      <td>Presencial</td>\n",
              "    </tr>\n",
              "    <tr>\n",
              "      <th>4</th>\n",
              "      <td>ARTES VISUAIS</td>\n",
              "      <td>GRADUAÇÃO</td>\n",
              "      <td>Linguística, Letras e Artes</td>\n",
              "      <td>2000123</td>\n",
              "      <td>Presencial</td>\n",
              "    </tr>\n",
              "  </tbody>\n",
              "</table>\n",
              "</div>"
            ],
            "text/plain": [
              "                                    nome nivel_ensino  \\\n",
              "0                          ADMINISTRAÇÃO    GRADUAÇÃO   \n",
              "1                  ADMINISTRAÇÃO PÚBLICA    GRADUAÇÃO   \n",
              "2  ANÁLISE E DESENVOLVIMENTO DE SISTEMAS    GRADUAÇÃO   \n",
              "3                ARQUITETURA E URBANISMO    GRADUAÇÃO   \n",
              "4                          ARTES VISUAIS    GRADUAÇÃO   \n",
              "\n",
              "             area_conhecimento  id_curso modalidade_educacao  \n",
              "0   Ciências Sociais Aplicadas   2000002          Presencial  \n",
              "1   Ciências Sociais Aplicadas  15315770         A Distância  \n",
              "2                        Outra  94598200          Presencial  \n",
              "3                  Engenharias   2000005          Presencial  \n",
              "4  Linguística, Letras e Artes   2000123          Presencial  "
            ]
          },
          "metadata": {
            "tags": []
          },
          "execution_count": 4
        }
      ]
    },
    {
      "metadata": {
        "id": "sn_ZegMJbQjm",
        "colab_type": "text"
      },
      "cell_type": "markdown",
      "source": [
        "## Como está hoje?\n",
        "\n",
        "Vamos começar com a porcentagem de mulheres por curso"
      ]
    },
    {
      "metadata": {
        "id": "TdBNIS7DJ6lr",
        "colab_type": "code",
        "colab": {}
      },
      "cell_type": "code",
      "source": [
        "# porcentagem de mulheres por curso\n",
        "cursos_e_alunos = pd.merge(left=cursos_graduacao, right=dados_discentes, on='id_curso')"
      ],
      "execution_count": 0,
      "outputs": []
    },
    {
      "metadata": {
        "id": "m4hKh-veNtKS",
        "colab_type": "code",
        "outputId": "6516a022-1faa-4985-82cf-39366ce80522",
        "colab": {
          "base_uri": "https://localhost:8080/",
          "height": 85
        }
      },
      "cell_type": "code",
      "source": [
        "cursos_e_alunos.columns"
      ],
      "execution_count": 6,
      "outputs": [
        {
          "output_type": "execute_result",
          "data": {
            "text/plain": [
              "Index(['nome', 'nivel_ensino', 'area_conhecimento', 'id_curso',\n",
              "       'modalidade_educacao', 'sexo', 'raca', 'tipo_discente', 'status',\n",
              "       'sigla_nivel_ensino', 'matricula'],\n",
              "      dtype='object')"
            ]
          },
          "metadata": {
            "tags": []
          },
          "execution_count": 6
        }
      ]
    },
    {
      "metadata": {
        "id": "IcoFo-OK6QdN",
        "colab_type": "text"
      },
      "cell_type": "markdown",
      "source": [
        "Usando o pivot_table, podemos usar as matriculas dos discentes para recuperar as informações de sexo e raça. A função de agregação vai ser um count do número de alunos. Quando não há nenhum aluno com alguma das raças ou do sexo, o valor padrão seria NaN. Para isso, passamos `fill_value = 0` na função."
      ]
    },
    {
      "metadata": {
        "id": "R-fV5AH7bAgm",
        "colab_type": "code",
        "colab": {}
      },
      "cell_type": "code",
      "source": [
        "cursos_sexos_count = pd.pivot_table(cursos_e_alunos, values='matricula', index=['id_curso'],                    \n",
        "            columns=['sexo'], aggfunc=lambda x: len(x), fill_value=0)"
      ],
      "execution_count": 0,
      "outputs": []
    },
    {
      "metadata": {
        "id": "rLVfMdykbCeo",
        "colab_type": "code",
        "outputId": "48eb20e4-ac3f-43af-89d4-95dacc6bddef",
        "colab": {
          "base_uri": "https://localhost:8080/",
          "height": 235
        }
      },
      "cell_type": "code",
      "source": [
        "cursos_sexos_count.head()"
      ],
      "execution_count": 8,
      "outputs": [
        {
          "output_type": "execute_result",
          "data": {
            "text/html": [
              "<div>\n",
              "<style scoped>\n",
              "    .dataframe tbody tr th:only-of-type {\n",
              "        vertical-align: middle;\n",
              "    }\n",
              "\n",
              "    .dataframe tbody tr th {\n",
              "        vertical-align: top;\n",
              "    }\n",
              "\n",
              "    .dataframe thead th {\n",
              "        text-align: right;\n",
              "    }\n",
              "</style>\n",
              "<table border=\"1\" class=\"dataframe\">\n",
              "  <thead>\n",
              "    <tr style=\"text-align: right;\">\n",
              "      <th>sexo</th>\n",
              "      <th>F</th>\n",
              "      <th>M</th>\n",
              "    </tr>\n",
              "    <tr>\n",
              "      <th>id_curso</th>\n",
              "      <th></th>\n",
              "      <th></th>\n",
              "    </tr>\n",
              "  </thead>\n",
              "  <tbody>\n",
              "    <tr>\n",
              "      <th>2000002</th>\n",
              "      <td>37</td>\n",
              "      <td>72</td>\n",
              "    </tr>\n",
              "    <tr>\n",
              "      <th>2000005</th>\n",
              "      <td>13</td>\n",
              "      <td>8</td>\n",
              "    </tr>\n",
              "    <tr>\n",
              "      <th>2000006</th>\n",
              "      <td>23</td>\n",
              "      <td>15</td>\n",
              "    </tr>\n",
              "    <tr>\n",
              "      <th>2000009</th>\n",
              "      <td>13</td>\n",
              "      <td>9</td>\n",
              "    </tr>\n",
              "    <tr>\n",
              "      <th>2000011</th>\n",
              "      <td>37</td>\n",
              "      <td>56</td>\n",
              "    </tr>\n",
              "  </tbody>\n",
              "</table>\n",
              "</div>"
            ],
            "text/plain": [
              "sexo       F   M\n",
              "id_curso        \n",
              "2000002   37  72\n",
              "2000005   13   8\n",
              "2000006   23  15\n",
              "2000009   13   9\n",
              "2000011   37  56"
            ]
          },
          "metadata": {
            "tags": []
          },
          "execution_count": 8
        }
      ]
    },
    {
      "metadata": {
        "id": "_lckdnYG6_h4",
        "colab_type": "text"
      },
      "cell_type": "markdown",
      "source": [
        "Passamos os valores encontrados de volta para o dataset principal"
      ]
    },
    {
      "metadata": {
        "id": "-BY0QToWQtSD",
        "colab_type": "code",
        "colab": {}
      },
      "cell_type": "code",
      "source": [
        "dist_cursos_2019['F']= cursos_sexos_count['F']\n",
        "dist_cursos_2019['M']= cursos_sexos_count['M']"
      ],
      "execution_count": 0,
      "outputs": []
    },
    {
      "metadata": {
        "id": "Ja2Dugrp7KWN",
        "colab_type": "text"
      },
      "cell_type": "markdown",
      "source": [
        "Para os cursos usamos o pivot_table de forma semelhante à usada para contar os sexos. Neste caso, ainda é necessário normalizar os nomes das colunas, retirando os espaços e os caracteres especiais."
      ]
    },
    {
      "metadata": {
        "id": "fF9CNg0GinQN",
        "colab_type": "code",
        "colab": {}
      },
      "cell_type": "code",
      "source": [
        "cursos_racas_count = pd.pivot_table(cursos_e_alunos, values='matricula', index=['id_curso'],                    \n",
        "            columns=['raca'], aggfunc=lambda x: len(x), fill_value=0)\n",
        "\n",
        "cursos_racas_count.columns = cursos_racas_count.columns.str.lower()\n",
        "\n",
        "names = {\n",
        "    \"amarelo (de origem oriental)\": \"amarelo\",\n",
        "    \"indígeno\": \"indigeno\",\n",
        "    \"não informado\": \"nao_informado\"\n",
        "}\n",
        "cursos_racas_count = cursos_racas_count.rename(columns=names)"
      ],
      "execution_count": 0,
      "outputs": []
    },
    {
      "metadata": {
        "id": "1ybllsVEi2u4",
        "colab_type": "code",
        "outputId": "fff57455-0d0e-481c-a339-79a5075977ea",
        "colab": {
          "base_uri": "https://localhost:8080/",
          "height": 235
        }
      },
      "cell_type": "code",
      "source": [
        "cursos_racas_count.head()"
      ],
      "execution_count": 11,
      "outputs": [
        {
          "output_type": "execute_result",
          "data": {
            "text/html": [
              "<div>\n",
              "<style scoped>\n",
              "    .dataframe tbody tr th:only-of-type {\n",
              "        vertical-align: middle;\n",
              "    }\n",
              "\n",
              "    .dataframe tbody tr th {\n",
              "        vertical-align: top;\n",
              "    }\n",
              "\n",
              "    .dataframe thead th {\n",
              "        text-align: right;\n",
              "    }\n",
              "</style>\n",
              "<table border=\"1\" class=\"dataframe\">\n",
              "  <thead>\n",
              "    <tr style=\"text-align: right;\">\n",
              "      <th>raca</th>\n",
              "      <th>amarelo</th>\n",
              "      <th>branco</th>\n",
              "      <th>indigeno</th>\n",
              "      <th>negro</th>\n",
              "      <th>nao_informado</th>\n",
              "      <th>pardo</th>\n",
              "    </tr>\n",
              "    <tr>\n",
              "      <th>id_curso</th>\n",
              "      <th></th>\n",
              "      <th></th>\n",
              "      <th></th>\n",
              "      <th></th>\n",
              "      <th></th>\n",
              "      <th></th>\n",
              "    </tr>\n",
              "  </thead>\n",
              "  <tbody>\n",
              "    <tr>\n",
              "      <th>2000002</th>\n",
              "      <td>1</td>\n",
              "      <td>54</td>\n",
              "      <td>1</td>\n",
              "      <td>9</td>\n",
              "      <td>1</td>\n",
              "      <td>43</td>\n",
              "    </tr>\n",
              "    <tr>\n",
              "      <th>2000005</th>\n",
              "      <td>0</td>\n",
              "      <td>13</td>\n",
              "      <td>0</td>\n",
              "      <td>1</td>\n",
              "      <td>0</td>\n",
              "      <td>7</td>\n",
              "    </tr>\n",
              "    <tr>\n",
              "      <th>2000006</th>\n",
              "      <td>0</td>\n",
              "      <td>17</td>\n",
              "      <td>0</td>\n",
              "      <td>4</td>\n",
              "      <td>3</td>\n",
              "      <td>14</td>\n",
              "    </tr>\n",
              "    <tr>\n",
              "      <th>2000009</th>\n",
              "      <td>0</td>\n",
              "      <td>10</td>\n",
              "      <td>0</td>\n",
              "      <td>3</td>\n",
              "      <td>1</td>\n",
              "      <td>8</td>\n",
              "    </tr>\n",
              "    <tr>\n",
              "      <th>2000011</th>\n",
              "      <td>0</td>\n",
              "      <td>42</td>\n",
              "      <td>0</td>\n",
              "      <td>3</td>\n",
              "      <td>1</td>\n",
              "      <td>47</td>\n",
              "    </tr>\n",
              "  </tbody>\n",
              "</table>\n",
              "</div>"
            ],
            "text/plain": [
              "raca      amarelo  branco  indigeno  negro  nao_informado  pardo\n",
              "id_curso                                                        \n",
              "2000002         1      54         1      9              1     43\n",
              "2000005         0      13         0      1              0      7\n",
              "2000006         0      17         0      4              3     14\n",
              "2000009         0      10         0      3              1      8\n",
              "2000011         0      42         0      3              1     47"
            ]
          },
          "metadata": {
            "tags": []
          },
          "execution_count": 11
        }
      ]
    },
    {
      "metadata": {
        "id": "zZoRjoJXjYZE",
        "colab_type": "code",
        "colab": {}
      },
      "cell_type": "code",
      "source": [
        "for raca in cursos_racas_count.columns:\n",
        "  dist_cursos_2019[raca] = cursos_racas_count[raca]"
      ],
      "execution_count": 0,
      "outputs": []
    },
    {
      "metadata": {
        "id": "zYdXSX28oCgD",
        "colab_type": "code",
        "outputId": "a2bac0f4-a3d2-4c36-f3fd-473481051ff5",
        "colab": {
          "base_uri": "https://localhost:8080/",
          "height": 148
        }
      },
      "cell_type": "code",
      "source": [
        "dist_cursos_2019.fillna(0).loc[(dist_cursos_2019.nome== 'DESIGN'), :]"
      ],
      "execution_count": 13,
      "outputs": [
        {
          "output_type": "execute_result",
          "data": {
            "text/html": [
              "<div>\n",
              "<style scoped>\n",
              "    .dataframe tbody tr th:only-of-type {\n",
              "        vertical-align: middle;\n",
              "    }\n",
              "\n",
              "    .dataframe tbody tr th {\n",
              "        vertical-align: top;\n",
              "    }\n",
              "\n",
              "    .dataframe thead th {\n",
              "        text-align: right;\n",
              "    }\n",
              "</style>\n",
              "<table border=\"1\" class=\"dataframe\">\n",
              "  <thead>\n",
              "    <tr style=\"text-align: right;\">\n",
              "      <th></th>\n",
              "      <th>nome</th>\n",
              "      <th>nivel_ensino</th>\n",
              "      <th>area_conhecimento</th>\n",
              "      <th>modalidade_educacao</th>\n",
              "      <th>F</th>\n",
              "      <th>M</th>\n",
              "      <th>amarelo</th>\n",
              "      <th>branco</th>\n",
              "      <th>indigeno</th>\n",
              "      <th>negro</th>\n",
              "      <th>nao_informado</th>\n",
              "      <th>pardo</th>\n",
              "    </tr>\n",
              "    <tr>\n",
              "      <th>id_curso</th>\n",
              "      <th></th>\n",
              "      <th></th>\n",
              "      <th></th>\n",
              "      <th></th>\n",
              "      <th></th>\n",
              "      <th></th>\n",
              "      <th></th>\n",
              "      <th></th>\n",
              "      <th></th>\n",
              "      <th></th>\n",
              "      <th></th>\n",
              "      <th></th>\n",
              "    </tr>\n",
              "  </thead>\n",
              "  <tbody>\n",
              "    <tr>\n",
              "      <th>6992521</th>\n",
              "      <td>DESIGN</td>\n",
              "      <td>GRADUAÇÃO</td>\n",
              "      <td>Linguística, Letras e Artes</td>\n",
              "      <td>Presencial</td>\n",
              "      <td>0.0</td>\n",
              "      <td>0.0</td>\n",
              "      <td>0.0</td>\n",
              "      <td>0.0</td>\n",
              "      <td>0.0</td>\n",
              "      <td>0.0</td>\n",
              "      <td>0.0</td>\n",
              "      <td>0.0</td>\n",
              "    </tr>\n",
              "  </tbody>\n",
              "</table>\n",
              "</div>"
            ],
            "text/plain": [
              "            nome nivel_ensino            area_conhecimento  \\\n",
              "id_curso                                                     \n",
              "6992521   DESIGN    GRADUAÇÃO  Linguística, Letras e Artes   \n",
              "\n",
              "         modalidade_educacao    F    M  amarelo  branco  indigeno  negro  \\\n",
              "id_curso                                                                   \n",
              "6992521           Presencial  0.0  0.0      0.0     0.0       0.0    0.0   \n",
              "\n",
              "          nao_informado  pardo  \n",
              "id_curso                        \n",
              "6992521             0.0    0.0  "
            ]
          },
          "metadata": {
            "tags": []
          },
          "execution_count": 13
        }
      ]
    },
    {
      "metadata": {
        "id": "mc54CmJA8HWR",
        "colab_type": "text"
      },
      "cell_type": "markdown",
      "source": [
        "Por existirem modalidades diferentes, alguns cursos aparecem com apenas um aluno, como é o caso abaixo."
      ]
    },
    {
      "metadata": {
        "id": "qm7J4svrqBE6",
        "colab_type": "code",
        "outputId": "787008a1-e776-4423-dc56-3a4c2332bf15",
        "colab": {
          "base_uri": "https://localhost:8080/",
          "height": 80
        }
      },
      "cell_type": "code",
      "source": [
        "dados_discentes.loc[ dados_discentes.id_curso == 15315770]"
      ],
      "execution_count": 14,
      "outputs": [
        {
          "output_type": "execute_result",
          "data": {
            "text/html": [
              "<div>\n",
              "<style scoped>\n",
              "    .dataframe tbody tr th:only-of-type {\n",
              "        vertical-align: middle;\n",
              "    }\n",
              "\n",
              "    .dataframe tbody tr th {\n",
              "        vertical-align: top;\n",
              "    }\n",
              "\n",
              "    .dataframe thead th {\n",
              "        text-align: right;\n",
              "    }\n",
              "</style>\n",
              "<table border=\"1\" class=\"dataframe\">\n",
              "  <thead>\n",
              "    <tr style=\"text-align: right;\">\n",
              "      <th></th>\n",
              "      <th>sexo</th>\n",
              "      <th>raca</th>\n",
              "      <th>tipo_discente</th>\n",
              "      <th>status</th>\n",
              "      <th>sigla_nivel_ensino</th>\n",
              "      <th>matricula</th>\n",
              "      <th>id_curso</th>\n",
              "    </tr>\n",
              "  </thead>\n",
              "  <tbody>\n",
              "    <tr>\n",
              "      <th>10311</th>\n",
              "      <td>M</td>\n",
              "      <td>Branco</td>\n",
              "      <td>REGULAR</td>\n",
              "      <td>ATIVO</td>\n",
              "      <td>G</td>\n",
              "      <td>20190000026</td>\n",
              "      <td>15315770.0</td>\n",
              "    </tr>\n",
              "  </tbody>\n",
              "</table>\n",
              "</div>"
            ],
            "text/plain": [
              "      sexo    raca tipo_discente status sigla_nivel_ensino    matricula  \\\n",
              "10311    M  Branco       REGULAR  ATIVO                  G  20190000026   \n",
              "\n",
              "         id_curso  \n",
              "10311  15315770.0  "
            ]
          },
          "metadata": {
            "tags": []
          },
          "execution_count": 14
        }
      ]
    },
    {
      "metadata": {
        "id": "OHX05Z-m88uz",
        "colab_type": "text"
      },
      "cell_type": "markdown",
      "source": [
        "Para contornar isso, vamos agrupar todos os cursos, independente da modalidade."
      ]
    },
    {
      "metadata": {
        "id": "FtGMmS6k8b1v",
        "colab_type": "code",
        "colab": {
          "base_uri": "https://localhost:8080/",
          "height": 340
        },
        "outputId": "c8f8ac54-af30-4b17-bb31-74c2789843db"
      },
      "cell_type": "code",
      "source": [
        "dist_cursos_2019.fillna(0).groupby('nome').get_group('MATEMÁTICA')"
      ],
      "execution_count": 15,
      "outputs": [
        {
          "output_type": "execute_result",
          "data": {
            "text/html": [
              "<div>\n",
              "<style scoped>\n",
              "    .dataframe tbody tr th:only-of-type {\n",
              "        vertical-align: middle;\n",
              "    }\n",
              "\n",
              "    .dataframe tbody tr th {\n",
              "        vertical-align: top;\n",
              "    }\n",
              "\n",
              "    .dataframe thead th {\n",
              "        text-align: right;\n",
              "    }\n",
              "</style>\n",
              "<table border=\"1\" class=\"dataframe\">\n",
              "  <thead>\n",
              "    <tr style=\"text-align: right;\">\n",
              "      <th></th>\n",
              "      <th>nome</th>\n",
              "      <th>nivel_ensino</th>\n",
              "      <th>area_conhecimento</th>\n",
              "      <th>modalidade_educacao</th>\n",
              "      <th>F</th>\n",
              "      <th>M</th>\n",
              "      <th>amarelo</th>\n",
              "      <th>branco</th>\n",
              "      <th>indigeno</th>\n",
              "      <th>negro</th>\n",
              "      <th>nao_informado</th>\n",
              "      <th>pardo</th>\n",
              "    </tr>\n",
              "    <tr>\n",
              "      <th>id_curso</th>\n",
              "      <th></th>\n",
              "      <th></th>\n",
              "      <th></th>\n",
              "      <th></th>\n",
              "      <th></th>\n",
              "      <th></th>\n",
              "      <th></th>\n",
              "      <th></th>\n",
              "      <th></th>\n",
              "      <th></th>\n",
              "      <th></th>\n",
              "      <th></th>\n",
              "    </tr>\n",
              "  </thead>\n",
              "  <tbody>\n",
              "    <tr>\n",
              "      <th>85436489</th>\n",
              "      <td>MATEMÁTICA</td>\n",
              "      <td>GRADUAÇÃO</td>\n",
              "      <td>Ciências Exatas e da Terra</td>\n",
              "      <td>Presencial</td>\n",
              "      <td>0.0</td>\n",
              "      <td>0.0</td>\n",
              "      <td>0.0</td>\n",
              "      <td>0.0</td>\n",
              "      <td>0.0</td>\n",
              "      <td>0.0</td>\n",
              "      <td>0.0</td>\n",
              "      <td>0.0</td>\n",
              "    </tr>\n",
              "    <tr>\n",
              "      <th>2000055</th>\n",
              "      <td>MATEMÁTICA</td>\n",
              "      <td>GRADUAÇÃO</td>\n",
              "      <td>Ciências Exatas e da Terra</td>\n",
              "      <td>Presencial</td>\n",
              "      <td>14.0</td>\n",
              "      <td>22.0</td>\n",
              "      <td>0.0</td>\n",
              "      <td>17.0</td>\n",
              "      <td>0.0</td>\n",
              "      <td>2.0</td>\n",
              "      <td>1.0</td>\n",
              "      <td>16.0</td>\n",
              "    </tr>\n",
              "    <tr>\n",
              "      <th>111635066</th>\n",
              "      <td>MATEMÁTICA</td>\n",
              "      <td>GRADUAÇÃO</td>\n",
              "      <td>Ciências Exatas e da Terra</td>\n",
              "      <td>Presencial</td>\n",
              "      <td>25.0</td>\n",
              "      <td>72.0</td>\n",
              "      <td>0.0</td>\n",
              "      <td>34.0</td>\n",
              "      <td>0.0</td>\n",
              "      <td>6.0</td>\n",
              "      <td>4.0</td>\n",
              "      <td>53.0</td>\n",
              "    </tr>\n",
              "    <tr>\n",
              "      <th>2000134</th>\n",
              "      <td>MATEMÁTICA</td>\n",
              "      <td>GRADUAÇÃO</td>\n",
              "      <td>Ciências Exatas e da Terra</td>\n",
              "      <td>A Distância</td>\n",
              "      <td>0.0</td>\n",
              "      <td>1.0</td>\n",
              "      <td>0.0</td>\n",
              "      <td>0.0</td>\n",
              "      <td>0.0</td>\n",
              "      <td>0.0</td>\n",
              "      <td>0.0</td>\n",
              "      <td>1.0</td>\n",
              "    </tr>\n",
              "    <tr>\n",
              "      <th>2000054</th>\n",
              "      <td>MATEMÁTICA</td>\n",
              "      <td>GRADUAÇÃO</td>\n",
              "      <td>Ciências Exatas e da Terra</td>\n",
              "      <td>Presencial</td>\n",
              "      <td>7.0</td>\n",
              "      <td>15.0</td>\n",
              "      <td>0.0</td>\n",
              "      <td>11.0</td>\n",
              "      <td>0.0</td>\n",
              "      <td>2.0</td>\n",
              "      <td>0.0</td>\n",
              "      <td>9.0</td>\n",
              "    </tr>\n",
              "  </tbody>\n",
              "</table>\n",
              "</div>"
            ],
            "text/plain": [
              "                 nome nivel_ensino           area_conhecimento  \\\n",
              "id_curso                                                         \n",
              "85436489   MATEMÁTICA    GRADUAÇÃO  Ciências Exatas e da Terra   \n",
              "2000055    MATEMÁTICA    GRADUAÇÃO  Ciências Exatas e da Terra   \n",
              "111635066  MATEMÁTICA    GRADUAÇÃO  Ciências Exatas e da Terra   \n",
              "2000134    MATEMÁTICA    GRADUAÇÃO  Ciências Exatas e da Terra   \n",
              "2000054    MATEMÁTICA    GRADUAÇÃO  Ciências Exatas e da Terra   \n",
              "\n",
              "          modalidade_educacao     F     M  amarelo  branco  indigeno  negro  \\\n",
              "id_curso                                                                      \n",
              "85436489           Presencial   0.0   0.0      0.0     0.0       0.0    0.0   \n",
              "2000055            Presencial  14.0  22.0      0.0    17.0       0.0    2.0   \n",
              "111635066          Presencial  25.0  72.0      0.0    34.0       0.0    6.0   \n",
              "2000134           A Distância   0.0   1.0      0.0     0.0       0.0    0.0   \n",
              "2000054            Presencial   7.0  15.0      0.0    11.0       0.0    2.0   \n",
              "\n",
              "           nao_informado  pardo  \n",
              "id_curso                         \n",
              "85436489             0.0    0.0  \n",
              "2000055              1.0   16.0  \n",
              "111635066            4.0   53.0  \n",
              "2000134              0.0    1.0  \n",
              "2000054              0.0    9.0  "
            ]
          },
          "metadata": {
            "tags": []
          },
          "execution_count": 15
        }
      ]
    },
    {
      "metadata": {
        "id": "moLE7J_e-HWe",
        "colab_type": "code",
        "colab": {}
      },
      "cell_type": "code",
      "source": [
        "colunas = ['F','M','amarelo','branco','indigeno','negro','nao_informado','pardo']\n",
        "cursos_agrupados = dist_cursos_2019.fillna(0).groupby('nome')"
      ],
      "execution_count": 0,
      "outputs": []
    },
    {
      "metadata": {
        "id": "sZe_h6QEBD0U",
        "colab_type": "code",
        "colab": {
          "base_uri": "https://localhost:8080/",
          "height": 54
        },
        "outputId": "0cd1ada1-78d2-4b33-885f-6a144f5a69ce"
      },
      "cell_type": "code",
      "source": [
        "cursos_agrupados.groups.keys()"
      ],
      "execution_count": 17,
      "outputs": [
        {
          "output_type": "execute_result",
          "data": {
            "text/plain": [
              "dict_keys(['ADMINISTRAÇÃO', 'ADMINISTRAÇÃO PÚBLICA', 'ANÁLISE E DESENVOLVIMENTO DE SISTEMAS', 'ARQUITETURA E URBANISMO', 'ARTES VISUAIS', 'BIBLIOTECONOMIA', 'BIOMEDICINA', 'CIÊNCIA DA COMPUTAÇÃO', 'CIÊNCIAS ATUARIAIS', 'CIÊNCIAS BIOLÓGICAS', 'CIÊNCIAS CONTÁBEIS', 'CIÊNCIAS E TECNOLOGIA', 'CIÊNCIAS ECONÔMICAS', 'CIÊNCIAS SOCIAIS', 'COMUNICAÇÃO SOCIAL', 'COMUNICAÇÃO SOCIAL - AUDIOVISUAL', 'COMUNICAÇÃO SOCIAL- PUBLICIDADE E PROPAGANDA', 'DANÇA', 'DESIGN', 'DIREITO', 'ECOLOGIA', 'EDUCAÇÃO FÍSICA', 'ENFERMAGEM', 'ENGENHARIA AGRONÔMICA', 'ENGENHARIA AMBIENTAL', 'ENGENHARIA BIOMÉDICA', 'ENGENHARIA CIVIL', 'ENGENHARIA DE ALIMENTOS', 'ENGENHARIA DE AQUICULTURA', 'ENGENHARIA DE COMPUTAÇÃO', 'ENGENHARIA DE MATERIAIS', 'ENGENHARIA DE PETRÓLEO', 'ENGENHARIA DE PRODUÇÃO', 'ENGENHARIA DE SOFTWARE', 'ENGENHARIA DE TELECOMUNICAÇÕES', 'ENGENHARIA ELÉTRICA', 'ENGENHARIA FLORESTAL', 'ENGENHARIA MECATRÔNICA', 'ENGENHARIA MECÂNICA', 'ENGENHARIA QUÍMICA', 'ENGENHARIA TÊXTIL', 'ESTATÍSTICA', 'FARMÁCIA', 'FILOSOFIA', 'FISIOTERAPIA', 'FONOAUDIOLOGIA', 'FÍSICA', 'GEOFÍSICA', 'GEOGRAFIA', 'GEOLOGIA', 'GESTÃO DE COOPERATIVAS', 'GESTÃO DE POLÍTICAS PÚBLICAS', 'GESTÃO HOSPITALAR', 'HISTÓRIA', 'JORNALISMO', 'LETRAS', 'LETRAS - FRANCÊS', 'LETRAS - INGLÊS', 'LETRAS - LÍNGUA ESPANHOLA', 'LETRAS - LÍNGUA PORTUGUESA', 'LETRAS - LÍNGUA PORTUGUESA E LIBRAS', 'LICENCIATURA EM CIÊNCIAS SOCIAIS', 'MATEMÁTICA', 'MEDICINA', 'METEOROLOGIA', 'MÚSICA', 'NUTRIÇÃO', 'ODONTOLOGIA', 'PEDAGOGIA', 'PSICOLOGIA', 'QUÍMICA', 'QUÍMICA DO PETRÓLEO', 'SAÚDE COLETIVA', 'SERVIÇO SOCIAL', 'SISTEMAS DE INFORMAÇÃO', 'TEATRO', 'TECNOLOGIA DA INFORMAÇÃO', 'TURISMO', 'ZOOTECNIA'])"
            ]
          },
          "metadata": {
            "tags": []
          },
          "execution_count": 17
        }
      ]
    },
    {
      "metadata": {
        "id": "JlHCYGbQGPbi",
        "colab_type": "code",
        "colab": {
          "base_uri": "https://localhost:8080/",
          "height": 148
        },
        "outputId": "eb1db7e1-9ce6-4e93-b3ff-569801b937e2"
      },
      "cell_type": "code",
      "source": [
        "cursos_agrupados.get_group('DESIGN')"
      ],
      "execution_count": 18,
      "outputs": [
        {
          "output_type": "execute_result",
          "data": {
            "text/html": [
              "<div>\n",
              "<style scoped>\n",
              "    .dataframe tbody tr th:only-of-type {\n",
              "        vertical-align: middle;\n",
              "    }\n",
              "\n",
              "    .dataframe tbody tr th {\n",
              "        vertical-align: top;\n",
              "    }\n",
              "\n",
              "    .dataframe thead th {\n",
              "        text-align: right;\n",
              "    }\n",
              "</style>\n",
              "<table border=\"1\" class=\"dataframe\">\n",
              "  <thead>\n",
              "    <tr style=\"text-align: right;\">\n",
              "      <th></th>\n",
              "      <th>nome</th>\n",
              "      <th>nivel_ensino</th>\n",
              "      <th>area_conhecimento</th>\n",
              "      <th>modalidade_educacao</th>\n",
              "      <th>F</th>\n",
              "      <th>M</th>\n",
              "      <th>amarelo</th>\n",
              "      <th>branco</th>\n",
              "      <th>indigeno</th>\n",
              "      <th>negro</th>\n",
              "      <th>nao_informado</th>\n",
              "      <th>pardo</th>\n",
              "    </tr>\n",
              "    <tr>\n",
              "      <th>id_curso</th>\n",
              "      <th></th>\n",
              "      <th></th>\n",
              "      <th></th>\n",
              "      <th></th>\n",
              "      <th></th>\n",
              "      <th></th>\n",
              "      <th></th>\n",
              "      <th></th>\n",
              "      <th></th>\n",
              "      <th></th>\n",
              "      <th></th>\n",
              "      <th></th>\n",
              "    </tr>\n",
              "  </thead>\n",
              "  <tbody>\n",
              "    <tr>\n",
              "      <th>6992521</th>\n",
              "      <td>DESIGN</td>\n",
              "      <td>GRADUAÇÃO</td>\n",
              "      <td>Linguística, Letras e Artes</td>\n",
              "      <td>Presencial</td>\n",
              "      <td>0.0</td>\n",
              "      <td>0.0</td>\n",
              "      <td>0.0</td>\n",
              "      <td>0.0</td>\n",
              "      <td>0.0</td>\n",
              "      <td>0.0</td>\n",
              "      <td>0.0</td>\n",
              "      <td>0.0</td>\n",
              "    </tr>\n",
              "  </tbody>\n",
              "</table>\n",
              "</div>"
            ],
            "text/plain": [
              "            nome nivel_ensino            area_conhecimento  \\\n",
              "id_curso                                                     \n",
              "6992521   DESIGN    GRADUAÇÃO  Linguística, Letras e Artes   \n",
              "\n",
              "         modalidade_educacao    F    M  amarelo  branco  indigeno  negro  \\\n",
              "id_curso                                                                   \n",
              "6992521           Presencial  0.0  0.0      0.0     0.0       0.0    0.0   \n",
              "\n",
              "          nao_informado  pardo  \n",
              "id_curso                        \n",
              "6992521             0.0    0.0  "
            ]
          },
          "metadata": {
            "tags": []
          },
          "execution_count": 18
        }
      ]
    },
    {
      "metadata": {
        "id": "gDgWqLXR_-g2",
        "colab_type": "code",
        "colab": {
          "base_uri": "https://localhost:8080/",
          "height": 1360
        },
        "outputId": "79d1205a-bff7-4bcd-e6e0-e6805fe4d4ca"
      },
      "cell_type": "code",
      "source": [
        "dados_2019 = pd.DataFrame(columns = ['nome', 'area_conhecimento'] + colunas)\n",
        "dados_2019['nome'] = cursos_agrupados.groups.keys()\n",
        "\n",
        "# TODO: fazer esse loop de forma pythonica\n",
        "for curso in cursos_agrupados.groups.keys():\n",
        "  area = cursos_agrupados.get_group(curso).agg(lambda x:x.value_counts().index[0])\n",
        "  print(area.get('area_conhecimento'))\n",
        "  dados_2019.loc[dados_2019.nome == curso, 'area_conhecimento'] = area.get('area_conhecimento')\n",
        "  \n",
        "  for coluna in colunas:\n",
        "    grupo = cursos_agrupados.get_group(curso)[coluna]\n",
        "    dados_2019.loc[dados_2019.nome == curso, coluna] = grupo.sum()\n",
        "    "
      ],
      "execution_count": 39,
      "outputs": [
        {
          "output_type": "stream",
          "text": [
            "Ciências Sociais Aplicadas\n",
            "Ciências Sociais Aplicadas\n",
            "Outra\n",
            "Engenharias\n",
            "Linguística, Letras e Artes\n",
            "Ciências Sociais Aplicadas\n",
            "Ciências Biológicas\n",
            "Ciências Exatas e da Terra\n",
            "Ciências Exatas e da Terra\n",
            "Ciências Biológicas\n",
            "Ciências Sociais Aplicadas\n",
            "Ciências Exatas e da Terra\n",
            "Ciências Sociais Aplicadas\n",
            "Ciências Humanas\n",
            "Ciências Humanas\n",
            "Ciências Humanas\n",
            "Ciências Humanas\n",
            "Linguística, Letras e Artes\n",
            "Linguística, Letras e Artes\n",
            "Ciências Sociais Aplicadas\n",
            "Ciências Biológicas\n",
            "Ciências da Saúde\n",
            "Ciências da Saúde\n",
            "Ciências Agrárias\n",
            "Engenharias\n",
            "Engenharias\n",
            "Engenharias\n",
            "Engenharias\n",
            "Ciências Biológicas\n",
            "Engenharias\n",
            "Engenharias\n",
            "Engenharias\n",
            "Engenharias\n",
            "Ciências Exatas e da Terra\n",
            "Engenharias\n",
            "Engenharias\n",
            "Engenharias\n",
            "Engenharias\n",
            "Engenharias\n",
            "Engenharias\n",
            "Engenharias\n",
            "Ciências Exatas e da Terra\n",
            "Ciências da Saúde\n",
            "Linguística, Letras e Artes\n",
            "Ciências da Saúde\n",
            "Ciências da Saúde\n",
            "Ciências Exatas e da Terra\n",
            "Ciências Exatas e da Terra\n",
            "Ciências Humanas\n",
            "Ciências Exatas e da Terra\n",
            "Ciências Sociais Aplicadas\n",
            "Ciências Humanas\n",
            "Ciências da Saúde\n",
            "Ciências Humanas\n",
            "Ciências Humanas\n",
            "Linguística, Letras e Artes\n",
            "Linguística, Letras e Artes\n",
            "Linguística, Letras e Artes\n",
            "Linguística, Letras e Artes\n",
            "Linguística, Letras e Artes\n",
            "Linguística, Letras e Artes\n",
            "Ciências Humanas\n",
            "Ciências Exatas e da Terra\n",
            "Ciências da Saúde\n",
            "Ciências Exatas e da Terra\n",
            "Linguística, Letras e Artes\n",
            "Ciências da Saúde\n",
            "Ciências da Saúde\n",
            "Ciências Sociais Aplicadas\n",
            "Ciências Sociais Aplicadas\n",
            "Ciências Exatas e da Terra\n",
            "Ciências Exatas e da Terra\n",
            "Ciências da Saúde\n",
            "Ciências Sociais Aplicadas\n",
            "Ciências Exatas e da Terra\n",
            "Linguística, Letras e Artes\n",
            "Ciências Exatas e da Terra\n",
            "Ciências Sociais Aplicadas\n",
            "Ciências Agrárias\n"
          ],
          "name": "stdout"
        }
      ]
    },
    {
      "metadata": {
        "id": "00zLOwGxB4f_",
        "colab_type": "code",
        "colab": {
          "base_uri": "https://localhost:8080/",
          "height": 306
        },
        "outputId": "9c29d28b-a94a-4963-8d9d-96dc041e31b7"
      },
      "cell_type": "code",
      "source": [
        "dados_2019.head()"
      ],
      "execution_count": 40,
      "outputs": [
        {
          "output_type": "execute_result",
          "data": {
            "text/html": [
              "<div>\n",
              "<style scoped>\n",
              "    .dataframe tbody tr th:only-of-type {\n",
              "        vertical-align: middle;\n",
              "    }\n",
              "\n",
              "    .dataframe tbody tr th {\n",
              "        vertical-align: top;\n",
              "    }\n",
              "\n",
              "    .dataframe thead th {\n",
              "        text-align: right;\n",
              "    }\n",
              "</style>\n",
              "<table border=\"1\" class=\"dataframe\">\n",
              "  <thead>\n",
              "    <tr style=\"text-align: right;\">\n",
              "      <th></th>\n",
              "      <th>nome</th>\n",
              "      <th>area_conhecimento</th>\n",
              "      <th>F</th>\n",
              "      <th>M</th>\n",
              "      <th>amarelo</th>\n",
              "      <th>branco</th>\n",
              "      <th>indigeno</th>\n",
              "      <th>negro</th>\n",
              "      <th>nao_informado</th>\n",
              "      <th>pardo</th>\n",
              "    </tr>\n",
              "  </thead>\n",
              "  <tbody>\n",
              "    <tr>\n",
              "      <th>0</th>\n",
              "      <td>ADMINISTRAÇÃO</td>\n",
              "      <td>Ciências Sociais Aplicadas</td>\n",
              "      <td>37</td>\n",
              "      <td>72</td>\n",
              "      <td>1</td>\n",
              "      <td>54</td>\n",
              "      <td>1</td>\n",
              "      <td>9</td>\n",
              "      <td>1</td>\n",
              "      <td>43</td>\n",
              "    </tr>\n",
              "    <tr>\n",
              "      <th>1</th>\n",
              "      <td>ADMINISTRAÇÃO PÚBLICA</td>\n",
              "      <td>Ciências Sociais Aplicadas</td>\n",
              "      <td>0</td>\n",
              "      <td>1</td>\n",
              "      <td>0</td>\n",
              "      <td>1</td>\n",
              "      <td>0</td>\n",
              "      <td>0</td>\n",
              "      <td>0</td>\n",
              "      <td>0</td>\n",
              "    </tr>\n",
              "    <tr>\n",
              "      <th>2</th>\n",
              "      <td>ANÁLISE E DESENVOLVIMENTO DE SISTEMAS</td>\n",
              "      <td>Outra</td>\n",
              "      <td>9</td>\n",
              "      <td>33</td>\n",
              "      <td>0</td>\n",
              "      <td>12</td>\n",
              "      <td>0</td>\n",
              "      <td>2</td>\n",
              "      <td>3</td>\n",
              "      <td>25</td>\n",
              "    </tr>\n",
              "    <tr>\n",
              "      <th>3</th>\n",
              "      <td>ARQUITETURA E URBANISMO</td>\n",
              "      <td>Engenharias</td>\n",
              "      <td>13</td>\n",
              "      <td>8</td>\n",
              "      <td>0</td>\n",
              "      <td>13</td>\n",
              "      <td>0</td>\n",
              "      <td>1</td>\n",
              "      <td>0</td>\n",
              "      <td>7</td>\n",
              "    </tr>\n",
              "    <tr>\n",
              "      <th>4</th>\n",
              "      <td>ARTES VISUAIS</td>\n",
              "      <td>Linguística, Letras e Artes</td>\n",
              "      <td>24</td>\n",
              "      <td>20</td>\n",
              "      <td>1</td>\n",
              "      <td>23</td>\n",
              "      <td>0</td>\n",
              "      <td>4</td>\n",
              "      <td>0</td>\n",
              "      <td>16</td>\n",
              "    </tr>\n",
              "  </tbody>\n",
              "</table>\n",
              "</div>"
            ],
            "text/plain": [
              "                                    nome            area_conhecimento   F   M  \\\n",
              "0                          ADMINISTRAÇÃO   Ciências Sociais Aplicadas  37  72   \n",
              "1                  ADMINISTRAÇÃO PÚBLICA   Ciências Sociais Aplicadas   0   1   \n",
              "2  ANÁLISE E DESENVOLVIMENTO DE SISTEMAS                        Outra   9  33   \n",
              "3                ARQUITETURA E URBANISMO                  Engenharias  13   8   \n",
              "4                          ARTES VISUAIS  Linguística, Letras e Artes  24  20   \n",
              "\n",
              "  amarelo branco indigeno negro nao_informado pardo  \n",
              "0       1     54        1     9             1    43  \n",
              "1       0      1        0     0             0     0  \n",
              "2       0     12        0     2             3    25  \n",
              "3       0     13        0     1             0     7  \n",
              "4       1     23        0     4             0    16  "
            ]
          },
          "metadata": {
            "tags": []
          },
          "execution_count": 40
        }
      ]
    },
    {
      "metadata": {
        "id": "uPHpaUjKDnlr",
        "colab_type": "text"
      },
      "cell_type": "markdown",
      "source": [
        "O próximo passo é calcular as porcentagens para cada curso"
      ]
    },
    {
      "metadata": {
        "id": "V6ivyiJRDm0K",
        "colab_type": "code",
        "colab": {
          "base_uri": "https://localhost:8080/",
          "height": 170
        },
        "outputId": "08a04e16-a8cd-4521-a75e-2f82fc7c45f0"
      },
      "cell_type": "code",
      "source": [
        "print(dados_2019.loc[(dados_2019.F == 0) & (dados_2019.M==0),'nome'])\n",
        "# Remove cursos que não possuem alunos\n",
        "remover = dados_2019.loc[(dados_2019.F == 0) & (dados_2019.M==0),'nome']\n",
        "dados_2019 = dados_2019.drop(remover.index)\n",
        "\n",
        "dados_2019['mulheres_no_curso(%)'] = dados_2019['F'] / (dados_2019['M'] + dados_2019['F'])\n",
        "\n",
        "racas = colunas[2:]\n",
        "total_racas = dados_2019[ racas ].sum(axis='columns')\n",
        "for raca in racas:\n",
        "  dados_2019[raca+'_no_curso(%)'] = dados_2019[raca] / total_racas"
      ],
      "execution_count": 41,
      "outputs": [
        {
          "output_type": "stream",
          "text": [
            "14                     COMUNICAÇÃO SOCIAL\n",
            "18                                 DESIGN\n",
            "27                ENGENHARIA DE ALIMENTOS\n",
            "50                 GESTÃO DE COOPERATIVAS\n",
            "51           GESTÃO DE POLÍTICAS PÚBLICAS\n",
            "55                                 LETRAS\n",
            "60    LETRAS - LÍNGUA PORTUGUESA E LIBRAS\n",
            "61       LICENCIATURA EM CIÊNCIAS SOCIAIS\n",
            "Name: nome, dtype: object\n"
          ],
          "name": "stdout"
        }
      ]
    },
    {
      "metadata": {
        "id": "7lzZ2hOxJA0a",
        "colab_type": "code",
        "colab": {
          "base_uri": "https://localhost:8080/",
          "height": 326
        },
        "outputId": "41bcc3f4-d874-4f72-dcdf-7aeb2c3c3dd6"
      },
      "cell_type": "code",
      "source": [
        "dados_2019.head()"
      ],
      "execution_count": 42,
      "outputs": [
        {
          "output_type": "execute_result",
          "data": {
            "text/html": [
              "<div>\n",
              "<style scoped>\n",
              "    .dataframe tbody tr th:only-of-type {\n",
              "        vertical-align: middle;\n",
              "    }\n",
              "\n",
              "    .dataframe tbody tr th {\n",
              "        vertical-align: top;\n",
              "    }\n",
              "\n",
              "    .dataframe thead th {\n",
              "        text-align: right;\n",
              "    }\n",
              "</style>\n",
              "<table border=\"1\" class=\"dataframe\">\n",
              "  <thead>\n",
              "    <tr style=\"text-align: right;\">\n",
              "      <th></th>\n",
              "      <th>nome</th>\n",
              "      <th>area_conhecimento</th>\n",
              "      <th>F</th>\n",
              "      <th>M</th>\n",
              "      <th>amarelo</th>\n",
              "      <th>branco</th>\n",
              "      <th>indigeno</th>\n",
              "      <th>negro</th>\n",
              "      <th>nao_informado</th>\n",
              "      <th>pardo</th>\n",
              "      <th>mulheres_no_curso(%)</th>\n",
              "      <th>amarelo_no_curso(%)</th>\n",
              "      <th>branco_no_curso(%)</th>\n",
              "      <th>indigeno_no_curso(%)</th>\n",
              "      <th>negro_no_curso(%)</th>\n",
              "      <th>nao_informado_no_curso(%)</th>\n",
              "      <th>pardo_no_curso(%)</th>\n",
              "    </tr>\n",
              "  </thead>\n",
              "  <tbody>\n",
              "    <tr>\n",
              "      <th>0</th>\n",
              "      <td>ADMINISTRAÇÃO</td>\n",
              "      <td>Ciências Sociais Aplicadas</td>\n",
              "      <td>37</td>\n",
              "      <td>72</td>\n",
              "      <td>1</td>\n",
              "      <td>54</td>\n",
              "      <td>1</td>\n",
              "      <td>9</td>\n",
              "      <td>1</td>\n",
              "      <td>43</td>\n",
              "      <td>0.33945</td>\n",
              "      <td>0.00917431</td>\n",
              "      <td>0.495413</td>\n",
              "      <td>0.00917431</td>\n",
              "      <td>0.0825688</td>\n",
              "      <td>0.00917431</td>\n",
              "      <td>0.394495</td>\n",
              "    </tr>\n",
              "    <tr>\n",
              "      <th>1</th>\n",
              "      <td>ADMINISTRAÇÃO PÚBLICA</td>\n",
              "      <td>Ciências Sociais Aplicadas</td>\n",
              "      <td>0</td>\n",
              "      <td>1</td>\n",
              "      <td>0</td>\n",
              "      <td>1</td>\n",
              "      <td>0</td>\n",
              "      <td>0</td>\n",
              "      <td>0</td>\n",
              "      <td>0</td>\n",
              "      <td>0</td>\n",
              "      <td>0</td>\n",
              "      <td>1</td>\n",
              "      <td>0</td>\n",
              "      <td>0</td>\n",
              "      <td>0</td>\n",
              "      <td>0</td>\n",
              "    </tr>\n",
              "    <tr>\n",
              "      <th>2</th>\n",
              "      <td>ANÁLISE E DESENVOLVIMENTO DE SISTEMAS</td>\n",
              "      <td>Outra</td>\n",
              "      <td>9</td>\n",
              "      <td>33</td>\n",
              "      <td>0</td>\n",
              "      <td>12</td>\n",
              "      <td>0</td>\n",
              "      <td>2</td>\n",
              "      <td>3</td>\n",
              "      <td>25</td>\n",
              "      <td>0.214286</td>\n",
              "      <td>0</td>\n",
              "      <td>0.285714</td>\n",
              "      <td>0</td>\n",
              "      <td>0.047619</td>\n",
              "      <td>0.0714286</td>\n",
              "      <td>0.595238</td>\n",
              "    </tr>\n",
              "    <tr>\n",
              "      <th>3</th>\n",
              "      <td>ARQUITETURA E URBANISMO</td>\n",
              "      <td>Engenharias</td>\n",
              "      <td>13</td>\n",
              "      <td>8</td>\n",
              "      <td>0</td>\n",
              "      <td>13</td>\n",
              "      <td>0</td>\n",
              "      <td>1</td>\n",
              "      <td>0</td>\n",
              "      <td>7</td>\n",
              "      <td>0.619048</td>\n",
              "      <td>0</td>\n",
              "      <td>0.619048</td>\n",
              "      <td>0</td>\n",
              "      <td>0.047619</td>\n",
              "      <td>0</td>\n",
              "      <td>0.333333</td>\n",
              "    </tr>\n",
              "    <tr>\n",
              "      <th>4</th>\n",
              "      <td>ARTES VISUAIS</td>\n",
              "      <td>Linguística, Letras e Artes</td>\n",
              "      <td>24</td>\n",
              "      <td>20</td>\n",
              "      <td>1</td>\n",
              "      <td>23</td>\n",
              "      <td>0</td>\n",
              "      <td>4</td>\n",
              "      <td>0</td>\n",
              "      <td>16</td>\n",
              "      <td>0.545455</td>\n",
              "      <td>0.0227273</td>\n",
              "      <td>0.522727</td>\n",
              "      <td>0</td>\n",
              "      <td>0.0909091</td>\n",
              "      <td>0</td>\n",
              "      <td>0.363636</td>\n",
              "    </tr>\n",
              "  </tbody>\n",
              "</table>\n",
              "</div>"
            ],
            "text/plain": [
              "                                    nome            area_conhecimento   F   M  \\\n",
              "0                          ADMINISTRAÇÃO   Ciências Sociais Aplicadas  37  72   \n",
              "1                  ADMINISTRAÇÃO PÚBLICA   Ciências Sociais Aplicadas   0   1   \n",
              "2  ANÁLISE E DESENVOLVIMENTO DE SISTEMAS                        Outra   9  33   \n",
              "3                ARQUITETURA E URBANISMO                  Engenharias  13   8   \n",
              "4                          ARTES VISUAIS  Linguística, Letras e Artes  24  20   \n",
              "\n",
              "  amarelo branco indigeno negro nao_informado pardo mulheres_no_curso(%)  \\\n",
              "0       1     54        1     9             1    43              0.33945   \n",
              "1       0      1        0     0             0     0                    0   \n",
              "2       0     12        0     2             3    25             0.214286   \n",
              "3       0     13        0     1             0     7             0.619048   \n",
              "4       1     23        0     4             0    16             0.545455   \n",
              "\n",
              "  amarelo_no_curso(%) branco_no_curso(%) indigeno_no_curso(%)  \\\n",
              "0          0.00917431           0.495413           0.00917431   \n",
              "1                   0                  1                    0   \n",
              "2                   0           0.285714                    0   \n",
              "3                   0           0.619048                    0   \n",
              "4           0.0227273           0.522727                    0   \n",
              "\n",
              "  negro_no_curso(%) nao_informado_no_curso(%) pardo_no_curso(%)  \n",
              "0         0.0825688                0.00917431          0.394495  \n",
              "1                 0                         0                 0  \n",
              "2          0.047619                 0.0714286          0.595238  \n",
              "3          0.047619                         0          0.333333  \n",
              "4         0.0909091                         0          0.363636  "
            ]
          },
          "metadata": {
            "tags": []
          },
          "execution_count": 42
        }
      ]
    },
    {
      "metadata": {
        "id": "KqWLUbehh4Ol",
        "colab_type": "text"
      },
      "cell_type": "markdown",
      "source": [
        "Agora vamos plotar os gráficos usando a biblioteca Bokeh"
      ]
    },
    {
      "metadata": {
        "id": "Uh_Uw0-u6jj3",
        "colab_type": "code",
        "colab": {}
      },
      "cell_type": "code",
      "source": [
        "# Definindo os dados para os graficos\n",
        "source_negros = ColumnDataSource(data={\n",
        "    'x'       : dados_2019[\"negro_no_curso(%)\"],\n",
        "    'y'       : dados_2019[\"mulheres_no_curso(%)\"],\n",
        "    'curso'   : dados_2019.nome,\n",
        "    'area'    : dados_2019.area_conhecimento,\n",
        "})\n",
        "\n",
        "source_pardos = ColumnDataSource(data={\n",
        "    'x'       : dados_2019[\"pardo_no_curso(%)\"],\n",
        "    'y'       : dados_2019[\"mulheres_no_curso(%)\"],\n",
        "    'curso'   : dados_2019.nome,\n",
        "    'area'    : dados_2019.area_conhecimento,\n",
        "})\n",
        "\n",
        "source_indigenas = ColumnDataSource(data={\n",
        "    'x'       : dados_2019[\"indigeno_no_curso(%)\"],\n",
        "    'y'       : dados_2019[\"mulheres_no_curso(%)\"],\n",
        "    'curso'   : dados_2019.nome,\n",
        "    'area'    : dados_2019.area_conhecimento,\n",
        "})\n",
        "\n",
        "source_brancos = ColumnDataSource(data={\n",
        "    'x'       : dados_2019[\"branco_no_curso(%)\"],\n",
        "    'y'       : dados_2019[\"mulheres_no_curso(%)\"],\n",
        "    'curso'   : dados_2019.nome,\n",
        "    'area'    : dados_2019.area_conhecimento,\n",
        "})\n",
        "\n",
        "source_amarelos = ColumnDataSource(data={\n",
        "    'x'       : dados_2019[\"amarelo_no_curso(%)\"],\n",
        "    'y'       : dados_2019[\"mulheres_no_curso(%)\"],\n",
        "    'curso'   : dados_2019.nome,\n",
        "    'area'    : dados_2019.area_conhecimento,\n",
        "})\n"
      ],
      "execution_count": 0,
      "outputs": []
    },
    {
      "metadata": {
        "id": "s-1q0XZRvlOb",
        "colab_type": "code",
        "colab": {}
      },
      "cell_type": "code",
      "source": [
        "def create_legend(plot):\n",
        "  \"\"\"Given a plot, put the legend outside the graphic\n",
        "  \"\"\"\n",
        "  legend_items = plot.legend[0].items.copy()\n",
        "  legend = Legend(items=legend_items, location=\"center\")\n",
        "  plot.legend.visible = False\n",
        "  plot.add_layout(legend, 'right')"
      ],
      "execution_count": 0,
      "outputs": []
    },
    {
      "metadata": {
        "id": "Mi4iwIjxv-VK",
        "colab_type": "code",
        "colab": {}
      },
      "cell_type": "code",
      "source": [
        "def create_plot(source, x_label, y_label, color_mapper, tooltips=None):\n",
        "  plot = figure(title='RELAÇÃO ENTRE RAÇA/COR E GÊNERO NOS CURSOS', \n",
        "              plot_height = 600, plot_width = 800,\n",
        "              x_range=(0, 1), x_axis_label=x_label, \n",
        "              y_range=(0, 1), y_axis_label=y_label, tooltips=tooltips,\n",
        "              tools='hover,save')\n",
        "\n",
        "\n",
        "  # Add the color mapper to the circle glyph\n",
        "  circ = plot.circle(x='x', y='y', fill_alpha=0.8, source=source,\n",
        "              color=dict(field='area', transform=color_mapper), legend='area',\n",
        "             size=10)\n",
        "\n",
        "\n",
        "  # Coloca a legenda fora do gráfico\n",
        "  create_legend(plot)\n",
        "  \n",
        "  return plot"
      ],
      "execution_count": 0,
      "outputs": []
    },
    {
      "metadata": {
        "id": "vxTCPulSh3mm",
        "colab_type": "code",
        "outputId": "6aef299f-b89f-488c-9dd0-83ec8e56682b",
        "colab": {
          "base_uri": "https://localhost:8080/",
          "height": 3047
        }
      },
      "cell_type": "code",
      "source": [
        "output_notebook()\n",
        "\n",
        "# Cria lista de todas as áreas de conhecimento\n",
        "areas_list = dados_2019.area_conhecimento.unique().tolist()\n",
        "\n",
        "# Inicializa o color mapper para as legendas\n",
        "color_mapper = CategoricalColorMapper(factors=areas_list, palette=Spectral9)\n",
        "\n",
        "# Cria plot comparando alunos negros e mulheres\n",
        "tool_negros = [\n",
        "    (\"curso\", \"@curso\"),\n",
        "    (\"negros\", \"@x{%0.2f}\"),\n",
        "    (\"mulheres\", \"@y{%0.2f}\")\n",
        "]\n",
        "plot_negros = create_plot(source_negros, 'Porcentagem de alunos negros no curso', \n",
        "           'Porcentagem de mulheres no curso', color_mapper, tool_negros)\n",
        "\n",
        "# Cria plot comparando alunos pardos e mulheres\n",
        "tool_pardos = [\n",
        "    (\"curso\", \"@curso\"),\n",
        "    (\"pardos\", \"@x{%0.2f}\"),\n",
        "    (\"mulheres\", \"@y{%0.2f}\")\n",
        "]\n",
        "plot_pardos = create_plot(source_pardos, 'Porcentagem de alunos pardos no curso', \n",
        "           'Porcentagem de mulheres no curso', color_mapper, tool_pardos)\n",
        "\n",
        "# Cria plot comparando alunos indígenas e mulheres\n",
        "tool_indigenos = [\n",
        "    (\"curso\", \"@curso\"),\n",
        "    (\"indígenos\", \"@x{%0.2f}\"),\n",
        "    (\"mulheres\", \"@y{%0.2f}\")\n",
        "]\n",
        "plot_indigenos = create_plot(source_indigenas, 'Porcentagem de alunos indígenas no curso', \n",
        "           'Porcentagem de mulheres no curso', color_mapper, tool_indigenos)\n",
        "\n",
        "# Cria plot comparando alunos brancos e mulheres\n",
        "tool_brancos = [\n",
        "    (\"curso\", \"@curso\"),\n",
        "    (\"brancos\", \"@x{%0.2f}\"),\n",
        "    (\"mulheres\", \"@y{%0.2f}\")\n",
        "]\n",
        "plot_brancos = create_plot(source_brancos, 'Porcentagem de alunos brancos no curso', \n",
        "           'Porcentagem de mulheres no curso', color_mapper, tool_brancos)\n",
        "\n",
        "# Cria plot comparando alunos brancos e mulheres\n",
        "tool_amarelos = [\n",
        "    (\"curso\", \"@curso\"),\n",
        "    (\"amarelos\", \"@x{%0.2f}\"),\n",
        "    (\"mulheres\", \"@y{%0.2f}\")\n",
        "]\n",
        "plot_amarelos = create_plot(source_amarelos, 'Porcentagem de alunos de origem oriental no curso', \n",
        "           'Porcentagem de mulheres no curso', color_mapper, tool_amarelos)\n",
        "\n",
        "\n",
        "layout = column([plot_negros, plot_pardos, plot_indigenos, plot_brancos, plot_amarelos])\n",
        "\n",
        "## https://bokeh.pydata.org/en/latest/docs/user_guide/interaction/callbacks.html\n",
        "show(layout)"
      ],
      "execution_count": 46,
      "outputs": [
        {
          "output_type": "display_data",
          "data": {
            "text/html": [
              "\n",
              "    <div class=\"bk-root\">\n",
              "        <a href=\"https://bokeh.pydata.org\" target=\"_blank\" class=\"bk-logo bk-logo-small bk-logo-notebook\"></a>\n",
              "        <span id=\"1006\">Loading BokehJS ...</span>\n",
              "    </div>"
            ]
          },
          "metadata": {
            "tags": []
          }
        },
        {
          "output_type": "display_data",
          "data": {
            "application/javascript": [
              "\n",
              "(function(root) {\n",
              "  function now() {\n",
              "    return new Date();\n",
              "  }\n",
              "\n",
              "  var force = true;\n",
              "\n",
              "  if (typeof (root._bokeh_onload_callbacks) === \"undefined\" || force === true) {\n",
              "    root._bokeh_onload_callbacks = [];\n",
              "    root._bokeh_is_loading = undefined;\n",
              "  }\n",
              "\n",
              "  var JS_MIME_TYPE = 'application/javascript';\n",
              "  var HTML_MIME_TYPE = 'text/html';\n",
              "  var EXEC_MIME_TYPE = 'application/vnd.bokehjs_exec.v0+json';\n",
              "  var CLASS_NAME = 'output_bokeh rendered_html';\n",
              "\n",
              "  /**\n",
              "   * Render data to the DOM node\n",
              "   */\n",
              "  function render(props, node) {\n",
              "    var script = document.createElement(\"script\");\n",
              "    node.appendChild(script);\n",
              "  }\n",
              "\n",
              "  /**\n",
              "   * Handle when an output is cleared or removed\n",
              "   */\n",
              "  function handleClearOutput(event, handle) {\n",
              "    var cell = handle.cell;\n",
              "\n",
              "    var id = cell.output_area._bokeh_element_id;\n",
              "    var server_id = cell.output_area._bokeh_server_id;\n",
              "    // Clean up Bokeh references\n",
              "    if (id != null && id in Bokeh.index) {\n",
              "      Bokeh.index[id].model.document.clear();\n",
              "      delete Bokeh.index[id];\n",
              "    }\n",
              "\n",
              "    if (server_id !== undefined) {\n",
              "      // Clean up Bokeh references\n",
              "      var cmd = \"from bokeh.io.state import curstate; print(curstate().uuid_to_server['\" + server_id + \"'].get_sessions()[0].document.roots[0]._id)\";\n",
              "      cell.notebook.kernel.execute(cmd, {\n",
              "        iopub: {\n",
              "          output: function(msg) {\n",
              "            var id = msg.content.text.trim();\n",
              "            if (id in Bokeh.index) {\n",
              "              Bokeh.index[id].model.document.clear();\n",
              "              delete Bokeh.index[id];\n",
              "            }\n",
              "          }\n",
              "        }\n",
              "      });\n",
              "      // Destroy server and session\n",
              "      var cmd = \"import bokeh.io.notebook as ion; ion.destroy_server('\" + server_id + \"')\";\n",
              "      cell.notebook.kernel.execute(cmd);\n",
              "    }\n",
              "  }\n",
              "\n",
              "  /**\n",
              "   * Handle when a new output is added\n",
              "   */\n",
              "  function handleAddOutput(event, handle) {\n",
              "    var output_area = handle.output_area;\n",
              "    var output = handle.output;\n",
              "\n",
              "    // limit handleAddOutput to display_data with EXEC_MIME_TYPE content only\n",
              "    if ((output.output_type != \"display_data\") || (!output.data.hasOwnProperty(EXEC_MIME_TYPE))) {\n",
              "      return\n",
              "    }\n",
              "\n",
              "    var toinsert = output_area.element.find(\".\" + CLASS_NAME.split(' ')[0]);\n",
              "\n",
              "    if (output.metadata[EXEC_MIME_TYPE][\"id\"] !== undefined) {\n",
              "      toinsert[toinsert.length - 1].firstChild.textContent = output.data[JS_MIME_TYPE];\n",
              "      // store reference to embed id on output_area\n",
              "      output_area._bokeh_element_id = output.metadata[EXEC_MIME_TYPE][\"id\"];\n",
              "    }\n",
              "    if (output.metadata[EXEC_MIME_TYPE][\"server_id\"] !== undefined) {\n",
              "      var bk_div = document.createElement(\"div\");\n",
              "      bk_div.innerHTML = output.data[HTML_MIME_TYPE];\n",
              "      var script_attrs = bk_div.children[0].attributes;\n",
              "      for (var i = 0; i < script_attrs.length; i++) {\n",
              "        toinsert[toinsert.length - 1].firstChild.setAttribute(script_attrs[i].name, script_attrs[i].value);\n",
              "      }\n",
              "      // store reference to server id on output_area\n",
              "      output_area._bokeh_server_id = output.metadata[EXEC_MIME_TYPE][\"server_id\"];\n",
              "    }\n",
              "  }\n",
              "\n",
              "  function register_renderer(events, OutputArea) {\n",
              "\n",
              "    function append_mime(data, metadata, element) {\n",
              "      // create a DOM node to render to\n",
              "      var toinsert = this.create_output_subarea(\n",
              "        metadata,\n",
              "        CLASS_NAME,\n",
              "        EXEC_MIME_TYPE\n",
              "      );\n",
              "      this.keyboard_manager.register_events(toinsert);\n",
              "      // Render to node\n",
              "      var props = {data: data, metadata: metadata[EXEC_MIME_TYPE]};\n",
              "      render(props, toinsert[toinsert.length - 1]);\n",
              "      element.append(toinsert);\n",
              "      return toinsert\n",
              "    }\n",
              "\n",
              "    /* Handle when an output is cleared or removed */\n",
              "    events.on('clear_output.CodeCell', handleClearOutput);\n",
              "    events.on('delete.Cell', handleClearOutput);\n",
              "\n",
              "    /* Handle when a new output is added */\n",
              "    events.on('output_added.OutputArea', handleAddOutput);\n",
              "\n",
              "    /**\n",
              "     * Register the mime type and append_mime function with output_area\n",
              "     */\n",
              "    OutputArea.prototype.register_mime_type(EXEC_MIME_TYPE, append_mime, {\n",
              "      /* Is output safe? */\n",
              "      safe: true,\n",
              "      /* Index of renderer in `output_area.display_order` */\n",
              "      index: 0\n",
              "    });\n",
              "  }\n",
              "\n",
              "  // register the mime type if in Jupyter Notebook environment and previously unregistered\n",
              "  if (root.Jupyter !== undefined) {\n",
              "    var events = require('base/js/events');\n",
              "    var OutputArea = require('notebook/js/outputarea').OutputArea;\n",
              "\n",
              "    if (OutputArea.prototype.mime_types().indexOf(EXEC_MIME_TYPE) == -1) {\n",
              "      register_renderer(events, OutputArea);\n",
              "    }\n",
              "  }\n",
              "\n",
              "  \n",
              "  if (typeof (root._bokeh_timeout) === \"undefined\" || force === true) {\n",
              "    root._bokeh_timeout = Date.now() + 5000;\n",
              "    root._bokeh_failed_load = false;\n",
              "  }\n",
              "\n",
              "  var NB_LOAD_WARNING = {'data': {'text/html':\n",
              "     \"<div style='background-color: #fdd'>\\n\"+\n",
              "     \"<p>\\n\"+\n",
              "     \"BokehJS does not appear to have successfully loaded. If loading BokehJS from CDN, this \\n\"+\n",
              "     \"may be due to a slow or bad network connection. Possible fixes:\\n\"+\n",
              "     \"</p>\\n\"+\n",
              "     \"<ul>\\n\"+\n",
              "     \"<li>re-rerun `output_notebook()` to attempt to load from CDN again, or</li>\\n\"+\n",
              "     \"<li>use INLINE resources instead, as so:</li>\\n\"+\n",
              "     \"</ul>\\n\"+\n",
              "     \"<code>\\n\"+\n",
              "     \"from bokeh.resources import INLINE\\n\"+\n",
              "     \"output_notebook(resources=INLINE)\\n\"+\n",
              "     \"</code>\\n\"+\n",
              "     \"</div>\"}};\n",
              "\n",
              "  function display_loaded() {\n",
              "    var el = document.getElementById(\"1006\");\n",
              "    if (el != null) {\n",
              "      el.textContent = \"BokehJS is loading...\";\n",
              "    }\n",
              "    if (root.Bokeh !== undefined) {\n",
              "      if (el != null) {\n",
              "        el.textContent = \"BokehJS \" + root.Bokeh.version + \" successfully loaded.\";\n",
              "      }\n",
              "    } else if (Date.now() < root._bokeh_timeout) {\n",
              "      setTimeout(display_loaded, 100)\n",
              "    }\n",
              "  }\n",
              "\n",
              "\n",
              "  function run_callbacks() {\n",
              "    try {\n",
              "      root._bokeh_onload_callbacks.forEach(function(callback) { callback() });\n",
              "    }\n",
              "    finally {\n",
              "      delete root._bokeh_onload_callbacks\n",
              "    }\n",
              "    console.info(\"Bokeh: all callbacks have finished\");\n",
              "  }\n",
              "\n",
              "  function load_libs(js_urls, callback) {\n",
              "    root._bokeh_onload_callbacks.push(callback);\n",
              "    if (root._bokeh_is_loading > 0) {\n",
              "      console.log(\"Bokeh: BokehJS is being loaded, scheduling callback at\", now());\n",
              "      return null;\n",
              "    }\n",
              "    if (js_urls == null || js_urls.length === 0) {\n",
              "      run_callbacks();\n",
              "      return null;\n",
              "    }\n",
              "    console.log(\"Bokeh: BokehJS not loaded, scheduling load and callback at\", now());\n",
              "    root._bokeh_is_loading = js_urls.length;\n",
              "    for (var i = 0; i < js_urls.length; i++) {\n",
              "      var url = js_urls[i];\n",
              "      var s = document.createElement('script');\n",
              "      s.src = url;\n",
              "      s.async = false;\n",
              "      s.onreadystatechange = s.onload = function() {\n",
              "        root._bokeh_is_loading--;\n",
              "        if (root._bokeh_is_loading === 0) {\n",
              "          console.log(\"Bokeh: all BokehJS libraries loaded\");\n",
              "          run_callbacks()\n",
              "        }\n",
              "      };\n",
              "      s.onerror = function() {\n",
              "        console.warn(\"failed to load library \" + url);\n",
              "      };\n",
              "      console.log(\"Bokeh: injecting script tag for BokehJS library: \", url);\n",
              "      document.getElementsByTagName(\"head\")[0].appendChild(s);\n",
              "    }\n",
              "  };var element = document.getElementById(\"1006\");\n",
              "  if (element == null) {\n",
              "    console.log(\"Bokeh: ERROR: autoload.js configured with elementid '1006' but no matching script tag was found. \")\n",
              "    return false;\n",
              "  }\n",
              "\n",
              "  var js_urls = [\"https://cdn.pydata.org/bokeh/release/bokeh-1.0.4.min.js\", \"https://cdn.pydata.org/bokeh/release/bokeh-widgets-1.0.4.min.js\", \"https://cdn.pydata.org/bokeh/release/bokeh-tables-1.0.4.min.js\", \"https://cdn.pydata.org/bokeh/release/bokeh-gl-1.0.4.min.js\"];\n",
              "\n",
              "  var inline_js = [\n",
              "    function(Bokeh) {\n",
              "      Bokeh.set_log_level(\"info\");\n",
              "    },\n",
              "    \n",
              "    function(Bokeh) {\n",
              "      \n",
              "    },\n",
              "    function(Bokeh) {\n",
              "      console.log(\"Bokeh: injecting CSS: https://cdn.pydata.org/bokeh/release/bokeh-1.0.4.min.css\");\n",
              "      Bokeh.embed.inject_css(\"https://cdn.pydata.org/bokeh/release/bokeh-1.0.4.min.css\");\n",
              "      console.log(\"Bokeh: injecting CSS: https://cdn.pydata.org/bokeh/release/bokeh-widgets-1.0.4.min.css\");\n",
              "      Bokeh.embed.inject_css(\"https://cdn.pydata.org/bokeh/release/bokeh-widgets-1.0.4.min.css\");\n",
              "      console.log(\"Bokeh: injecting CSS: https://cdn.pydata.org/bokeh/release/bokeh-tables-1.0.4.min.css\");\n",
              "      Bokeh.embed.inject_css(\"https://cdn.pydata.org/bokeh/release/bokeh-tables-1.0.4.min.css\");\n",
              "    }\n",
              "  ];\n",
              "\n",
              "  function run_inline_js() {\n",
              "    \n",
              "    if ((root.Bokeh !== undefined) || (force === true)) {\n",
              "      for (var i = 0; i < inline_js.length; i++) {\n",
              "        inline_js[i].call(root, root.Bokeh);\n",
              "      }if (force === true) {\n",
              "        display_loaded();\n",
              "      }} else if (Date.now() < root._bokeh_timeout) {\n",
              "      setTimeout(run_inline_js, 100);\n",
              "    } else if (!root._bokeh_failed_load) {\n",
              "      console.log(\"Bokeh: BokehJS failed to load within specified timeout.\");\n",
              "      root._bokeh_failed_load = true;\n",
              "    } else if (force !== true) {\n",
              "      var cell = $(document.getElementById(\"1006\")).parents('.cell').data().cell;\n",
              "      cell.output_area.append_execute_result(NB_LOAD_WARNING)\n",
              "    }\n",
              "\n",
              "  }\n",
              "\n",
              "  if (root._bokeh_is_loading === 0) {\n",
              "    console.log(\"Bokeh: BokehJS loaded, going straight to plotting\");\n",
              "    run_inline_js();\n",
              "  } else {\n",
              "    load_libs(js_urls, function() {\n",
              "      console.log(\"Bokeh: BokehJS plotting callback run at\", now());\n",
              "      run_inline_js();\n",
              "    });\n",
              "  }\n",
              "}(window));"
            ],
            "application/vnd.bokehjs_load.v0+json": "\n(function(root) {\n  function now() {\n    return new Date();\n  }\n\n  var force = true;\n\n  if (typeof (root._bokeh_onload_callbacks) === \"undefined\" || force === true) {\n    root._bokeh_onload_callbacks = [];\n    root._bokeh_is_loading = undefined;\n  }\n\n  \n\n  \n  if (typeof (root._bokeh_timeout) === \"undefined\" || force === true) {\n    root._bokeh_timeout = Date.now() + 5000;\n    root._bokeh_failed_load = false;\n  }\n\n  var NB_LOAD_WARNING = {'data': {'text/html':\n     \"<div style='background-color: #fdd'>\\n\"+\n     \"<p>\\n\"+\n     \"BokehJS does not appear to have successfully loaded. If loading BokehJS from CDN, this \\n\"+\n     \"may be due to a slow or bad network connection. Possible fixes:\\n\"+\n     \"</p>\\n\"+\n     \"<ul>\\n\"+\n     \"<li>re-rerun `output_notebook()` to attempt to load from CDN again, or</li>\\n\"+\n     \"<li>use INLINE resources instead, as so:</li>\\n\"+\n     \"</ul>\\n\"+\n     \"<code>\\n\"+\n     \"from bokeh.resources import INLINE\\n\"+\n     \"output_notebook(resources=INLINE)\\n\"+\n     \"</code>\\n\"+\n     \"</div>\"}};\n\n  function display_loaded() {\n    var el = document.getElementById(\"1006\");\n    if (el != null) {\n      el.textContent = \"BokehJS is loading...\";\n    }\n    if (root.Bokeh !== undefined) {\n      if (el != null) {\n        el.textContent = \"BokehJS \" + root.Bokeh.version + \" successfully loaded.\";\n      }\n    } else if (Date.now() < root._bokeh_timeout) {\n      setTimeout(display_loaded, 100)\n    }\n  }\n\n\n  function run_callbacks() {\n    try {\n      root._bokeh_onload_callbacks.forEach(function(callback) { callback() });\n    }\n    finally {\n      delete root._bokeh_onload_callbacks\n    }\n    console.info(\"Bokeh: all callbacks have finished\");\n  }\n\n  function load_libs(js_urls, callback) {\n    root._bokeh_onload_callbacks.push(callback);\n    if (root._bokeh_is_loading > 0) {\n      console.log(\"Bokeh: BokehJS is being loaded, scheduling callback at\", now());\n      return null;\n    }\n    if (js_urls == null || js_urls.length === 0) {\n      run_callbacks();\n      return null;\n    }\n    console.log(\"Bokeh: BokehJS not loaded, scheduling load and callback at\", now());\n    root._bokeh_is_loading = js_urls.length;\n    for (var i = 0; i < js_urls.length; i++) {\n      var url = js_urls[i];\n      var s = document.createElement('script');\n      s.src = url;\n      s.async = false;\n      s.onreadystatechange = s.onload = function() {\n        root._bokeh_is_loading--;\n        if (root._bokeh_is_loading === 0) {\n          console.log(\"Bokeh: all BokehJS libraries loaded\");\n          run_callbacks()\n        }\n      };\n      s.onerror = function() {\n        console.warn(\"failed to load library \" + url);\n      };\n      console.log(\"Bokeh: injecting script tag for BokehJS library: \", url);\n      document.getElementsByTagName(\"head\")[0].appendChild(s);\n    }\n  };var element = document.getElementById(\"1006\");\n  if (element == null) {\n    console.log(\"Bokeh: ERROR: autoload.js configured with elementid '1006' but no matching script tag was found. \")\n    return false;\n  }\n\n  var js_urls = [\"https://cdn.pydata.org/bokeh/release/bokeh-1.0.4.min.js\", \"https://cdn.pydata.org/bokeh/release/bokeh-widgets-1.0.4.min.js\", \"https://cdn.pydata.org/bokeh/release/bokeh-tables-1.0.4.min.js\", \"https://cdn.pydata.org/bokeh/release/bokeh-gl-1.0.4.min.js\"];\n\n  var inline_js = [\n    function(Bokeh) {\n      Bokeh.set_log_level(\"info\");\n    },\n    \n    function(Bokeh) {\n      \n    },\n    function(Bokeh) {\n      console.log(\"Bokeh: injecting CSS: https://cdn.pydata.org/bokeh/release/bokeh-1.0.4.min.css\");\n      Bokeh.embed.inject_css(\"https://cdn.pydata.org/bokeh/release/bokeh-1.0.4.min.css\");\n      console.log(\"Bokeh: injecting CSS: https://cdn.pydata.org/bokeh/release/bokeh-widgets-1.0.4.min.css\");\n      Bokeh.embed.inject_css(\"https://cdn.pydata.org/bokeh/release/bokeh-widgets-1.0.4.min.css\");\n      console.log(\"Bokeh: injecting CSS: https://cdn.pydata.org/bokeh/release/bokeh-tables-1.0.4.min.css\");\n      Bokeh.embed.inject_css(\"https://cdn.pydata.org/bokeh/release/bokeh-tables-1.0.4.min.css\");\n    }\n  ];\n\n  function run_inline_js() {\n    \n    if ((root.Bokeh !== undefined) || (force === true)) {\n      for (var i = 0; i < inline_js.length; i++) {\n        inline_js[i].call(root, root.Bokeh);\n      }if (force === true) {\n        display_loaded();\n      }} else if (Date.now() < root._bokeh_timeout) {\n      setTimeout(run_inline_js, 100);\n    } else if (!root._bokeh_failed_load) {\n      console.log(\"Bokeh: BokehJS failed to load within specified timeout.\");\n      root._bokeh_failed_load = true;\n    } else if (force !== true) {\n      var cell = $(document.getElementById(\"1006\")).parents('.cell').data().cell;\n      cell.output_area.append_execute_result(NB_LOAD_WARNING)\n    }\n\n  }\n\n  if (root._bokeh_is_loading === 0) {\n    console.log(\"Bokeh: BokehJS loaded, going straight to plotting\");\n    run_inline_js();\n  } else {\n    load_libs(js_urls, function() {\n      console.log(\"Bokeh: BokehJS plotting callback run at\", now());\n      run_inline_js();\n    });\n  }\n}(window));"
          },
          "metadata": {
            "tags": []
          }
        },
        {
          "output_type": "display_data",
          "data": {
            "text/html": [
              "\n",
              "\n",
              "\n",
              "\n",
              "\n",
              "\n",
              "  <div class=\"bk-root\" id=\"75277db5-8116-4d6e-bcdf-44dd53b7ff00\" data-root-id=\"1203\"></div>\n"
            ]
          },
          "metadata": {
            "tags": []
          }
        },
        {
          "output_type": "display_data",
          "data": {
            "application/javascript": [
              "(function(root) {\n",
              "  function embed_document(root) {\n",
              "    \n",
              "  var docs_json = {\"65172329-5b19-4597-a2eb-0ce517c4f259\":{\"roots\":{\"references\":[{\"attributes\":{\"children\":[{\"id\":\"1009\",\"subtype\":\"Figure\",\"type\":\"Plot\"},{\"id\":\"1048\",\"subtype\":\"Figure\",\"type\":\"Plot\"},{\"id\":\"1087\",\"subtype\":\"Figure\",\"type\":\"Plot\"},{\"id\":\"1126\",\"subtype\":\"Figure\",\"type\":\"Plot\"},{\"id\":\"1165\",\"subtype\":\"Figure\",\"type\":\"Plot\"}]},\"id\":\"1203\",\"type\":\"Column\"},{\"attributes\":{\"fill_alpha\":{\"value\":0.1},\"fill_color\":{\"value\":\"#1f77b4\"},\"line_alpha\":{\"value\":0.1},\"line_color\":{\"value\":\"#1f77b4\"},\"size\":{\"units\":\"screen\",\"value\":10},\"x\":{\"field\":\"x\"},\"y\":{\"field\":\"y\"}},\"id\":\"1114\",\"type\":\"Circle\"},{\"attributes\":{},\"id\":\"1020\",\"type\":\"BasicTicker\"},{\"attributes\":{\"data_source\":{\"id\":\"1003\",\"type\":\"ColumnDataSource\"},\"glyph\":{\"id\":\"1113\",\"type\":\"Circle\"},\"hover_glyph\":null,\"muted_glyph\":null,\"nonselection_glyph\":{\"id\":\"1114\",\"type\":\"Circle\"},\"selection_glyph\":null,\"view\":{\"id\":\"1116\",\"type\":\"CDSView\"}},\"id\":\"1115\",\"type\":\"GlyphRenderer\"},{\"attributes\":{\"source\":{\"id\":\"1003\",\"type\":\"ColumnDataSource\"}},\"id\":\"1116\",\"type\":\"CDSView\"},{\"attributes\":{\"plot\":null,\"text\":\"RELA\\u00c7\\u00c3O ENTRE RA\\u00c7A/COR E G\\u00caNERO NOS CURSOS\"},\"id\":\"1008\",\"type\":\"Title\"},{\"attributes\":{},\"id\":\"1118\",\"type\":\"BasicTickFormatter\"},{\"attributes\":{},\"id\":\"1120\",\"type\":\"BasicTickFormatter\"},{\"attributes\":{},\"id\":\"1231\",\"type\":\"Selection\"},{\"attributes\":{\"items\":[{\"id\":\"1123\",\"type\":\"LegendItem\"}],\"location\":\"center\",\"plot\":{\"id\":\"1087\",\"subtype\":\"Figure\",\"type\":\"Plot\"}},\"id\":\"1124\",\"type\":\"Legend\"},{\"attributes\":{\"below\":[{\"id\":\"1019\",\"type\":\"LinearAxis\"}],\"left\":[{\"id\":\"1024\",\"type\":\"LinearAxis\"}],\"plot_width\":800,\"renderers\":[{\"id\":\"1019\",\"type\":\"LinearAxis\"},{\"id\":\"1023\",\"type\":\"Grid\"},{\"id\":\"1024\",\"type\":\"LinearAxis\"},{\"id\":\"1028\",\"type\":\"Grid\"},{\"id\":\"1044\",\"type\":\"Legend\"},{\"id\":\"1037\",\"type\":\"GlyphRenderer\"},{\"id\":\"1046\",\"type\":\"Legend\"}],\"right\":[{\"id\":\"1046\",\"type\":\"Legend\"}],\"title\":{\"id\":\"1008\",\"type\":\"Title\"},\"toolbar\":{\"id\":\"1031\",\"type\":\"Toolbar\"},\"x_range\":{\"id\":\"1011\",\"type\":\"Range1d\"},\"x_scale\":{\"id\":\"1015\",\"type\":\"LinearScale\"},\"y_range\":{\"id\":\"1013\",\"type\":\"Range1d\"},\"y_scale\":{\"id\":\"1017\",\"type\":\"LinearScale\"}},\"id\":\"1009\",\"subtype\":\"Figure\",\"type\":\"Plot\"},{\"attributes\":{\"callback\":null},\"id\":\"1013\",\"type\":\"Range1d\"},{\"attributes\":{\"fill_alpha\":{\"value\":0.8},\"fill_color\":{\"field\":\"area\",\"transform\":{\"id\":\"1007\",\"type\":\"CategoricalColorMapper\"}},\"line_color\":{\"field\":\"area\",\"transform\":{\"id\":\"1007\",\"type\":\"CategoricalColorMapper\"}},\"size\":{\"units\":\"screen\",\"value\":10},\"x\":{\"field\":\"x\"},\"y\":{\"field\":\"y\"}},\"id\":\"1152\",\"type\":\"Circle\"},{\"attributes\":{\"plot\":null,\"text\":\"RELA\\u00c7\\u00c3O ENTRE RA\\u00c7A/COR E G\\u00caNERO NOS CURSOS\"},\"id\":\"1125\",\"type\":\"Title\"},{\"attributes\":{\"below\":[{\"id\":\"1097\",\"type\":\"LinearAxis\"}],\"left\":[{\"id\":\"1102\",\"type\":\"LinearAxis\"}],\"plot_width\":800,\"renderers\":[{\"id\":\"1097\",\"type\":\"LinearAxis\"},{\"id\":\"1101\",\"type\":\"Grid\"},{\"id\":\"1102\",\"type\":\"LinearAxis\"},{\"id\":\"1106\",\"type\":\"Grid\"},{\"id\":\"1122\",\"type\":\"Legend\"},{\"id\":\"1115\",\"type\":\"GlyphRenderer\"},{\"id\":\"1124\",\"type\":\"Legend\"}],\"right\":[{\"id\":\"1124\",\"type\":\"Legend\"}],\"title\":{\"id\":\"1086\",\"type\":\"Title\"},\"toolbar\":{\"id\":\"1109\",\"type\":\"Toolbar\"},\"x_range\":{\"id\":\"1089\",\"type\":\"Range1d\"},\"x_scale\":{\"id\":\"1093\",\"type\":\"LinearScale\"},\"y_range\":{\"id\":\"1091\",\"type\":\"Range1d\"},\"y_scale\":{\"id\":\"1095\",\"type\":\"LinearScale\"}},\"id\":\"1087\",\"subtype\":\"Figure\",\"type\":\"Plot\"},{\"attributes\":{\"callback\":null},\"id\":\"1128\",\"type\":\"Range1d\"},{\"attributes\":{\"callback\":null},\"id\":\"1011\",\"type\":\"Range1d\"},{\"attributes\":{\"callback\":null},\"id\":\"1130\",\"type\":\"Range1d\"},{\"attributes\":{},\"id\":\"1132\",\"type\":\"LinearScale\"},{\"attributes\":{\"axis_label\":\"Porcentagem de alunos negros no curso\",\"formatter\":{\"id\":\"1040\",\"type\":\"BasicTickFormatter\"},\"plot\":{\"id\":\"1009\",\"subtype\":\"Figure\",\"type\":\"Plot\"},\"ticker\":{\"id\":\"1020\",\"type\":\"BasicTicker\"}},\"id\":\"1019\",\"type\":\"LinearAxis\"},{\"attributes\":{\"below\":[{\"id\":\"1058\",\"type\":\"LinearAxis\"}],\"left\":[{\"id\":\"1063\",\"type\":\"LinearAxis\"}],\"plot_width\":800,\"renderers\":[{\"id\":\"1058\",\"type\":\"LinearAxis\"},{\"id\":\"1062\",\"type\":\"Grid\"},{\"id\":\"1063\",\"type\":\"LinearAxis\"},{\"id\":\"1067\",\"type\":\"Grid\"},{\"id\":\"1083\",\"type\":\"Legend\"},{\"id\":\"1076\",\"type\":\"GlyphRenderer\"},{\"id\":\"1085\",\"type\":\"Legend\"}],\"right\":[{\"id\":\"1085\",\"type\":\"Legend\"}],\"title\":{\"id\":\"1047\",\"type\":\"Title\"},\"toolbar\":{\"id\":\"1070\",\"type\":\"Toolbar\"},\"x_range\":{\"id\":\"1050\",\"type\":\"Range1d\"},\"x_scale\":{\"id\":\"1054\",\"type\":\"LinearScale\"},\"y_range\":{\"id\":\"1052\",\"type\":\"Range1d\"},\"y_scale\":{\"id\":\"1056\",\"type\":\"LinearScale\"}},\"id\":\"1048\",\"subtype\":\"Figure\",\"type\":\"Plot\"},{\"attributes\":{},\"id\":\"1134\",\"type\":\"LinearScale\"},{\"attributes\":{\"axis_label\":\"Porcentagem de alunos brancos no curso\",\"formatter\":{\"id\":\"1157\",\"type\":\"BasicTickFormatter\"},\"plot\":{\"id\":\"1126\",\"subtype\":\"Figure\",\"type\":\"Plot\"},\"ticker\":{\"id\":\"1137\",\"type\":\"BasicTicker\"}},\"id\":\"1136\",\"type\":\"LinearAxis\"},{\"attributes\":{},\"id\":\"1137\",\"type\":\"BasicTicker\"},{\"attributes\":{\"factors\":[\"Ci\\u00eancias Sociais Aplicadas\",\"Outra\",\"Engenharias\",\"Lingu\\u00edstica, Letras e Artes\",\"Ci\\u00eancias Biol\\u00f3gicas\",\"Ci\\u00eancias Exatas e da Terra\",\"Ci\\u00eancias Humanas\",\"Ci\\u00eancias da Sa\\u00fade\",\"Ci\\u00eancias Agr\\u00e1rias\"],\"palette\":[\"#3288bd\",\"#66c2a5\",\"#abdda4\",\"#e6f598\",\"#ffffbf\",\"#fee08b\",\"#fdae61\",\"#f46d43\",\"#d53e4f\"]},\"id\":\"1007\",\"type\":\"CategoricalColorMapper\"},{\"attributes\":{\"plot\":{\"id\":\"1126\",\"subtype\":\"Figure\",\"type\":\"Plot\"},\"ticker\":{\"id\":\"1137\",\"type\":\"BasicTicker\"}},\"id\":\"1140\",\"type\":\"Grid\"},{\"attributes\":{\"axis_label\":\"Porcentagem de mulheres no curso\",\"formatter\":{\"id\":\"1159\",\"type\":\"BasicTickFormatter\"},\"plot\":{\"id\":\"1126\",\"subtype\":\"Figure\",\"type\":\"Plot\"},\"ticker\":{\"id\":\"1142\",\"type\":\"BasicTicker\"}},\"id\":\"1141\",\"type\":\"LinearAxis\"},{\"attributes\":{},\"id\":\"1142\",\"type\":\"BasicTicker\"},{\"attributes\":{\"dimension\":1,\"plot\":{\"id\":\"1126\",\"subtype\":\"Figure\",\"type\":\"Plot\"},\"ticker\":{\"id\":\"1142\",\"type\":\"BasicTicker\"}},\"id\":\"1145\",\"type\":\"Grid\"},{\"attributes\":{},\"id\":\"1017\",\"type\":\"LinearScale\"},{\"attributes\":{},\"id\":\"1230\",\"type\":\"UnionRenderers\"},{\"attributes\":{},\"id\":\"1235\",\"type\":\"Selection\"},{\"attributes\":{\"active_drag\":\"auto\",\"active_inspect\":\"auto\",\"active_multi\":null,\"active_scroll\":\"auto\",\"active_tap\":\"auto\",\"tools\":[{\"id\":\"1146\",\"type\":\"HoverTool\"},{\"id\":\"1147\",\"type\":\"SaveTool\"}]},\"id\":\"1148\",\"type\":\"Toolbar\"},{\"attributes\":{\"callback\":null,\"tooltips\":[[\"curso\",\"@curso\"],[\"brancos\",\"@x{%0.2f}\"],[\"mulheres\",\"@y{%0.2f}\"]]},\"id\":\"1146\",\"type\":\"HoverTool\"},{\"attributes\":{},\"id\":\"1147\",\"type\":\"SaveTool\"},{\"attributes\":{\"fill_alpha\":{\"value\":0.1},\"fill_color\":{\"value\":\"#1f77b4\"},\"line_alpha\":{\"value\":0.1},\"line_color\":{\"value\":\"#1f77b4\"},\"size\":{\"units\":\"screen\",\"value\":10},\"x\":{\"field\":\"x\"},\"y\":{\"field\":\"y\"}},\"id\":\"1153\",\"type\":\"Circle\"},{\"attributes\":{\"data_source\":{\"id\":\"1004\",\"type\":\"ColumnDataSource\"},\"glyph\":{\"id\":\"1152\",\"type\":\"Circle\"},\"hover_glyph\":null,\"muted_glyph\":null,\"nonselection_glyph\":{\"id\":\"1153\",\"type\":\"Circle\"},\"selection_glyph\":null,\"view\":{\"id\":\"1155\",\"type\":\"CDSView\"}},\"id\":\"1154\",\"type\":\"GlyphRenderer\"},{\"attributes\":{},\"id\":\"1054\",\"type\":\"LinearScale\"},{\"attributes\":{\"source\":{\"id\":\"1004\",\"type\":\"ColumnDataSource\"}},\"id\":\"1155\",\"type\":\"CDSView\"},{\"attributes\":{},\"id\":\"1157\",\"type\":\"BasicTickFormatter\"},{\"attributes\":{},\"id\":\"1159\",\"type\":\"BasicTickFormatter\"},{\"attributes\":{\"items\":[{\"id\":\"1162\",\"type\":\"LegendItem\"}],\"plot\":{\"id\":\"1126\",\"subtype\":\"Figure\",\"type\":\"Plot\"},\"visible\":false},\"id\":\"1161\",\"type\":\"Legend\"},{\"attributes\":{\"items\":[{\"id\":\"1045\",\"type\":\"LegendItem\"}],\"plot\":{\"id\":\"1009\",\"subtype\":\"Figure\",\"type\":\"Plot\"},\"visible\":false},\"id\":\"1044\",\"type\":\"Legend\"},{\"attributes\":{\"label\":{\"field\":\"area\"},\"renderers\":[{\"id\":\"1154\",\"type\":\"GlyphRenderer\"}]},\"id\":\"1162\",\"type\":\"LegendItem\"},{\"attributes\":{},\"id\":\"1233\",\"type\":\"Selection\"},{\"attributes\":{\"items\":[{\"id\":\"1162\",\"type\":\"LegendItem\"}],\"location\":\"center\",\"plot\":{\"id\":\"1126\",\"subtype\":\"Figure\",\"type\":\"Plot\"}},\"id\":\"1163\",\"type\":\"Legend\"},{\"attributes\":{\"below\":[{\"id\":\"1175\",\"type\":\"LinearAxis\"}],\"left\":[{\"id\":\"1180\",\"type\":\"LinearAxis\"}],\"plot_width\":800,\"renderers\":[{\"id\":\"1175\",\"type\":\"LinearAxis\"},{\"id\":\"1179\",\"type\":\"Grid\"},{\"id\":\"1180\",\"type\":\"LinearAxis\"},{\"id\":\"1184\",\"type\":\"Grid\"},{\"id\":\"1200\",\"type\":\"Legend\"},{\"id\":\"1193\",\"type\":\"GlyphRenderer\"},{\"id\":\"1202\",\"type\":\"Legend\"}],\"right\":[{\"id\":\"1202\",\"type\":\"Legend\"}],\"title\":{\"id\":\"1164\",\"type\":\"Title\"},\"toolbar\":{\"id\":\"1187\",\"type\":\"Toolbar\"},\"x_range\":{\"id\":\"1167\",\"type\":\"Range1d\"},\"x_scale\":{\"id\":\"1171\",\"type\":\"LinearScale\"},\"y_range\":{\"id\":\"1169\",\"type\":\"Range1d\"},\"y_scale\":{\"id\":\"1173\",\"type\":\"LinearScale\"}},\"id\":\"1165\",\"subtype\":\"Figure\",\"type\":\"Plot\"},{\"attributes\":{},\"id\":\"1234\",\"type\":\"UnionRenderers\"},{\"attributes\":{\"plot\":null,\"text\":\"RELA\\u00c7\\u00c3O ENTRE RA\\u00c7A/COR E G\\u00caNERO NOS CURSOS\"},\"id\":\"1164\",\"type\":\"Title\"},{\"attributes\":{\"callback\":null},\"id\":\"1167\",\"type\":\"Range1d\"},{\"attributes\":{},\"id\":\"1015\",\"type\":\"LinearScale\"},{\"attributes\":{\"callback\":null},\"id\":\"1169\",\"type\":\"Range1d\"},{\"attributes\":{},\"id\":\"1171\",\"type\":\"LinearScale\"},{\"attributes\":{},\"id\":\"1056\",\"type\":\"LinearScale\"},{\"attributes\":{},\"id\":\"1173\",\"type\":\"LinearScale\"},{\"attributes\":{\"axis_label\":\"Porcentagem de alunos pardos no curso\",\"formatter\":{\"id\":\"1079\",\"type\":\"BasicTickFormatter\"},\"plot\":{\"id\":\"1048\",\"subtype\":\"Figure\",\"type\":\"Plot\"},\"ticker\":{\"id\":\"1059\",\"type\":\"BasicTicker\"}},\"id\":\"1058\",\"type\":\"LinearAxis\"},{\"attributes\":{\"axis_label\":\"Porcentagem de alunos de origem oriental no curso\",\"formatter\":{\"id\":\"1196\",\"type\":\"BasicTickFormatter\"},\"plot\":{\"id\":\"1165\",\"subtype\":\"Figure\",\"type\":\"Plot\"},\"ticker\":{\"id\":\"1176\",\"type\":\"BasicTicker\"}},\"id\":\"1175\",\"type\":\"LinearAxis\"},{\"attributes\":{},\"id\":\"1059\",\"type\":\"BasicTicker\"},{\"attributes\":{},\"id\":\"1176\",\"type\":\"BasicTicker\"},{\"attributes\":{\"axis_label\":\"Porcentagem de mulheres no curso\",\"formatter\":{\"id\":\"1081\",\"type\":\"BasicTickFormatter\"},\"plot\":{\"id\":\"1048\",\"subtype\":\"Figure\",\"type\":\"Plot\"},\"ticker\":{\"id\":\"1064\",\"type\":\"BasicTicker\"}},\"id\":\"1063\",\"type\":\"LinearAxis\"},{\"attributes\":{\"plot\":{\"id\":\"1165\",\"subtype\":\"Figure\",\"type\":\"Plot\"},\"ticker\":{\"id\":\"1176\",\"type\":\"BasicTicker\"}},\"id\":\"1179\",\"type\":\"Grid\"},{\"attributes\":{\"axis_label\":\"Porcentagem de mulheres no curso\",\"formatter\":{\"id\":\"1198\",\"type\":\"BasicTickFormatter\"},\"plot\":{\"id\":\"1165\",\"subtype\":\"Figure\",\"type\":\"Plot\"},\"ticker\":{\"id\":\"1181\",\"type\":\"BasicTicker\"}},\"id\":\"1180\",\"type\":\"LinearAxis\"},{\"attributes\":{},\"id\":\"1064\",\"type\":\"BasicTicker\"},{\"attributes\":{\"dimension\":1,\"plot\":{\"id\":\"1048\",\"subtype\":\"Figure\",\"type\":\"Plot\"},\"ticker\":{\"id\":\"1064\",\"type\":\"BasicTicker\"}},\"id\":\"1067\",\"type\":\"Grid\"},{\"attributes\":{},\"id\":\"1181\",\"type\":\"BasicTicker\"},{\"attributes\":{\"dimension\":1,\"plot\":{\"id\":\"1165\",\"subtype\":\"Figure\",\"type\":\"Plot\"},\"ticker\":{\"id\":\"1181\",\"type\":\"BasicTicker\"}},\"id\":\"1184\",\"type\":\"Grid\"},{\"attributes\":{\"fill_alpha\":{\"value\":0.8},\"fill_color\":{\"field\":\"area\",\"transform\":{\"id\":\"1007\",\"type\":\"CategoricalColorMapper\"}},\"line_color\":{\"field\":\"area\",\"transform\":{\"id\":\"1007\",\"type\":\"CategoricalColorMapper\"}},\"size\":{\"units\":\"screen\",\"value\":10},\"x\":{\"field\":\"x\"},\"y\":{\"field\":\"y\"}},\"id\":\"1074\",\"type\":\"Circle\"},{\"attributes\":{\"label\":{\"field\":\"area\"},\"renderers\":[{\"id\":\"1115\",\"type\":\"GlyphRenderer\"}]},\"id\":\"1123\",\"type\":\"LegendItem\"},{\"attributes\":{\"active_drag\":\"auto\",\"active_inspect\":\"auto\",\"active_multi\":null,\"active_scroll\":\"auto\",\"active_tap\":\"auto\",\"tools\":[{\"id\":\"1068\",\"type\":\"HoverTool\"},{\"id\":\"1069\",\"type\":\"SaveTool\"}]},\"id\":\"1070\",\"type\":\"Toolbar\"},{\"attributes\":{\"fill_alpha\":{\"value\":0.8},\"fill_color\":{\"field\":\"area\",\"transform\":{\"id\":\"1007\",\"type\":\"CategoricalColorMapper\"}},\"line_color\":{\"field\":\"area\",\"transform\":{\"id\":\"1007\",\"type\":\"CategoricalColorMapper\"}},\"size\":{\"units\":\"screen\",\"value\":10},\"x\":{\"field\":\"x\"},\"y\":{\"field\":\"y\"}},\"id\":\"1191\",\"type\":\"Circle\"},{\"attributes\":{\"callback\":null,\"tooltips\":[[\"curso\",\"@curso\"],[\"pardos\",\"@x{%0.2f}\"],[\"mulheres\",\"@y{%0.2f}\"]]},\"id\":\"1068\",\"type\":\"HoverTool\"},{\"attributes\":{\"active_drag\":\"auto\",\"active_inspect\":\"auto\",\"active_multi\":null,\"active_scroll\":\"auto\",\"active_tap\":\"auto\",\"tools\":[{\"id\":\"1185\",\"type\":\"HoverTool\"},{\"id\":\"1186\",\"type\":\"SaveTool\"}]},\"id\":\"1187\",\"type\":\"Toolbar\"},{\"attributes\":{},\"id\":\"1236\",\"type\":\"UnionRenderers\"},{\"attributes\":{},\"id\":\"1069\",\"type\":\"SaveTool\"},{\"attributes\":{\"callback\":null,\"tooltips\":[[\"curso\",\"@curso\"],[\"amarelos\",\"@x{%0.2f}\"],[\"mulheres\",\"@y{%0.2f}\"]]},\"id\":\"1185\",\"type\":\"HoverTool\"},{\"attributes\":{},\"id\":\"1186\",\"type\":\"SaveTool\"},{\"attributes\":{\"fill_alpha\":{\"value\":0.1},\"fill_color\":{\"value\":\"#1f77b4\"},\"line_alpha\":{\"value\":0.1},\"line_color\":{\"value\":\"#1f77b4\"},\"size\":{\"units\":\"screen\",\"value\":10},\"x\":{\"field\":\"x\"},\"y\":{\"field\":\"y\"}},\"id\":\"1075\",\"type\":\"Circle\"},{\"attributes\":{\"data_source\":{\"id\":\"1002\",\"type\":\"ColumnDataSource\"},\"glyph\":{\"id\":\"1074\",\"type\":\"Circle\"},\"hover_glyph\":null,\"muted_glyph\":null,\"nonselection_glyph\":{\"id\":\"1075\",\"type\":\"Circle\"},\"selection_glyph\":null,\"view\":{\"id\":\"1077\",\"type\":\"CDSView\"}},\"id\":\"1076\",\"type\":\"GlyphRenderer\"},{\"attributes\":{\"fill_alpha\":{\"value\":0.1},\"fill_color\":{\"value\":\"#1f77b4\"},\"line_alpha\":{\"value\":0.1},\"line_color\":{\"value\":\"#1f77b4\"},\"size\":{\"units\":\"screen\",\"value\":10},\"x\":{\"field\":\"x\"},\"y\":{\"field\":\"y\"}},\"id\":\"1192\",\"type\":\"Circle\"},{\"attributes\":{\"callback\":null,\"data\":{\"area\":[\"Ci\\u00eancias Sociais Aplicadas\",\"Ci\\u00eancias Sociais Aplicadas\",\"Outra\",\"Engenharias\",\"Lingu\\u00edstica, Letras e Artes\",\"Ci\\u00eancias Sociais Aplicadas\",\"Ci\\u00eancias Biol\\u00f3gicas\",\"Ci\\u00eancias Exatas e da Terra\",\"Ci\\u00eancias Exatas e da Terra\",\"Ci\\u00eancias Biol\\u00f3gicas\",\"Ci\\u00eancias Sociais Aplicadas\",\"Ci\\u00eancias Exatas e da Terra\",\"Ci\\u00eancias Sociais Aplicadas\",\"Ci\\u00eancias Humanas\",\"Ci\\u00eancias Humanas\",\"Ci\\u00eancias Humanas\",\"Lingu\\u00edstica, Letras e Artes\",\"Ci\\u00eancias Sociais Aplicadas\",\"Ci\\u00eancias Biol\\u00f3gicas\",\"Ci\\u00eancias da Sa\\u00fade\",\"Ci\\u00eancias da Sa\\u00fade\",\"Ci\\u00eancias Agr\\u00e1rias\",\"Engenharias\",\"Engenharias\",\"Engenharias\",\"Ci\\u00eancias Biol\\u00f3gicas\",\"Engenharias\",\"Engenharias\",\"Engenharias\",\"Engenharias\",\"Ci\\u00eancias Exatas e da Terra\",\"Engenharias\",\"Engenharias\",\"Engenharias\",\"Engenharias\",\"Engenharias\",\"Engenharias\",\"Engenharias\",\"Ci\\u00eancias Exatas e da Terra\",\"Ci\\u00eancias da Sa\\u00fade\",\"Lingu\\u00edstica, Letras e Artes\",\"Ci\\u00eancias da Sa\\u00fade\",\"Ci\\u00eancias da Sa\\u00fade\",\"Ci\\u00eancias Exatas e da Terra\",\"Ci\\u00eancias Exatas e da Terra\",\"Ci\\u00eancias Humanas\",\"Ci\\u00eancias Exatas e da Terra\",\"Ci\\u00eancias da Sa\\u00fade\",\"Ci\\u00eancias Humanas\",\"Ci\\u00eancias Humanas\",\"Lingu\\u00edstica, Letras e Artes\",\"Lingu\\u00edstica, Letras e Artes\",\"Lingu\\u00edstica, Letras e Artes\",\"Lingu\\u00edstica, Letras e Artes\",\"Ci\\u00eancias Exatas e da Terra\",\"Ci\\u00eancias da Sa\\u00fade\",\"Ci\\u00eancias Exatas e da Terra\",\"Lingu\\u00edstica, Letras e Artes\",\"Ci\\u00eancias da Sa\\u00fade\",\"Ci\\u00eancias da Sa\\u00fade\",\"Ci\\u00eancias Sociais Aplicadas\",\"Ci\\u00eancias Sociais Aplicadas\",\"Ci\\u00eancias Exatas e da Terra\",\"Ci\\u00eancias Exatas e da Terra\",\"Ci\\u00eancias da Sa\\u00fade\",\"Ci\\u00eancias Sociais Aplicadas\",\"Ci\\u00eancias Exatas e da Terra\",\"Lingu\\u00edstica, Letras e Artes\",\"Ci\\u00eancias Exatas e da Terra\",\"Ci\\u00eancias Sociais Aplicadas\",\"Ci\\u00eancias Agr\\u00e1rias\"],\"curso\":[\"ADMINISTRA\\u00c7\\u00c3O\",\"ADMINISTRA\\u00c7\\u00c3O P\\u00daBLICA\",\"AN\\u00c1LISE E DESENVOLVIMENTO DE SISTEMAS\",\"ARQUITETURA E URBANISMO\",\"ARTES VISUAIS\",\"BIBLIOTECONOMIA\",\"BIOMEDICINA\",\"CI\\u00caNCIA DA COMPUTA\\u00c7\\u00c3O\",\"CI\\u00caNCIAS ATUARIAIS\",\"CI\\u00caNCIAS BIOL\\u00d3GICAS\",\"CI\\u00caNCIAS CONT\\u00c1BEIS\",\"CI\\u00caNCIAS E TECNOLOGIA\",\"CI\\u00caNCIAS ECON\\u00d4MICAS\",\"CI\\u00caNCIAS SOCIAIS\",\"COMUNICA\\u00c7\\u00c3O SOCIAL - AUDIOVISUAL\",\"COMUNICA\\u00c7\\u00c3O SOCIAL- PUBLICIDADE E PROPAGANDA\",\"DAN\\u00c7A\",\"DIREITO\",\"ECOLOGIA\",\"EDUCA\\u00c7\\u00c3O F\\u00cdSICA\",\"ENFERMAGEM\",\"ENGENHARIA AGRON\\u00d4MICA\",\"ENGENHARIA AMBIENTAL\",\"ENGENHARIA BIOM\\u00c9DICA\",\"ENGENHARIA CIVIL\",\"ENGENHARIA DE AQUICULTURA\",\"ENGENHARIA DE COMPUTA\\u00c7\\u00c3O\",\"ENGENHARIA DE MATERIAIS\",\"ENGENHARIA DE PETR\\u00d3LEO\",\"ENGENHARIA DE PRODU\\u00c7\\u00c3O\",\"ENGENHARIA DE SOFTWARE\",\"ENGENHARIA DE TELECOMUNICA\\u00c7\\u00d5ES\",\"ENGENHARIA EL\\u00c9TRICA\",\"ENGENHARIA FLORESTAL\",\"ENGENHARIA MECATR\\u00d4NICA\",\"ENGENHARIA MEC\\u00c2NICA\",\"ENGENHARIA QU\\u00cdMICA\",\"ENGENHARIA T\\u00caXTIL\",\"ESTAT\\u00cdSTICA\",\"FARM\\u00c1CIA\",\"FILOSOFIA\",\"FISIOTERAPIA\",\"FONOAUDIOLOGIA\",\"F\\u00cdSICA\",\"GEOF\\u00cdSICA\",\"GEOGRAFIA\",\"GEOLOGIA\",\"GEST\\u00c3O HOSPITALAR\",\"HIST\\u00d3RIA\",\"JORNALISMO\",\"LETRAS - FRANC\\u00caS\",\"LETRAS - INGL\\u00caS\",\"LETRAS - L\\u00cdNGUA ESPANHOLA\",\"LETRAS - L\\u00cdNGUA PORTUGUESA\",\"MATEM\\u00c1TICA\",\"MEDICINA\",\"METEOROLOGIA\",\"M\\u00daSICA\",\"NUTRI\\u00c7\\u00c3O\",\"ODONTOLOGIA\",\"PEDAGOGIA\",\"PSICOLOGIA\",\"QU\\u00cdMICA\",\"QU\\u00cdMICA DO PETR\\u00d3LEO\",\"SA\\u00daDE COLETIVA\",\"SERVI\\u00c7O SOCIAL\",\"SISTEMAS DE INFORMA\\u00c7\\u00c3O\",\"TEATRO\",\"TECNOLOGIA DA INFORMA\\u00c7\\u00c3O\",\"TURISMO\",\"ZOOTECNIA\"],\"x\":[0.08256880733944955,0.0,0.047619047619047616,0.047619047619047616,0.09090909090909091,0.10526315789473684,0.06578947368421052,0.0,0.06976744186046512,0.09333333333333334,0.02027027027027027,0.07413509060955518,0.10526315789473684,0.14678899082568808,0.045454545454545456,0.11627906976744186,0.19444444444444445,0.05813953488372093,0.06896551724137931,0.08163265306122448,0.017857142857142856,0.11363636363636363,0.10810810810810811,0.0,0.12727272727272726,0.023255813953488372,0.05714285714285714,0.0,0.0,0.061224489795918366,0.0,0.0,0.0851063829787234,0.10810810810810811,0.047619047619047616,0.0,0.05263157894736842,0.05405405405405406,0.037037037037037035,0.08163265306122448,0.13333333333333333,0.1038961038961039,0.11627906976744186,0.07142857142857142,0.09523809523809523,0.06701030927835051,0.06060606060606061,0.10204081632653061,0.09595959595959595,0.06818181818181818,0.0625,0.03333333333333333,0.07462686567164178,0.022727272727272728,0.0641025641025641,0.037037037037037035,0.14893617021276595,0.20689655172413793,0.05747126436781609,0.0,0.06626506024096386,0.04081632653061224,0.057692307692307696,0.04081632653061224,0.058823529411764705,0.13725490196078433,0.020833333333333332,0.23076923076923078,0.06303724928366762,0.13186813186813187,0.19047619047619047],\"y\":[0.3394495412844037,0.0,0.21428571428571427,0.6190476190476191,0.5454545454545454,0.6052631578947368,0.7236842105263158,0.0,0.4418604651162791,0.5466666666666666,0.38513513513513514,0.21087314662273476,0.14035087719298245,0.48623853211009177,0.4772727272727273,0.6046511627906976,0.7777777777777778,0.4011627906976744,0.6206896551724138,0.3673469387755102,0.6607142857142857,0.38636363636363635,0.5405405405405406,0.5,0.21818181818181817,0.3953488372093023,0.2571428571428571,0.46153846153846156,0.3333333333333333,0.30612244897959184,0.06666666666666667,0.1,0.1276595744680851,0.40540540540540543,0.09523809523809523,0.1111111111111111,0.2894736842105263,0.4864864864864865,0.2777777777777778,0.47959183673469385,0.38666666666666666,0.7142857142857143,0.813953488372093,0.14285714285714285,0.42857142857142855,0.44329896907216493,0.45454545454545453,0.7346938775510204,0.48484848484848486,0.6363636363636364,0.5625,0.6666666666666666,0.5970149253731343,0.6363636363636364,0.2948717948717949,0.3333333333333333,0.3191489361702128,0.25862068965517243,0.735632183908046,0.5681818181818182,0.7951807228915663,0.6020408163265306,0.4358974358974359,0.5102040816326531,0.7647058823529411,0.9019607843137255,0.3333333333333333,0.46153846153846156,0.09742120343839542,0.5604395604395604,0.6428571428571429]},\"selected\":{\"id\":\"1229\",\"type\":\"Selection\"},\"selection_policy\":{\"id\":\"1230\",\"type\":\"UnionRenderers\"}},\"id\":\"1001\",\"type\":\"ColumnDataSource\"},{\"attributes\":{\"data_source\":{\"id\":\"1005\",\"type\":\"ColumnDataSource\"},\"glyph\":{\"id\":\"1191\",\"type\":\"Circle\"},\"hover_glyph\":null,\"muted_glyph\":null,\"nonselection_glyph\":{\"id\":\"1192\",\"type\":\"Circle\"},\"selection_glyph\":null,\"view\":{\"id\":\"1194\",\"type\":\"CDSView\"}},\"id\":\"1193\",\"type\":\"GlyphRenderer\"},{\"attributes\":{\"source\":{\"id\":\"1002\",\"type\":\"ColumnDataSource\"}},\"id\":\"1077\",\"type\":\"CDSView\"},{\"attributes\":{\"plot\":{\"id\":\"1009\",\"subtype\":\"Figure\",\"type\":\"Plot\"},\"ticker\":{\"id\":\"1020\",\"type\":\"BasicTicker\"}},\"id\":\"1023\",\"type\":\"Grid\"},{\"attributes\":{},\"id\":\"1079\",\"type\":\"BasicTickFormatter\"},{\"attributes\":{\"callback\":null,\"data\":{\"area\":[\"Ci\\u00eancias Sociais Aplicadas\",\"Ci\\u00eancias Sociais Aplicadas\",\"Outra\",\"Engenharias\",\"Lingu\\u00edstica, Letras e Artes\",\"Ci\\u00eancias Sociais Aplicadas\",\"Ci\\u00eancias Biol\\u00f3gicas\",\"Ci\\u00eancias Exatas e da Terra\",\"Ci\\u00eancias Exatas e da Terra\",\"Ci\\u00eancias Biol\\u00f3gicas\",\"Ci\\u00eancias Sociais Aplicadas\",\"Ci\\u00eancias Exatas e da Terra\",\"Ci\\u00eancias Sociais Aplicadas\",\"Ci\\u00eancias Humanas\",\"Ci\\u00eancias Humanas\",\"Ci\\u00eancias Humanas\",\"Lingu\\u00edstica, Letras e Artes\",\"Ci\\u00eancias Sociais Aplicadas\",\"Ci\\u00eancias Biol\\u00f3gicas\",\"Ci\\u00eancias da Sa\\u00fade\",\"Ci\\u00eancias da Sa\\u00fade\",\"Ci\\u00eancias Agr\\u00e1rias\",\"Engenharias\",\"Engenharias\",\"Engenharias\",\"Ci\\u00eancias Biol\\u00f3gicas\",\"Engenharias\",\"Engenharias\",\"Engenharias\",\"Engenharias\",\"Ci\\u00eancias Exatas e da Terra\",\"Engenharias\",\"Engenharias\",\"Engenharias\",\"Engenharias\",\"Engenharias\",\"Engenharias\",\"Engenharias\",\"Ci\\u00eancias Exatas e da Terra\",\"Ci\\u00eancias da Sa\\u00fade\",\"Lingu\\u00edstica, Letras e Artes\",\"Ci\\u00eancias da Sa\\u00fade\",\"Ci\\u00eancias da Sa\\u00fade\",\"Ci\\u00eancias Exatas e da Terra\",\"Ci\\u00eancias Exatas e da Terra\",\"Ci\\u00eancias Humanas\",\"Ci\\u00eancias Exatas e da Terra\",\"Ci\\u00eancias da Sa\\u00fade\",\"Ci\\u00eancias Humanas\",\"Ci\\u00eancias Humanas\",\"Lingu\\u00edstica, Letras e Artes\",\"Lingu\\u00edstica, Letras e Artes\",\"Lingu\\u00edstica, Letras e Artes\",\"Lingu\\u00edstica, Letras e Artes\",\"Ci\\u00eancias Exatas e da Terra\",\"Ci\\u00eancias da Sa\\u00fade\",\"Ci\\u00eancias Exatas e da Terra\",\"Lingu\\u00edstica, Letras e Artes\",\"Ci\\u00eancias da Sa\\u00fade\",\"Ci\\u00eancias da Sa\\u00fade\",\"Ci\\u00eancias Sociais Aplicadas\",\"Ci\\u00eancias Sociais Aplicadas\",\"Ci\\u00eancias Exatas e da Terra\",\"Ci\\u00eancias Exatas e da Terra\",\"Ci\\u00eancias da Sa\\u00fade\",\"Ci\\u00eancias Sociais Aplicadas\",\"Ci\\u00eancias Exatas e da Terra\",\"Lingu\\u00edstica, Letras e Artes\",\"Ci\\u00eancias Exatas e da Terra\",\"Ci\\u00eancias Sociais Aplicadas\",\"Ci\\u00eancias Agr\\u00e1rias\"],\"curso\":[\"ADMINISTRA\\u00c7\\u00c3O\",\"ADMINISTRA\\u00c7\\u00c3O P\\u00daBLICA\",\"AN\\u00c1LISE E DESENVOLVIMENTO DE SISTEMAS\",\"ARQUITETURA E URBANISMO\",\"ARTES VISUAIS\",\"BIBLIOTECONOMIA\",\"BIOMEDICINA\",\"CI\\u00caNCIA DA COMPUTA\\u00c7\\u00c3O\",\"CI\\u00caNCIAS ATUARIAIS\",\"CI\\u00caNCIAS BIOL\\u00d3GICAS\",\"CI\\u00caNCIAS CONT\\u00c1BEIS\",\"CI\\u00caNCIAS E TECNOLOGIA\",\"CI\\u00caNCIAS ECON\\u00d4MICAS\",\"CI\\u00caNCIAS SOCIAIS\",\"COMUNICA\\u00c7\\u00c3O SOCIAL - AUDIOVISUAL\",\"COMUNICA\\u00c7\\u00c3O SOCIAL- PUBLICIDADE E PROPAGANDA\",\"DAN\\u00c7A\",\"DIREITO\",\"ECOLOGIA\",\"EDUCA\\u00c7\\u00c3O F\\u00cdSICA\",\"ENFERMAGEM\",\"ENGENHARIA AGRON\\u00d4MICA\",\"ENGENHARIA AMBIENTAL\",\"ENGENHARIA BIOM\\u00c9DICA\",\"ENGENHARIA CIVIL\",\"ENGENHARIA DE AQUICULTURA\",\"ENGENHARIA DE COMPUTA\\u00c7\\u00c3O\",\"ENGENHARIA DE MATERIAIS\",\"ENGENHARIA DE PETR\\u00d3LEO\",\"ENGENHARIA DE PRODU\\u00c7\\u00c3O\",\"ENGENHARIA DE SOFTWARE\",\"ENGENHARIA DE TELECOMUNICA\\u00c7\\u00d5ES\",\"ENGENHARIA EL\\u00c9TRICA\",\"ENGENHARIA FLORESTAL\",\"ENGENHARIA MECATR\\u00d4NICA\",\"ENGENHARIA MEC\\u00c2NICA\",\"ENGENHARIA QU\\u00cdMICA\",\"ENGENHARIA T\\u00caXTIL\",\"ESTAT\\u00cdSTICA\",\"FARM\\u00c1CIA\",\"FILOSOFIA\",\"FISIOTERAPIA\",\"FONOAUDIOLOGIA\",\"F\\u00cdSICA\",\"GEOF\\u00cdSICA\",\"GEOGRAFIA\",\"GEOLOGIA\",\"GEST\\u00c3O HOSPITALAR\",\"HIST\\u00d3RIA\",\"JORNALISMO\",\"LETRAS - FRANC\\u00caS\",\"LETRAS - INGL\\u00caS\",\"LETRAS - L\\u00cdNGUA ESPANHOLA\",\"LETRAS - L\\u00cdNGUA PORTUGUESA\",\"MATEM\\u00c1TICA\",\"MEDICINA\",\"METEOROLOGIA\",\"M\\u00daSICA\",\"NUTRI\\u00c7\\u00c3O\",\"ODONTOLOGIA\",\"PEDAGOGIA\",\"PSICOLOGIA\",\"QU\\u00cdMICA\",\"QU\\u00cdMICA DO PETR\\u00d3LEO\",\"SA\\u00daDE COLETIVA\",\"SERVI\\u00c7O SOCIAL\",\"SISTEMAS DE INFORMA\\u00c7\\u00c3O\",\"TEATRO\",\"TECNOLOGIA DA INFORMA\\u00c7\\u00c3O\",\"TURISMO\",\"ZOOTECNIA\"],\"x\":[0.3944954128440367,0.0,0.5952380952380952,0.3333333333333333,0.36363636363636365,0.3684210526315789,0.4605263157894737,0.25,0.4186046511627907,0.36,0.5135135135135135,0.4612850082372323,0.3333333333333333,0.44036697247706424,0.38636363636363635,0.3488372093023256,0.4444444444444444,0.4186046511627907,0.5402298850574713,0.42857142857142855,0.42857142857142855,0.5227272727272727,0.40540540540540543,0.4444444444444444,0.3090909090909091,0.3953488372093023,0.4,0.23076923076923078,0.6666666666666666,0.4489795918367347,0.4666666666666667,0.35,0.2553191489361702,0.4594594594594595,0.5238095238095238,0.3333333333333333,0.3157894736842105,0.5135135135135135,0.5370370370370371,0.5102040816326531,0.37333333333333335,0.42857142857142855,0.4186046511627907,0.48214285714285715,0.5,0.4845360824742268,0.45454545454545453,0.5306122448979592,0.4090909090909091,0.4090909090909091,0.4375,0.4666666666666667,0.47761194029850745,0.5454545454545454,0.5064102564102564,0.3333333333333333,0.40425531914893614,0.4827586206896552,0.5287356321839081,0.45454545454545453,0.5,0.5,0.5128205128205128,0.4897959183673469,0.45098039215686275,0.49019607843137253,0.5625,0.38461538461538464,0.4670487106017192,0.42857142857142855,0.3333333333333333],\"y\":[0.3394495412844037,0.0,0.21428571428571427,0.6190476190476191,0.5454545454545454,0.6052631578947368,0.7236842105263158,0.0,0.4418604651162791,0.5466666666666666,0.38513513513513514,0.21087314662273476,0.14035087719298245,0.48623853211009177,0.4772727272727273,0.6046511627906976,0.7777777777777778,0.4011627906976744,0.6206896551724138,0.3673469387755102,0.6607142857142857,0.38636363636363635,0.5405405405405406,0.5,0.21818181818181817,0.3953488372093023,0.2571428571428571,0.46153846153846156,0.3333333333333333,0.30612244897959184,0.06666666666666667,0.1,0.1276595744680851,0.40540540540540543,0.09523809523809523,0.1111111111111111,0.2894736842105263,0.4864864864864865,0.2777777777777778,0.47959183673469385,0.38666666666666666,0.7142857142857143,0.813953488372093,0.14285714285714285,0.42857142857142855,0.44329896907216493,0.45454545454545453,0.7346938775510204,0.48484848484848486,0.6363636363636364,0.5625,0.6666666666666666,0.5970149253731343,0.6363636363636364,0.2948717948717949,0.3333333333333333,0.3191489361702128,0.25862068965517243,0.735632183908046,0.5681818181818182,0.7951807228915663,0.6020408163265306,0.4358974358974359,0.5102040816326531,0.7647058823529411,0.9019607843137255,0.3333333333333333,0.46153846153846156,0.09742120343839542,0.5604395604395604,0.6428571428571429]},\"selected\":{\"id\":\"1231\",\"type\":\"Selection\"},\"selection_policy\":{\"id\":\"1232\",\"type\":\"UnionRenderers\"}},\"id\":\"1002\",\"type\":\"ColumnDataSource\"},{\"attributes\":{\"source\":{\"id\":\"1005\",\"type\":\"ColumnDataSource\"}},\"id\":\"1194\",\"type\":\"CDSView\"},{\"attributes\":{\"axis_label\":\"Porcentagem de mulheres no curso\",\"formatter\":{\"id\":\"1042\",\"type\":\"BasicTickFormatter\"},\"plot\":{\"id\":\"1009\",\"subtype\":\"Figure\",\"type\":\"Plot\"},\"ticker\":{\"id\":\"1025\",\"type\":\"BasicTicker\"}},\"id\":\"1024\",\"type\":\"LinearAxis\"},{\"attributes\":{},\"id\":\"1081\",\"type\":\"BasicTickFormatter\"},{\"attributes\":{\"callback\":null,\"data\":{\"area\":[\"Ci\\u00eancias Sociais Aplicadas\",\"Ci\\u00eancias Sociais Aplicadas\",\"Outra\",\"Engenharias\",\"Lingu\\u00edstica, Letras e Artes\",\"Ci\\u00eancias Sociais Aplicadas\",\"Ci\\u00eancias Biol\\u00f3gicas\",\"Ci\\u00eancias Exatas e da Terra\",\"Ci\\u00eancias Exatas e da Terra\",\"Ci\\u00eancias Biol\\u00f3gicas\",\"Ci\\u00eancias Sociais Aplicadas\",\"Ci\\u00eancias Exatas e da Terra\",\"Ci\\u00eancias Sociais Aplicadas\",\"Ci\\u00eancias Humanas\",\"Ci\\u00eancias Humanas\",\"Ci\\u00eancias Humanas\",\"Lingu\\u00edstica, Letras e Artes\",\"Ci\\u00eancias Sociais Aplicadas\",\"Ci\\u00eancias Biol\\u00f3gicas\",\"Ci\\u00eancias da Sa\\u00fade\",\"Ci\\u00eancias da Sa\\u00fade\",\"Ci\\u00eancias Agr\\u00e1rias\",\"Engenharias\",\"Engenharias\",\"Engenharias\",\"Ci\\u00eancias Biol\\u00f3gicas\",\"Engenharias\",\"Engenharias\",\"Engenharias\",\"Engenharias\",\"Ci\\u00eancias Exatas e da Terra\",\"Engenharias\",\"Engenharias\",\"Engenharias\",\"Engenharias\",\"Engenharias\",\"Engenharias\",\"Engenharias\",\"Ci\\u00eancias Exatas e da Terra\",\"Ci\\u00eancias da Sa\\u00fade\",\"Lingu\\u00edstica, Letras e Artes\",\"Ci\\u00eancias da Sa\\u00fade\",\"Ci\\u00eancias da Sa\\u00fade\",\"Ci\\u00eancias Exatas e da Terra\",\"Ci\\u00eancias Exatas e da Terra\",\"Ci\\u00eancias Humanas\",\"Ci\\u00eancias Exatas e da Terra\",\"Ci\\u00eancias da Sa\\u00fade\",\"Ci\\u00eancias Humanas\",\"Ci\\u00eancias Humanas\",\"Lingu\\u00edstica, Letras e Artes\",\"Lingu\\u00edstica, Letras e Artes\",\"Lingu\\u00edstica, Letras e Artes\",\"Lingu\\u00edstica, Letras e Artes\",\"Ci\\u00eancias Exatas e da Terra\",\"Ci\\u00eancias da Sa\\u00fade\",\"Ci\\u00eancias Exatas e da Terra\",\"Lingu\\u00edstica, Letras e Artes\",\"Ci\\u00eancias da Sa\\u00fade\",\"Ci\\u00eancias da Sa\\u00fade\",\"Ci\\u00eancias Sociais Aplicadas\",\"Ci\\u00eancias Sociais Aplicadas\",\"Ci\\u00eancias Exatas e da Terra\",\"Ci\\u00eancias Exatas e da Terra\",\"Ci\\u00eancias da Sa\\u00fade\",\"Ci\\u00eancias Sociais Aplicadas\",\"Ci\\u00eancias Exatas e da Terra\",\"Lingu\\u00edstica, Letras e Artes\",\"Ci\\u00eancias Exatas e da Terra\",\"Ci\\u00eancias Sociais Aplicadas\",\"Ci\\u00eancias Agr\\u00e1rias\"],\"curso\":[\"ADMINISTRA\\u00c7\\u00c3O\",\"ADMINISTRA\\u00c7\\u00c3O P\\u00daBLICA\",\"AN\\u00c1LISE E DESENVOLVIMENTO DE SISTEMAS\",\"ARQUITETURA E URBANISMO\",\"ARTES VISUAIS\",\"BIBLIOTECONOMIA\",\"BIOMEDICINA\",\"CI\\u00caNCIA DA COMPUTA\\u00c7\\u00c3O\",\"CI\\u00caNCIAS ATUARIAIS\",\"CI\\u00caNCIAS BIOL\\u00d3GICAS\",\"CI\\u00caNCIAS CONT\\u00c1BEIS\",\"CI\\u00caNCIAS E TECNOLOGIA\",\"CI\\u00caNCIAS ECON\\u00d4MICAS\",\"CI\\u00caNCIAS SOCIAIS\",\"COMUNICA\\u00c7\\u00c3O SOCIAL - AUDIOVISUAL\",\"COMUNICA\\u00c7\\u00c3O SOCIAL- PUBLICIDADE E PROPAGANDA\",\"DAN\\u00c7A\",\"DIREITO\",\"ECOLOGIA\",\"EDUCA\\u00c7\\u00c3O F\\u00cdSICA\",\"ENFERMAGEM\",\"ENGENHARIA AGRON\\u00d4MICA\",\"ENGENHARIA AMBIENTAL\",\"ENGENHARIA BIOM\\u00c9DICA\",\"ENGENHARIA CIVIL\",\"ENGENHARIA DE AQUICULTURA\",\"ENGENHARIA DE COMPUTA\\u00c7\\u00c3O\",\"ENGENHARIA DE MATERIAIS\",\"ENGENHARIA DE PETR\\u00d3LEO\",\"ENGENHARIA DE PRODU\\u00c7\\u00c3O\",\"ENGENHARIA DE SOFTWARE\",\"ENGENHARIA DE TELECOMUNICA\\u00c7\\u00d5ES\",\"ENGENHARIA EL\\u00c9TRICA\",\"ENGENHARIA FLORESTAL\",\"ENGENHARIA MECATR\\u00d4NICA\",\"ENGENHARIA MEC\\u00c2NICA\",\"ENGENHARIA QU\\u00cdMICA\",\"ENGENHARIA T\\u00caXTIL\",\"ESTAT\\u00cdSTICA\",\"FARM\\u00c1CIA\",\"FILOSOFIA\",\"FISIOTERAPIA\",\"FONOAUDIOLOGIA\",\"F\\u00cdSICA\",\"GEOF\\u00cdSICA\",\"GEOGRAFIA\",\"GEOLOGIA\",\"GEST\\u00c3O HOSPITALAR\",\"HIST\\u00d3RIA\",\"JORNALISMO\",\"LETRAS - FRANC\\u00caS\",\"LETRAS - INGL\\u00caS\",\"LETRAS - L\\u00cdNGUA ESPANHOLA\",\"LETRAS - L\\u00cdNGUA PORTUGUESA\",\"MATEM\\u00c1TICA\",\"MEDICINA\",\"METEOROLOGIA\",\"M\\u00daSICA\",\"NUTRI\\u00c7\\u00c3O\",\"ODONTOLOGIA\",\"PEDAGOGIA\",\"PSICOLOGIA\",\"QU\\u00cdMICA\",\"QU\\u00cdMICA DO PETR\\u00d3LEO\",\"SA\\u00daDE COLETIVA\",\"SERVI\\u00c7O SOCIAL\",\"SISTEMAS DE INFORMA\\u00c7\\u00c3O\",\"TEATRO\",\"TECNOLOGIA DA INFORMA\\u00c7\\u00c3O\",\"TURISMO\",\"ZOOTECNIA\"],\"x\":[0.009174311926605505,0.0,0.0,0.0,0.0,0.0,0.0,0.0,0.0,0.013333333333333334,0.0,0.0,0.0,0.0,0.0,0.0,0.0,0.0,0.0,0.02040816326530612,0.0,0.0,0.0,0.0,0.0,0.046511627906976744,0.0,0.0,0.0,0.0,0.0,0.0,0.0,0.0,0.0,0.0,0.0,0.0,0.0,0.0,0.0,0.0,0.0,0.0,0.0,0.0,0.0,0.0,0.0,0.0,0.0,0.0,0.0,0.0,0.0,0.0,0.02127659574468085,0.0,0.0,0.0,0.006024096385542169,0.0,0.0,0.0,0.0196078431372549,0.0,0.0,0.0,0.0028653295128939827,0.01098901098901099,0.0],\"y\":[0.3394495412844037,0.0,0.21428571428571427,0.6190476190476191,0.5454545454545454,0.6052631578947368,0.7236842105263158,0.0,0.4418604651162791,0.5466666666666666,0.38513513513513514,0.21087314662273476,0.14035087719298245,0.48623853211009177,0.4772727272727273,0.6046511627906976,0.7777777777777778,0.4011627906976744,0.6206896551724138,0.3673469387755102,0.6607142857142857,0.38636363636363635,0.5405405405405406,0.5,0.21818181818181817,0.3953488372093023,0.2571428571428571,0.46153846153846156,0.3333333333333333,0.30612244897959184,0.06666666666666667,0.1,0.1276595744680851,0.40540540540540543,0.09523809523809523,0.1111111111111111,0.2894736842105263,0.4864864864864865,0.2777777777777778,0.47959183673469385,0.38666666666666666,0.7142857142857143,0.813953488372093,0.14285714285714285,0.42857142857142855,0.44329896907216493,0.45454545454545453,0.7346938775510204,0.48484848484848486,0.6363636363636364,0.5625,0.6666666666666666,0.5970149253731343,0.6363636363636364,0.2948717948717949,0.3333333333333333,0.3191489361702128,0.25862068965517243,0.735632183908046,0.5681818181818182,0.7951807228915663,0.6020408163265306,0.4358974358974359,0.5102040816326531,0.7647058823529411,0.9019607843137255,0.3333333333333333,0.46153846153846156,0.09742120343839542,0.5604395604395604,0.6428571428571429]},\"selected\":{\"id\":\"1233\",\"type\":\"Selection\"},\"selection_policy\":{\"id\":\"1234\",\"type\":\"UnionRenderers\"}},\"id\":\"1003\",\"type\":\"ColumnDataSource\"},{\"attributes\":{},\"id\":\"1196\",\"type\":\"BasicTickFormatter\"},{\"attributes\":{},\"id\":\"1025\",\"type\":\"BasicTicker\"},{\"attributes\":{\"items\":[{\"id\":\"1084\",\"type\":\"LegendItem\"}],\"plot\":{\"id\":\"1048\",\"subtype\":\"Figure\",\"type\":\"Plot\"},\"visible\":false},\"id\":\"1083\",\"type\":\"Legend\"},{\"attributes\":{},\"id\":\"1198\",\"type\":\"BasicTickFormatter\"},{\"attributes\":{\"callback\":null,\"data\":{\"area\":[\"Ci\\u00eancias Sociais Aplicadas\",\"Ci\\u00eancias Sociais Aplicadas\",\"Outra\",\"Engenharias\",\"Lingu\\u00edstica, Letras e Artes\",\"Ci\\u00eancias Sociais Aplicadas\",\"Ci\\u00eancias Biol\\u00f3gicas\",\"Ci\\u00eancias Exatas e da Terra\",\"Ci\\u00eancias Exatas e da Terra\",\"Ci\\u00eancias Biol\\u00f3gicas\",\"Ci\\u00eancias Sociais Aplicadas\",\"Ci\\u00eancias Exatas e da Terra\",\"Ci\\u00eancias Sociais Aplicadas\",\"Ci\\u00eancias Humanas\",\"Ci\\u00eancias Humanas\",\"Ci\\u00eancias Humanas\",\"Lingu\\u00edstica, Letras e Artes\",\"Ci\\u00eancias Sociais Aplicadas\",\"Ci\\u00eancias Biol\\u00f3gicas\",\"Ci\\u00eancias da Sa\\u00fade\",\"Ci\\u00eancias da Sa\\u00fade\",\"Ci\\u00eancias Agr\\u00e1rias\",\"Engenharias\",\"Engenharias\",\"Engenharias\",\"Ci\\u00eancias Biol\\u00f3gicas\",\"Engenharias\",\"Engenharias\",\"Engenharias\",\"Engenharias\",\"Ci\\u00eancias Exatas e da Terra\",\"Engenharias\",\"Engenharias\",\"Engenharias\",\"Engenharias\",\"Engenharias\",\"Engenharias\",\"Engenharias\",\"Ci\\u00eancias Exatas e da Terra\",\"Ci\\u00eancias da Sa\\u00fade\",\"Lingu\\u00edstica, Letras e Artes\",\"Ci\\u00eancias da Sa\\u00fade\",\"Ci\\u00eancias da Sa\\u00fade\",\"Ci\\u00eancias Exatas e da Terra\",\"Ci\\u00eancias Exatas e da Terra\",\"Ci\\u00eancias Humanas\",\"Ci\\u00eancias Exatas e da Terra\",\"Ci\\u00eancias da Sa\\u00fade\",\"Ci\\u00eancias Humanas\",\"Ci\\u00eancias Humanas\",\"Lingu\\u00edstica, Letras e Artes\",\"Lingu\\u00edstica, Letras e Artes\",\"Lingu\\u00edstica, Letras e Artes\",\"Lingu\\u00edstica, Letras e Artes\",\"Ci\\u00eancias Exatas e da Terra\",\"Ci\\u00eancias da Sa\\u00fade\",\"Ci\\u00eancias Exatas e da Terra\",\"Lingu\\u00edstica, Letras e Artes\",\"Ci\\u00eancias da Sa\\u00fade\",\"Ci\\u00eancias da Sa\\u00fade\",\"Ci\\u00eancias Sociais Aplicadas\",\"Ci\\u00eancias Sociais Aplicadas\",\"Ci\\u00eancias Exatas e da Terra\",\"Ci\\u00eancias Exatas e da Terra\",\"Ci\\u00eancias da Sa\\u00fade\",\"Ci\\u00eancias Sociais Aplicadas\",\"Ci\\u00eancias Exatas e da Terra\",\"Lingu\\u00edstica, Letras e Artes\",\"Ci\\u00eancias Exatas e da Terra\",\"Ci\\u00eancias Sociais Aplicadas\",\"Ci\\u00eancias Agr\\u00e1rias\"],\"curso\":[\"ADMINISTRA\\u00c7\\u00c3O\",\"ADMINISTRA\\u00c7\\u00c3O P\\u00daBLICA\",\"AN\\u00c1LISE E DESENVOLVIMENTO DE SISTEMAS\",\"ARQUITETURA E URBANISMO\",\"ARTES VISUAIS\",\"BIBLIOTECONOMIA\",\"BIOMEDICINA\",\"CI\\u00caNCIA DA COMPUTA\\u00c7\\u00c3O\",\"CI\\u00caNCIAS ATUARIAIS\",\"CI\\u00caNCIAS BIOL\\u00d3GICAS\",\"CI\\u00caNCIAS CONT\\u00c1BEIS\",\"CI\\u00caNCIAS E TECNOLOGIA\",\"CI\\u00caNCIAS ECON\\u00d4MICAS\",\"CI\\u00caNCIAS SOCIAIS\",\"COMUNICA\\u00c7\\u00c3O SOCIAL - AUDIOVISUAL\",\"COMUNICA\\u00c7\\u00c3O SOCIAL- PUBLICIDADE E PROPAGANDA\",\"DAN\\u00c7A\",\"DIREITO\",\"ECOLOGIA\",\"EDUCA\\u00c7\\u00c3O F\\u00cdSICA\",\"ENFERMAGEM\",\"ENGENHARIA AGRON\\u00d4MICA\",\"ENGENHARIA AMBIENTAL\",\"ENGENHARIA BIOM\\u00c9DICA\",\"ENGENHARIA CIVIL\",\"ENGENHARIA DE AQUICULTURA\",\"ENGENHARIA DE COMPUTA\\u00c7\\u00c3O\",\"ENGENHARIA DE MATERIAIS\",\"ENGENHARIA DE PETR\\u00d3LEO\",\"ENGENHARIA DE PRODU\\u00c7\\u00c3O\",\"ENGENHARIA DE SOFTWARE\",\"ENGENHARIA DE TELECOMUNICA\\u00c7\\u00d5ES\",\"ENGENHARIA EL\\u00c9TRICA\",\"ENGENHARIA FLORESTAL\",\"ENGENHARIA MECATR\\u00d4NICA\",\"ENGENHARIA MEC\\u00c2NICA\",\"ENGENHARIA QU\\u00cdMICA\",\"ENGENHARIA T\\u00caXTIL\",\"ESTAT\\u00cdSTICA\",\"FARM\\u00c1CIA\",\"FILOSOFIA\",\"FISIOTERAPIA\",\"FONOAUDIOLOGIA\",\"F\\u00cdSICA\",\"GEOF\\u00cdSICA\",\"GEOGRAFIA\",\"GEOLOGIA\",\"GEST\\u00c3O HOSPITALAR\",\"HIST\\u00d3RIA\",\"JORNALISMO\",\"LETRAS - FRANC\\u00caS\",\"LETRAS - INGL\\u00caS\",\"LETRAS - L\\u00cdNGUA ESPANHOLA\",\"LETRAS - L\\u00cdNGUA PORTUGUESA\",\"MATEM\\u00c1TICA\",\"MEDICINA\",\"METEOROLOGIA\",\"M\\u00daSICA\",\"NUTRI\\u00c7\\u00c3O\",\"ODONTOLOGIA\",\"PEDAGOGIA\",\"PSICOLOGIA\",\"QU\\u00cdMICA\",\"QU\\u00cdMICA DO PETR\\u00d3LEO\",\"SA\\u00daDE COLETIVA\",\"SERVI\\u00c7O SOCIAL\",\"SISTEMAS DE INFORMA\\u00c7\\u00c3O\",\"TEATRO\",\"TECNOLOGIA DA INFORMA\\u00c7\\u00c3O\",\"TURISMO\",\"ZOOTECNIA\"],\"x\":[0.4954128440366973,1.0,0.2857142857142857,0.6190476190476191,0.5227272727272727,0.4473684210526316,0.4473684210526316,0.75,0.4883720930232558,0.5066666666666667,0.44594594594594594,0.4332784184514003,0.5263157894736842,0.3853211009174312,0.5454545454545454,0.5116279069767442,0.3611111111111111,0.4883720930232558,0.3563218390804598,0.46938775510204084,0.48214285714285715,0.36363636363636365,0.4594594594594595,0.5,0.5272727272727272,0.4418604651162791,0.3142857142857143,0.7692307692307693,0.3333333333333333,0.4489795918367347,0.4,0.55,0.6170212765957447,0.3783783783783784,0.2857142857142857,0.5555555555555556,0.631578947368421,0.3783783783783784,0.3888888888888889,0.40816326530612246,0.4,0.45454545454545453,0.3953488372093023,0.4017857142857143,0.30952380952380953,0.42783505154639173,0.3939393939393939,0.3469387755102041,0.4444444444444444,0.5,0.4375,0.5,0.34328358208955223,0.4318181818181818,0.3974358974358974,0.5740740740740741,0.425531914893617,0.3103448275862069,0.3793103448275862,0.5454545454545454,0.3855421686746988,0.4387755102040816,0.4166666666666667,0.42857142857142855,0.4117647058823529,0.35294117647058826,0.4166666666666667,0.38461538461538464,0.44126074498567336,0.32967032967032966,0.40476190476190477],\"y\":[0.3394495412844037,0.0,0.21428571428571427,0.6190476190476191,0.5454545454545454,0.6052631578947368,0.7236842105263158,0.0,0.4418604651162791,0.5466666666666666,0.38513513513513514,0.21087314662273476,0.14035087719298245,0.48623853211009177,0.4772727272727273,0.6046511627906976,0.7777777777777778,0.4011627906976744,0.6206896551724138,0.3673469387755102,0.6607142857142857,0.38636363636363635,0.5405405405405406,0.5,0.21818181818181817,0.3953488372093023,0.2571428571428571,0.46153846153846156,0.3333333333333333,0.30612244897959184,0.06666666666666667,0.1,0.1276595744680851,0.40540540540540543,0.09523809523809523,0.1111111111111111,0.2894736842105263,0.4864864864864865,0.2777777777777778,0.47959183673469385,0.38666666666666666,0.7142857142857143,0.813953488372093,0.14285714285714285,0.42857142857142855,0.44329896907216493,0.45454545454545453,0.7346938775510204,0.48484848484848486,0.6363636363636364,0.5625,0.6666666666666666,0.5970149253731343,0.6363636363636364,0.2948717948717949,0.3333333333333333,0.3191489361702128,0.25862068965517243,0.735632183908046,0.5681818181818182,0.7951807228915663,0.6020408163265306,0.4358974358974359,0.5102040816326531,0.7647058823529411,0.9019607843137255,0.3333333333333333,0.46153846153846156,0.09742120343839542,0.5604395604395604,0.6428571428571429]},\"selected\":{\"id\":\"1235\",\"type\":\"Selection\"},\"selection_policy\":{\"id\":\"1236\",\"type\":\"UnionRenderers\"}},\"id\":\"1004\",\"type\":\"ColumnDataSource\"},{\"attributes\":{\"items\":[{\"id\":\"1201\",\"type\":\"LegendItem\"}],\"plot\":{\"id\":\"1165\",\"subtype\":\"Figure\",\"type\":\"Plot\"},\"visible\":false},\"id\":\"1200\",\"type\":\"Legend\"},{\"attributes\":{\"dimension\":1,\"plot\":{\"id\":\"1009\",\"subtype\":\"Figure\",\"type\":\"Plot\"},\"ticker\":{\"id\":\"1025\",\"type\":\"BasicTicker\"}},\"id\":\"1028\",\"type\":\"Grid\"},{\"attributes\":{\"label\":{\"field\":\"area\"},\"renderers\":[{\"id\":\"1076\",\"type\":\"GlyphRenderer\"}]},\"id\":\"1084\",\"type\":\"LegendItem\"},{\"attributes\":{\"items\":[{\"id\":\"1084\",\"type\":\"LegendItem\"}],\"location\":\"center\",\"plot\":{\"id\":\"1048\",\"subtype\":\"Figure\",\"type\":\"Plot\"}},\"id\":\"1085\",\"type\":\"Legend\"},{\"attributes\":{\"callback\":null,\"data\":{\"area\":[\"Ci\\u00eancias Sociais Aplicadas\",\"Ci\\u00eancias Sociais Aplicadas\",\"Outra\",\"Engenharias\",\"Lingu\\u00edstica, Letras e Artes\",\"Ci\\u00eancias Sociais Aplicadas\",\"Ci\\u00eancias Biol\\u00f3gicas\",\"Ci\\u00eancias Exatas e da Terra\",\"Ci\\u00eancias Exatas e da Terra\",\"Ci\\u00eancias Biol\\u00f3gicas\",\"Ci\\u00eancias Sociais Aplicadas\",\"Ci\\u00eancias Exatas e da Terra\",\"Ci\\u00eancias Sociais Aplicadas\",\"Ci\\u00eancias Humanas\",\"Ci\\u00eancias Humanas\",\"Ci\\u00eancias Humanas\",\"Lingu\\u00edstica, Letras e Artes\",\"Ci\\u00eancias Sociais Aplicadas\",\"Ci\\u00eancias Biol\\u00f3gicas\",\"Ci\\u00eancias da Sa\\u00fade\",\"Ci\\u00eancias da Sa\\u00fade\",\"Ci\\u00eancias Agr\\u00e1rias\",\"Engenharias\",\"Engenharias\",\"Engenharias\",\"Ci\\u00eancias Biol\\u00f3gicas\",\"Engenharias\",\"Engenharias\",\"Engenharias\",\"Engenharias\",\"Ci\\u00eancias Exatas e da Terra\",\"Engenharias\",\"Engenharias\",\"Engenharias\",\"Engenharias\",\"Engenharias\",\"Engenharias\",\"Engenharias\",\"Ci\\u00eancias Exatas e da Terra\",\"Ci\\u00eancias da Sa\\u00fade\",\"Lingu\\u00edstica, Letras e Artes\",\"Ci\\u00eancias da Sa\\u00fade\",\"Ci\\u00eancias da Sa\\u00fade\",\"Ci\\u00eancias Exatas e da Terra\",\"Ci\\u00eancias Exatas e da Terra\",\"Ci\\u00eancias Humanas\",\"Ci\\u00eancias Exatas e da Terra\",\"Ci\\u00eancias da Sa\\u00fade\",\"Ci\\u00eancias Humanas\",\"Ci\\u00eancias Humanas\",\"Lingu\\u00edstica, Letras e Artes\",\"Lingu\\u00edstica, Letras e Artes\",\"Lingu\\u00edstica, Letras e Artes\",\"Lingu\\u00edstica, Letras e Artes\",\"Ci\\u00eancias Exatas e da Terra\",\"Ci\\u00eancias da Sa\\u00fade\",\"Ci\\u00eancias Exatas e da Terra\",\"Lingu\\u00edstica, Letras e Artes\",\"Ci\\u00eancias da Sa\\u00fade\",\"Ci\\u00eancias da Sa\\u00fade\",\"Ci\\u00eancias Sociais Aplicadas\",\"Ci\\u00eancias Sociais Aplicadas\",\"Ci\\u00eancias Exatas e da Terra\",\"Ci\\u00eancias Exatas e da Terra\",\"Ci\\u00eancias da Sa\\u00fade\",\"Ci\\u00eancias Sociais Aplicadas\",\"Ci\\u00eancias Exatas e da Terra\",\"Lingu\\u00edstica, Letras e Artes\",\"Ci\\u00eancias Exatas e da Terra\",\"Ci\\u00eancias Sociais Aplicadas\",\"Ci\\u00eancias Agr\\u00e1rias\"],\"curso\":[\"ADMINISTRA\\u00c7\\u00c3O\",\"ADMINISTRA\\u00c7\\u00c3O P\\u00daBLICA\",\"AN\\u00c1LISE E DESENVOLVIMENTO DE SISTEMAS\",\"ARQUITETURA E URBANISMO\",\"ARTES VISUAIS\",\"BIBLIOTECONOMIA\",\"BIOMEDICINA\",\"CI\\u00caNCIA DA COMPUTA\\u00c7\\u00c3O\",\"CI\\u00caNCIAS ATUARIAIS\",\"CI\\u00caNCIAS BIOL\\u00d3GICAS\",\"CI\\u00caNCIAS CONT\\u00c1BEIS\",\"CI\\u00caNCIAS E TECNOLOGIA\",\"CI\\u00caNCIAS ECON\\u00d4MICAS\",\"CI\\u00caNCIAS SOCIAIS\",\"COMUNICA\\u00c7\\u00c3O SOCIAL - AUDIOVISUAL\",\"COMUNICA\\u00c7\\u00c3O SOCIAL- PUBLICIDADE E PROPAGANDA\",\"DAN\\u00c7A\",\"DIREITO\",\"ECOLOGIA\",\"EDUCA\\u00c7\\u00c3O F\\u00cdSICA\",\"ENFERMAGEM\",\"ENGENHARIA AGRON\\u00d4MICA\",\"ENGENHARIA AMBIENTAL\",\"ENGENHARIA BIOM\\u00c9DICA\",\"ENGENHARIA CIVIL\",\"ENGENHARIA DE AQUICULTURA\",\"ENGENHARIA DE COMPUTA\\u00c7\\u00c3O\",\"ENGENHARIA DE MATERIAIS\",\"ENGENHARIA DE PETR\\u00d3LEO\",\"ENGENHARIA DE PRODU\\u00c7\\u00c3O\",\"ENGENHARIA DE SOFTWARE\",\"ENGENHARIA DE TELECOMUNICA\\u00c7\\u00d5ES\",\"ENGENHARIA EL\\u00c9TRICA\",\"ENGENHARIA FLORESTAL\",\"ENGENHARIA MECATR\\u00d4NICA\",\"ENGENHARIA MEC\\u00c2NICA\",\"ENGENHARIA QU\\u00cdMICA\",\"ENGENHARIA T\\u00caXTIL\",\"ESTAT\\u00cdSTICA\",\"FARM\\u00c1CIA\",\"FILOSOFIA\",\"FISIOTERAPIA\",\"FONOAUDIOLOGIA\",\"F\\u00cdSICA\",\"GEOF\\u00cdSICA\",\"GEOGRAFIA\",\"GEOLOGIA\",\"GEST\\u00c3O HOSPITALAR\",\"HIST\\u00d3RIA\",\"JORNALISMO\",\"LETRAS - FRANC\\u00caS\",\"LETRAS - INGL\\u00caS\",\"LETRAS - L\\u00cdNGUA ESPANHOLA\",\"LETRAS - L\\u00cdNGUA PORTUGUESA\",\"MATEM\\u00c1TICA\",\"MEDICINA\",\"METEOROLOGIA\",\"M\\u00daSICA\",\"NUTRI\\u00c7\\u00c3O\",\"ODONTOLOGIA\",\"PEDAGOGIA\",\"PSICOLOGIA\",\"QU\\u00cdMICA\",\"QU\\u00cdMICA DO PETR\\u00d3LEO\",\"SA\\u00daDE COLETIVA\",\"SERVI\\u00c7O SOCIAL\",\"SISTEMAS DE INFORMA\\u00c7\\u00c3O\",\"TEATRO\",\"TECNOLOGIA DA INFORMA\\u00c7\\u00c3O\",\"TURISMO\",\"ZOOTECNIA\"],\"x\":[0.009174311926605505,0.0,0.0,0.0,0.022727272727272728,0.0,0.0,0.0,0.0,0.0,0.0,0.004942339373970346,0.017543859649122806,0.0,0.0,0.0,0.0,0.0,0.011494252873563218,0.0,0.0,0.0,0.0,0.0,0.0,0.0,0.0,0.0,0.0,0.02040816326530612,0.0,0.0,0.0,0.02702702702702703,0.0,0.0,0.0,0.02702702702702703,0.0,0.0,0.013333333333333334,0.0,0.046511627906976744,0.017857142857142856,0.023809523809523808,0.0,0.0,0.02040816326530612,0.0,0.0,0.03125,0.0,0.0,0.0,0.0,0.0,0.0,0.0,0.0,0.0,0.006024096385542169,0.0,0.0,0.0,0.0196078431372549,0.0,0.0,0.0,0.0028653295128939827,0.02197802197802198,0.023809523809523808],\"y\":[0.3394495412844037,0.0,0.21428571428571427,0.6190476190476191,0.5454545454545454,0.6052631578947368,0.7236842105263158,0.0,0.4418604651162791,0.5466666666666666,0.38513513513513514,0.21087314662273476,0.14035087719298245,0.48623853211009177,0.4772727272727273,0.6046511627906976,0.7777777777777778,0.4011627906976744,0.6206896551724138,0.3673469387755102,0.6607142857142857,0.38636363636363635,0.5405405405405406,0.5,0.21818181818181817,0.3953488372093023,0.2571428571428571,0.46153846153846156,0.3333333333333333,0.30612244897959184,0.06666666666666667,0.1,0.1276595744680851,0.40540540540540543,0.09523809523809523,0.1111111111111111,0.2894736842105263,0.4864864864864865,0.2777777777777778,0.47959183673469385,0.38666666666666666,0.7142857142857143,0.813953488372093,0.14285714285714285,0.42857142857142855,0.44329896907216493,0.45454545454545453,0.7346938775510204,0.48484848484848486,0.6363636363636364,0.5625,0.6666666666666666,0.5970149253731343,0.6363636363636364,0.2948717948717949,0.3333333333333333,0.3191489361702128,0.25862068965517243,0.735632183908046,0.5681818181818182,0.7951807228915663,0.6020408163265306,0.4358974358974359,0.5102040816326531,0.7647058823529411,0.9019607843137255,0.3333333333333333,0.46153846153846156,0.09742120343839542,0.5604395604395604,0.6428571428571429]},\"selected\":{\"id\":\"1237\",\"type\":\"Selection\"},\"selection_policy\":{\"id\":\"1238\",\"type\":\"UnionRenderers\"}},\"id\":\"1005\",\"type\":\"ColumnDataSource\"},{\"attributes\":{\"label\":{\"field\":\"area\"},\"renderers\":[{\"id\":\"1193\",\"type\":\"GlyphRenderer\"}]},\"id\":\"1201\",\"type\":\"LegendItem\"},{\"attributes\":{\"items\":[{\"id\":\"1201\",\"type\":\"LegendItem\"}],\"location\":\"center\",\"plot\":{\"id\":\"1165\",\"subtype\":\"Figure\",\"type\":\"Plot\"}},\"id\":\"1202\",\"type\":\"Legend\"},{\"attributes\":{},\"id\":\"1229\",\"type\":\"Selection\"},{\"attributes\":{\"fill_alpha\":{\"value\":0.8},\"fill_color\":{\"field\":\"area\",\"transform\":{\"id\":\"1007\",\"type\":\"CategoricalColorMapper\"}},\"line_color\":{\"field\":\"area\",\"transform\":{\"id\":\"1007\",\"type\":\"CategoricalColorMapper\"}},\"size\":{\"units\":\"screen\",\"value\":10},\"x\":{\"field\":\"x\"},\"y\":{\"field\":\"y\"}},\"id\":\"1035\",\"type\":\"Circle\"},{\"attributes\":{\"fill_alpha\":{\"value\":0.8},\"fill_color\":{\"field\":\"area\",\"transform\":{\"id\":\"1007\",\"type\":\"CategoricalColorMapper\"}},\"line_color\":{\"field\":\"area\",\"transform\":{\"id\":\"1007\",\"type\":\"CategoricalColorMapper\"}},\"size\":{\"units\":\"screen\",\"value\":10},\"x\":{\"field\":\"x\"},\"y\":{\"field\":\"y\"}},\"id\":\"1113\",\"type\":\"Circle\"},{\"attributes\":{\"plot\":null,\"text\":\"RELA\\u00c7\\u00c3O ENTRE RA\\u00c7A/COR E G\\u00caNERO NOS CURSOS\"},\"id\":\"1086\",\"type\":\"Title\"},{\"attributes\":{\"callback\":null,\"tooltips\":[[\"curso\",\"@curso\"],[\"negros\",\"@x{%0.2f}\"],[\"mulheres\",\"@y{%0.2f}\"]]},\"id\":\"1029\",\"type\":\"HoverTool\"},{\"attributes\":{},\"id\":\"1030\",\"type\":\"SaveTool\"},{\"attributes\":{\"callback\":null},\"id\":\"1089\",\"type\":\"Range1d\"},{\"attributes\":{\"active_drag\":\"auto\",\"active_inspect\":\"auto\",\"active_multi\":null,\"active_scroll\":\"auto\",\"active_tap\":\"auto\",\"tools\":[{\"id\":\"1029\",\"type\":\"HoverTool\"},{\"id\":\"1030\",\"type\":\"SaveTool\"}]},\"id\":\"1031\",\"type\":\"Toolbar\"},{\"attributes\":{\"callback\":null},\"id\":\"1091\",\"type\":\"Range1d\"},{\"attributes\":{},\"id\":\"1093\",\"type\":\"LinearScale\"},{\"attributes\":{\"fill_alpha\":{\"value\":0.1},\"fill_color\":{\"value\":\"#1f77b4\"},\"line_alpha\":{\"value\":0.1},\"line_color\":{\"value\":\"#1f77b4\"},\"size\":{\"units\":\"screen\",\"value\":10},\"x\":{\"field\":\"x\"},\"y\":{\"field\":\"y\"}},\"id\":\"1036\",\"type\":\"Circle\"},{\"attributes\":{\"data_source\":{\"id\":\"1001\",\"type\":\"ColumnDataSource\"},\"glyph\":{\"id\":\"1035\",\"type\":\"Circle\"},\"hover_glyph\":null,\"muted_glyph\":null,\"nonselection_glyph\":{\"id\":\"1036\",\"type\":\"Circle\"},\"selection_glyph\":null,\"view\":{\"id\":\"1038\",\"type\":\"CDSView\"}},\"id\":\"1037\",\"type\":\"GlyphRenderer\"},{\"attributes\":{},\"id\":\"1095\",\"type\":\"LinearScale\"},{\"attributes\":{\"axis_label\":\"Porcentagem de alunos ind\\u00edgenas no curso\",\"formatter\":{\"id\":\"1118\",\"type\":\"BasicTickFormatter\"},\"plot\":{\"id\":\"1087\",\"subtype\":\"Figure\",\"type\":\"Plot\"},\"ticker\":{\"id\":\"1098\",\"type\":\"BasicTicker\"}},\"id\":\"1097\",\"type\":\"LinearAxis\"},{\"attributes\":{\"source\":{\"id\":\"1001\",\"type\":\"ColumnDataSource\"}},\"id\":\"1038\",\"type\":\"CDSView\"},{\"attributes\":{},\"id\":\"1040\",\"type\":\"BasicTickFormatter\"},{\"attributes\":{},\"id\":\"1098\",\"type\":\"BasicTicker\"},{\"attributes\":{\"plot\":{\"id\":\"1087\",\"subtype\":\"Figure\",\"type\":\"Plot\"},\"ticker\":{\"id\":\"1098\",\"type\":\"BasicTicker\"}},\"id\":\"1101\",\"type\":\"Grid\"},{\"attributes\":{},\"id\":\"1042\",\"type\":\"BasicTickFormatter\"},{\"attributes\":{\"plot\":{\"id\":\"1048\",\"subtype\":\"Figure\",\"type\":\"Plot\"},\"ticker\":{\"id\":\"1059\",\"type\":\"BasicTicker\"}},\"id\":\"1062\",\"type\":\"Grid\"},{\"attributes\":{\"axis_label\":\"Porcentagem de mulheres no curso\",\"formatter\":{\"id\":\"1120\",\"type\":\"BasicTickFormatter\"},\"plot\":{\"id\":\"1087\",\"subtype\":\"Figure\",\"type\":\"Plot\"},\"ticker\":{\"id\":\"1103\",\"type\":\"BasicTicker\"}},\"id\":\"1102\",\"type\":\"LinearAxis\"},{\"attributes\":{},\"id\":\"1237\",\"type\":\"Selection\"},{\"attributes\":{\"label\":{\"field\":\"area\"},\"renderers\":[{\"id\":\"1037\",\"type\":\"GlyphRenderer\"}]},\"id\":\"1045\",\"type\":\"LegendItem\"},{\"attributes\":{\"items\":[{\"id\":\"1045\",\"type\":\"LegendItem\"}],\"location\":\"center\",\"plot\":{\"id\":\"1009\",\"subtype\":\"Figure\",\"type\":\"Plot\"}},\"id\":\"1046\",\"type\":\"Legend\"},{\"attributes\":{},\"id\":\"1103\",\"type\":\"BasicTicker\"},{\"attributes\":{\"below\":[{\"id\":\"1136\",\"type\":\"LinearAxis\"}],\"left\":[{\"id\":\"1141\",\"type\":\"LinearAxis\"}],\"plot_width\":800,\"renderers\":[{\"id\":\"1136\",\"type\":\"LinearAxis\"},{\"id\":\"1140\",\"type\":\"Grid\"},{\"id\":\"1141\",\"type\":\"LinearAxis\"},{\"id\":\"1145\",\"type\":\"Grid\"},{\"id\":\"1161\",\"type\":\"Legend\"},{\"id\":\"1154\",\"type\":\"GlyphRenderer\"},{\"id\":\"1163\",\"type\":\"Legend\"}],\"right\":[{\"id\":\"1163\",\"type\":\"Legend\"}],\"title\":{\"id\":\"1125\",\"type\":\"Title\"},\"toolbar\":{\"id\":\"1148\",\"type\":\"Toolbar\"},\"x_range\":{\"id\":\"1128\",\"type\":\"Range1d\"},\"x_scale\":{\"id\":\"1132\",\"type\":\"LinearScale\"},\"y_range\":{\"id\":\"1130\",\"type\":\"Range1d\"},\"y_scale\":{\"id\":\"1134\",\"type\":\"LinearScale\"}},\"id\":\"1126\",\"subtype\":\"Figure\",\"type\":\"Plot\"},{\"attributes\":{\"dimension\":1,\"plot\":{\"id\":\"1087\",\"subtype\":\"Figure\",\"type\":\"Plot\"},\"ticker\":{\"id\":\"1103\",\"type\":\"BasicTicker\"}},\"id\":\"1106\",\"type\":\"Grid\"},{\"attributes\":{\"items\":[{\"id\":\"1123\",\"type\":\"LegendItem\"}],\"plot\":{\"id\":\"1087\",\"subtype\":\"Figure\",\"type\":\"Plot\"},\"visible\":false},\"id\":\"1122\",\"type\":\"Legend\"},{\"attributes\":{},\"id\":\"1232\",\"type\":\"UnionRenderers\"},{\"attributes\":{\"plot\":null,\"text\":\"RELA\\u00c7\\u00c3O ENTRE RA\\u00c7A/COR E G\\u00caNERO NOS CURSOS\"},\"id\":\"1047\",\"type\":\"Title\"},{\"attributes\":{\"callback\":null},\"id\":\"1050\",\"type\":\"Range1d\"},{\"attributes\":{\"callback\":null,\"tooltips\":[[\"curso\",\"@curso\"],[\"ind\\u00edgenos\",\"@x{%0.2f}\"],[\"mulheres\",\"@y{%0.2f}\"]]},\"id\":\"1107\",\"type\":\"HoverTool\"},{\"attributes\":{\"callback\":null},\"id\":\"1052\",\"type\":\"Range1d\"},{\"attributes\":{},\"id\":\"1108\",\"type\":\"SaveTool\"},{\"attributes\":{},\"id\":\"1238\",\"type\":\"UnionRenderers\"},{\"attributes\":{\"active_drag\":\"auto\",\"active_inspect\":\"auto\",\"active_multi\":null,\"active_scroll\":\"auto\",\"active_tap\":\"auto\",\"tools\":[{\"id\":\"1107\",\"type\":\"HoverTool\"},{\"id\":\"1108\",\"type\":\"SaveTool\"}]},\"id\":\"1109\",\"type\":\"Toolbar\"}],\"root_ids\":[\"1203\"]},\"title\":\"Bokeh Application\",\"version\":\"1.0.4\"}};\n",
              "  var render_items = [{\"docid\":\"65172329-5b19-4597-a2eb-0ce517c4f259\",\"roots\":{\"1203\":\"75277db5-8116-4d6e-bcdf-44dd53b7ff00\"}}];\n",
              "  root.Bokeh.embed.embed_items_notebook(docs_json, render_items);\n",
              "\n",
              "  }\n",
              "  if (root.Bokeh !== undefined) {\n",
              "    embed_document(root);\n",
              "  } else {\n",
              "    var attempts = 0;\n",
              "    var timer = setInterval(function(root) {\n",
              "      if (root.Bokeh !== undefined) {\n",
              "        embed_document(root);\n",
              "        clearInterval(timer);\n",
              "      }\n",
              "      attempts++;\n",
              "      if (attempts > 100) {\n",
              "        console.log(\"Bokeh: ERROR: Unable to run BokehJS code because BokehJS library is missing\");\n",
              "        clearInterval(timer);\n",
              "      }\n",
              "    }, 10, root)\n",
              "  }\n",
              "})(window);"
            ],
            "application/vnd.bokehjs_exec.v0+json": ""
          },
          "metadata": {
            "tags": [],
            "application/vnd.bokehjs_exec.v0+json": {
              "id": "1203"
            }
          }
        }
      ]
    },
    {
      "metadata": {
        "id": "jCXHDFhqbTej",
        "colab_type": "text"
      },
      "cell_type": "markdown",
      "source": [
        "## O que mudou?"
      ]
    },
    {
      "metadata": {
        "id": "fbhqnYRabYGZ",
        "colab_type": "text"
      },
      "cell_type": "markdown",
      "source": [
        "## Como estamos em relação ao Brasil?"
      ]
    }
  ]
}